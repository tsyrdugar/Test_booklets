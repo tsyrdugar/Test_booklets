{
 "cells": [
  {
   "cell_type": "code",
   "execution_count": 2,
   "id": "unavailable-wrestling",
   "metadata": {},
   "outputs": [],
   "source": [
    "# подключаем необходимые для анализа библиотеки\n",
    "import pandas as pd\n",
    "import seaborn as sns\n",
    "import matplotlib.pyplot as plt\n",
    "sns.set(rc={'figure.figsize' : (40, 9) }, style='whitegrid')"
   ]
  },
  {
   "cell_type": "code",
   "execution_count": 3,
   "id": "breeding-reality",
   "metadata": {},
   "outputs": [],
   "source": [
    "# экспортируем данные из экселя в питон и создаем датафрейм claims\n",
    "claims = pd.read_excel('/Users/tsyrdugar/Downloads/Претензии (июнь 2021).xlsx')"
   ]
  },
  {
   "cell_type": "code",
   "execution_count": 4,
   "id": "pointed-scotland",
   "metadata": {},
   "outputs": [
    {
     "data": {
      "text/plain": [
       "(544, 16)"
      ]
     },
     "execution_count": 4,
     "metadata": {},
     "output_type": "execute_result"
    }
   ],
   "source": [
    "# считаем количество строк и столбцов из датафрейма claims\n",
    "claims.shape"
   ]
  },
  {
   "cell_type": "code",
   "execution_count": 5,
   "id": "personal-magnitude",
   "metadata": {},
   "outputs": [],
   "source": [
    "# переименовываем название колонок для удобства чтения \n",
    "claims.rename({'[$Обращение].[Номер обращения]' : 'номер_обращения',\n",
    "               '[$Обращение].[Класс обращения согласно МС]' : 'класс_обращения',\n",
    "               '[$Обращение].[Продукт обращения согласно МС]' : 'продукт_обращения', \n",
    "               '[$Обращение].[Стрим обращения согласно МС]' : 'стрим_обращения', \n",
    "               '[$Обращение].[Группа продуктов обращения согласно МС]' : 'группа_продуктов', \n",
    "               '[$Обращение].[Тип обращения согласно МС]' : 'тип_обращения', \n",
    "               '[$Обращение].[Тематика обращения согласно МС]' : 'тематика_обращения', \n",
    "               '[$Комментарии].[Суть обращения]' : 'суть_обращения', \n",
    "               '[$Комментарии].[Итоговое заключение]' : 'итоговое_заключение', \n",
    "               '[$Блок продукта].[Блок продукта]' : 'блок_продукта', \n",
    "               '[$Канал поступления обращения].[Канал поступления обращения]' : 'канал_поступления_обращения',\n",
    "               '[$Причина обращения].[Причина обращения]' : 'причина_обращения', \n",
    "               '[$Тема обращения].[Тема обращения]' : 'тема_обращения', \n",
    "               '[$Дата регистрации обращения].[Дата]' : 'дата_регистрации_обращения', \n",
    "               '[$Дата решения по обращению].[Дата]' : 'дата_решения_обращения',\n",
    "               '[$Тема пункта обращения].[Тема пункта обращения]' : 'тема_пункта_обращения'}, axis=1, inplace=True)"
   ]
  },
  {
   "cell_type": "code",
   "execution_count": 6,
   "id": "handled-option",
   "metadata": {},
   "outputs": [
    {
     "data": {
      "text/plain": [
       "номер_обращения                object\n",
       "класс_обращения                object\n",
       "продукт_обращения              object\n",
       "стрим_обращения                object\n",
       "группа_продуктов               object\n",
       "тип_обращения                  object\n",
       "тематика_обращения             object\n",
       "суть_обращения                 object\n",
       "итоговое_заключение            object\n",
       "блок_продукта                  object\n",
       "канал_поступления_обращения    object\n",
       "причина_обращения              object\n",
       "тема_обращения                 object\n",
       "дата_регистрации_обращения     object\n",
       "дата_решения_обращения         object\n",
       "тема_пункта_обращения          object\n",
       "dtype: object"
      ]
     },
     "execution_count": 6,
     "metadata": {},
     "output_type": "execute_result"
    }
   ],
   "source": [
    "# типы данные у колонок claims\n",
    "claims.dtypes"
   ]
  },
  {
   "cell_type": "code",
   "execution_count": 7,
   "id": "political-poultry",
   "metadata": {},
   "outputs": [],
   "source": [
    "# меняем типы данные у \"дата_регистрации_обращения\" и \"дата_решения_обращения\"\n",
    "claims['дата_регистрации_обращения'] = pd.to_datetime(claims['дата_регистрации_обращения'], dayfirst=True)\n",
    "claims['дата_решения_обращения'] = pd.to_datetime(claims['дата_решения_обращения'], dayfirst=True)"
   ]
  },
  {
   "cell_type": "code",
   "execution_count": 8,
   "id": "visible-penguin",
   "metadata": {},
   "outputs": [
    {
     "data": {
      "text/plain": [
       "0     2021-06-17\n",
       "1     2021-06-16\n",
       "2     2021-06-18\n",
       "3     2021-06-16\n",
       "4     2021-06-18\n",
       "         ...    \n",
       "539   2021-05-31\n",
       "540   2021-06-09\n",
       "541   2021-06-23\n",
       "542   2021-06-04\n",
       "543   2021-06-10\n",
       "Name: дата_регистрации_обращения, Length: 544, dtype: datetime64[ns]"
      ]
     },
     "execution_count": 8,
     "metadata": {},
     "output_type": "execute_result"
    }
   ],
   "source": [
    "claims['дата_регистрации_обращения']"
   ]
  },
  {
   "cell_type": "code",
   "execution_count": 9,
   "id": "substantial-update",
   "metadata": {},
   "outputs": [
    {
     "data": {
      "text/plain": [
       "Timestamp('2021-05-12 00:00:00')"
      ]
     },
     "execution_count": 9,
     "metadata": {},
     "output_type": "execute_result"
    }
   ],
   "source": [
    "# дата регистрации первого обращения\n",
    "claims['дата_регистрации_обращения'].min()"
   ]
  },
  {
   "cell_type": "code",
   "execution_count": 10,
   "id": "intimate-allen",
   "metadata": {},
   "outputs": [
    {
     "data": {
      "text/plain": [
       "Timestamp('2021-06-01 00:00:00')"
      ]
     },
     "execution_count": 10,
     "metadata": {},
     "output_type": "execute_result"
    }
   ],
   "source": [
    "# дата решения первого обращения\n",
    "claims['дата_решения_обращения'].min()"
   ]
  },
  {
   "cell_type": "code",
   "execution_count": 11,
   "id": "instructional-proposal",
   "metadata": {},
   "outputs": [
    {
     "data": {
      "text/plain": [
       "Timestamp('2021-06-30 00:00:00')"
      ]
     },
     "execution_count": 11,
     "metadata": {},
     "output_type": "execute_result"
    }
   ],
   "source": [
    "# дата регистрации последнего обращения\n",
    "claims['дата_регистрации_обращения'].max()"
   ]
  },
  {
   "cell_type": "code",
   "execution_count": 12,
   "id": "shared-invalid",
   "metadata": {},
   "outputs": [
    {
     "data": {
      "text/plain": [
       "Timestamp('2021-06-30 00:00:00')"
      ]
     },
     "execution_count": 12,
     "metadata": {},
     "output_type": "execute_result"
    }
   ],
   "source": [
    "# дата решения последнего обращения\n",
    "claims['дата_решения_обращения'].max()"
   ]
  },
  {
   "cell_type": "code",
   "execution_count": 13,
   "id": "permanent-highway",
   "metadata": {},
   "outputs": [],
   "source": [
    "# меняем тип данных у \"дата_регистрации_обращения\" и \"дата_решения_обращения\"\n",
    "claims['дата_регистрации_обращения'] = claims['дата_регистрации_обращения'].apply(pd.to_datetime)\n",
    "claims['дата_решения_обращения'] = claims['дата_решения_обращения'].apply(pd.to_datetime)"
   ]
  },
  {
   "cell_type": "code",
   "execution_count": 14,
   "id": "directed-slovakia",
   "metadata": {},
   "outputs": [],
   "source": [
    "# создаем колонку \"разница_в_днях_в_решении_обращения\"\n",
    "claims['разница_в_днях_в_решении_обращения'] = (claims['дата_решения_обращения'] - claims['дата_регистрации_обращения']).dt.days"
   ]
  },
  {
   "cell_type": "code",
   "execution_count": 15,
   "id": "exterior-lightweight",
   "metadata": {},
   "outputs": [
    {
     "data": {
      "text/plain": [
       "2.3823529411764706"
      ]
     },
     "execution_count": 15,
     "metadata": {},
     "output_type": "execute_result"
    }
   ],
   "source": [
    "# среднее время обработки претезий\n",
    "claims['разница_в_днях_в_решении_обращения'].mean()"
   ]
  },
  {
   "cell_type": "code",
   "execution_count": 16,
   "id": "varied-cargo",
   "metadata": {},
   "outputs": [
    {
     "data": {
      "text/plain": [
       "1.0"
      ]
     },
     "execution_count": 16,
     "metadata": {},
     "output_type": "execute_result"
    }
   ],
   "source": [
    "# медианное значение времени обратки претензий\n",
    "claims['разница_в_днях_в_решении_обращения'].median()"
   ]
  },
  {
   "cell_type": "code",
   "execution_count": 82,
   "id": "executive-barrier",
   "metadata": {},
   "outputs": [
    {
     "name": "stderr",
     "output_type": "stream",
     "text": [
      "/Library/Frameworks/Python.framework/Versions/3.9/lib/python3.9/site-packages/seaborn/_decorators.py:36: FutureWarning: Pass the following variable as a keyword arg: x. From version 0.12, the only valid positional argument will be `data`, and passing other arguments without an explicit keyword will result in an error or misinterpretation.\n",
      "  warnings.warn(\n"
     ]
    },
    {
     "data": {
      "text/plain": [
       "<AxesSubplot:xlabel='разница_в_днях_в_решении_обращения'>"
      ]
     },
     "execution_count": 82,
     "metadata": {},
     "output_type": "execute_result"
    },
    {
     "data": {
      "image/png": "[encoded data removed]",
      "text/plain": [
       "<Figure size 2880x648 with 1 Axes>"
      ]
     },
     "metadata": {},
     "output_type": "display_data"
    }
   ],
   "source": [
    "# визуализация(boxplot) разницы в днях в решении обращения\n",
    "sns.boxplot(claims['разница_в_днях_в_решении_обращения'])"
   ]
  },
  {
   "cell_type": "code",
   "execution_count": 88,
   "id": "weighted-january",
   "metadata": {},
   "outputs": [
    {
     "data": {
      "text/plain": [
       "31"
      ]
     },
     "execution_count": 88,
     "metadata": {},
     "output_type": "execute_result"
    }
   ],
   "source": [
    "# количество претензий, которые обрабатывались больше значения верхней границы \"усов\", то есть больше 7 дней\n",
    "claims.query('разница_в_днях_в_решении_обращения >=7').shape[0]"
   ]
  },
  {
   "cell_type": "code",
   "execution_count": 110,
   "id": "mediterranean-inspiration",
   "metadata": {},
   "outputs": [
    {
     "data": {
      "text/html": [
       "<div>\n",
       "<style scoped>\n",
       "    .dataframe tbody tr th:only-of-type {\n",
       "        vertical-align: middle;\n",
       "    }\n",
       "\n",
       "    .dataframe tbody tr th {\n",
       "        vertical-align: top;\n",
       "    }\n",
       "\n",
       "    .dataframe thead th {\n",
       "        text-align: right;\n",
       "    }\n",
       "</style>\n",
       "<table border=\"1\" class=\"dataframe\">\n",
       "  <thead>\n",
       "    <tr style=\"text-align: right;\">\n",
       "      <th></th>\n",
       "      <th>тема_обращения</th>\n",
       "      <th>количество_обращений</th>\n",
       "    </tr>\n",
       "  </thead>\n",
       "  <tbody>\n",
       "    <tr>\n",
       "      <th>0</th>\n",
       "      <td>КОМИССИИ/ТАРИФЫ</td>\n",
       "      <td>22</td>\n",
       "    </tr>\n",
       "    <tr>\n",
       "      <th>3</th>\n",
       "      <td>УСЛУГИ / ЭКВАЙРИНГ</td>\n",
       "      <td>6</td>\n",
       "    </tr>\n",
       "    <tr>\n",
       "      <th>2</th>\n",
       "      <td>УСЛУГИ / КЛУБ КЛИЕНТОВ</td>\n",
       "      <td>2</td>\n",
       "    </tr>\n",
       "    <tr>\n",
       "      <th>1</th>\n",
       "      <td>УКД (ТЕХ. ПРОБЛЕМА) / СМС-ИНФОРМИРОВАНИЕ</td>\n",
       "      <td>1</td>\n",
       "    </tr>\n",
       "  </tbody>\n",
       "</table>\n",
       "</div>"
      ],
      "text/plain": [
       "                             тема_обращения  количество_обращений\n",
       "0                           КОМИССИИ/ТАРИФЫ                    22\n",
       "3                        УСЛУГИ / ЭКВАЙРИНГ                     6\n",
       "2                    УСЛУГИ / КЛУБ КЛИЕНТОВ                     2\n",
       "1  УКД (ТЕХ. ПРОБЛЕМА) / СМС-ИНФОРМИРОВАНИЕ                     1"
      ]
     },
     "execution_count": 110,
     "metadata": {},
     "output_type": "execute_result"
    }
   ],
   "source": [
    "# \"обращения-выбросы\", которые обрабатывались больше 7 дней и сгруппированы по темам\n",
    "claims.query('разница_в_днях_в_решении_обращения >=7') \\\n",
    "    .groupby('тема_обращения', as_index=False) \\\n",
    "    .agg({'номер_обращения' : 'count'}) \\\n",
    "    .rename({'номер_обращения' : 'количество_обращений'}, axis=1) \\\n",
    "    .sort_values('количество_обращений', ascending=False) "
   ]
  },
  {
   "cell_type": "code",
   "execution_count": 79,
   "id": "right-marshall",
   "metadata": {},
   "outputs": [
    {
     "data": {
      "text/plain": [
       "42"
      ]
     },
     "execution_count": 79,
     "metadata": {},
     "output_type": "execute_result"
    }
   ],
   "source": [
    "# обращение, которое решалось больше всего времени - 42 дня. \n",
    "claims['разница_в_днях_в_решении_обращения'].max()"
   ]
  },
  {
   "cell_type": "code",
   "execution_count": 80,
   "id": "offshore-baltimore",
   "metadata": {},
   "outputs": [
    {
     "data": {
      "text/plain": [
       "465"
      ]
     },
     "execution_count": 80,
     "metadata": {},
     "output_type": "execute_result"
    }
   ],
   "source": [
    "# индекс этого обращения\n",
    "claims['разница_в_днях_в_решении_обращения'].idxmax()"
   ]
  },
  {
   "cell_type": "code",
   "execution_count": 84,
   "id": "accompanied-catch",
   "metadata": {},
   "outputs": [
    {
     "data": {
      "text/plain": [
       "номер_обращения                                                             U2105190148\n",
       "класс_обращения                                                               ПРЕТЕНЗИЯ\n",
       "продукт_обращения                                                                   РКО\n",
       "стрим_обращения                                                           DAILY BANKING\n",
       "группа_продуктов                                                                     ПУ\n",
       "тип_обращения                                                           КЛИЕНТСКИЕ ПУТИ\n",
       "тематика_обращения                                               НЕСОГЛАСИЕ С КОМИССИЕЙ\n",
       "суть_обращения                        КЛИЕНТ УТВЕРЖДАЕТ, ЧТО НЕСОГЛАСЕН СО СПИСАННОЙ...\n",
       "итоговое_заключение                   ЗДРАВСТВУЙТЕ,ПРИМИТЕ ИЗВИНЕНИЯ ЗА ОЖИДАНИЕ ОТВ...\n",
       "блок_продукта                                                             НЕ ОПРЕДЕЛЕНО\n",
       "канал_поступления_обращения                                            ТЕЛЕФОННЫЙ ЦЕНТР\n",
       "причина_обращения                     РАСЧЕТНЫЙ СЧЁТ / ЗАЧИСЛЕНИЕ В ВАЛЮТЕ РФ / ПУ 1...\n",
       "тема_обращения                                                          КОМИССИИ/ТАРИФЫ\n",
       "дата_регистрации_обращения                                                   2021-05-19\n",
       "дата_решения_обращения                                                       2021-06-30\n",
       "тема_пункта_обращения                                                   КОМИССИИ/ТАРИФЫ\n",
       "разница_в_днях_в_решении_обращения                                                   42\n",
       "день_недели_регистрации_обращения                                             Wednesday\n",
       "день_недели_решения_обращения                                                 Wednesday\n",
       "Name: 465, dtype: object"
      ]
     },
     "execution_count": 84,
     "metadata": {},
     "output_type": "execute_result"
    }
   ],
   "source": [
    "# полная информация об этом обращении\n",
    "claims.iloc[465]"
   ]
  },
  {
   "cell_type": "code",
   "execution_count": 85,
   "id": "raising-respect",
   "metadata": {},
   "outputs": [
    {
     "data": {
      "text/plain": [
       "'КЛИЕНТ УТВЕРЖДАЕТ, ЧТО НЕСОГЛАСЕН СО СПИСАННОЙ КОМИССИЕЙ, ПРОСИТ ПРОИЗВЕСТИ ВОЗМЕЩЕНИЕ СРЕДСТВ ЗА ПЕРИОД С 13.05.2021 ПО 19.05.2021 В РАЗМЕРЕ 91700.00 RUR.ДОБРЫЙ ДЕНЬ! КЛИЕНТ РАНЕЕ СОСТАВЛЯЛ ПРЕТЕНЗИЮ №U21**40111. С ОТВЕТОМ ПО ДАННОЙ ПРЕТЕНЗИИ КЛИЕНТ НЕ СОГЛАСЕН, ТК СОТРУДНИК БАНКА  ВОРОТЬКО ТАТЬЯНА ЮРЬЕВНА НЕ СООБЩИЛИ О ТОМ, ЧТО КОМИССИЯ ЗА ЗАЧИСЛЕНИЕ  СОСТАВЛЯЕТ ОТ 1% ДО 3% В ЗАВИСИМОСТИ ОТ СУММАРНОГО ОБЪЕМА СУММЫ ЗАЧИСЛЕНИЯ.С КЛИЕНТА СПИСАЛИ КОМИССИЮ В РАЗМЕРЕ 91 700,00. КЛИЕНТ ПОВТОРНО ОБРАЩАЕТСЯ СООБЩАЕТ, ЧТО С НИМ СВЯЗИ НЕ БЫЛО ПРОСИТ ВЕРНУТЬ ДАННУЮ СУММУ, ОТВЕТ НА ДАННУЮ РАНЕЕ ДОПРЕТЕНЗИОНУЮ РАБОТУ БЫЛ ПРЕДОСТАВЛЕН ЧТО ВОПРОС УРЕГУЛИРОВАН НА САМОМ ДЕЛЕ ЭТО НЕ ТАК. ПРОСЬБА РАЗОБРАТЬСЯ С ДАННЫМ ВОПРОСОМ И СВЯЗАТЬСЯ С КЛИЕНТОМ.КЛИЕНТ СООБЩАЕТ, ЧТО В СЛУЧАЕ НЕ РЕШЕНИЯ ДАННОГО ВОПРОСА ОН ЗАКРОЕТ РАСЧЕТНЫЙ СЧЕТ В БАНКЕ. КЛИЕНТ УЖЕ НАПРАВИЛА ЗАПРОС В ЦБ И В ДАЛЬНЕЙШЕМ БУДЕТ ОБРАЩАТЬСЯ В ПОЛИЦИЮ. ТАК ЖЕ КЛИЕНТ ПРОСИТ ПОДНЯТЬ ЗВОНКИ И НАЙТИ ТОТ ЗВОНОК В КОТОРОМ КЛИЕНТУ ЗВОНИЛ РУКОВОДИТЕЛЬ И ОНИ  УРЕГУЛИРОВАЛИ ДАННЫЙ ВОПРОС.ДОБРЫЙ ДЕНЬ , СООБЩИТЕ ПОЖАЛУЙСТА СТАДИЮ РАССМОТРЕНИЯ ОБРАЩЕНИЯ № U2105190148'"
      ]
     },
     "execution_count": 85,
     "metadata": {},
     "output_type": "execute_result"
    }
   ],
   "source": [
    "# суть обращения\n",
    "claims.iloc[465]['суть_обращения']"
   ]
  },
  {
   "cell_type": "code",
   "execution_count": 86,
   "id": "julian-paraguay",
   "metadata": {},
   "outputs": [
    {
     "data": {
      "text/plain": [
       "'ЗДРАВСТВУЙТЕ,ПРИМИТЕ ИЗВИНЕНИЯ ЗА ОЖИДАНИЕ ОТВЕТА.ПОЗИЦИЯ БАНКА ПО ДАННОМУ ВОПРОСУ БЫЛА ИЗЛОЖЕНА РАНЕЕ В ОТВЕТЕ НА ОБРАЩЕНИЕ №U2105140111 И НА ТЕКУЩИЙ МОМЕНТ ОНА НЕ ИЗМЕНИЛАСЬ.СЧЕТ ОТКРЫТ 18.09.2020 ПО УСЛОВИЯМ ТАРИФА \"ПРОСТО 1%\" НА ОСНОВАНИИ ПОДТВЕРЖДЕНИЯ О ПРИСОЕДИНЕНИИ И ПОДКЛЮЧЕНИИ УСЛУГ.ПРИ ПОДПИСАНИИ ПОДТВЕРЖДЕНИЯ О ПРИСОЕДИНЕНИИ К ДОГОВОРУ РКО КЛИЕНТ ПОДТВЕРДИЛ, ЧТО ОЗНАКОМИЛСЯ С УСЛОВИЯМИ ДОГОВОРА РКО И ТАРИФАМИ БАНКА И ОБЯЗАЛСЯ ИХ ВЫПОЛНЯТЬКОМИССИЯ СПИСАНА КОРРЕКТНО СОГЛАСНО П.2.3.1. УСЛОВИЙ ВАШЕГО ТАРИФА, ОНА СОСТАВЛЯЕТ ОТ 1% ДО 3% В ЗАВИСИМОСТИ ОТ СУММАРНОГО ОБЪЕМА СУММЫ ЗАЧИСЛЕНИЯ.С УВАЖЕНИЕМ,АЛЬФА-БАНК'"
      ]
     },
     "execution_count": 86,
     "metadata": {},
     "output_type": "execute_result"
    }
   ],
   "source": [
    "# итоговое заключение этого обращения\n",
    "claims.iloc[465]['итоговое_заключение']"
   ]
  },
  {
   "cell_type": "code",
   "execution_count": 95,
   "id": "limited-harvard",
   "metadata": {},
   "outputs": [],
   "source": [
    "# датафрейм с выбросами\n",
    "outliers = claims.query('разница_в_днях_в_решении_обращения >=7')"
   ]
  },
  {
   "cell_type": "code",
   "execution_count": 96,
   "id": "promotional-helena",
   "metadata": {},
   "outputs": [
    {
     "data": {
      "text/html": [
       "<div>\n",
       "<style scoped>\n",
       "    .dataframe tbody tr th:only-of-type {\n",
       "        vertical-align: middle;\n",
       "    }\n",
       "\n",
       "    .dataframe tbody tr th {\n",
       "        vertical-align: top;\n",
       "    }\n",
       "\n",
       "    .dataframe thead th {\n",
       "        text-align: right;\n",
       "    }\n",
       "</style>\n",
       "<table border=\"1\" class=\"dataframe\">\n",
       "  <thead>\n",
       "    <tr style=\"text-align: right;\">\n",
       "      <th></th>\n",
       "      <th>номер_обращения</th>\n",
       "      <th>класс_обращения</th>\n",
       "      <th>продукт_обращения</th>\n",
       "      <th>стрим_обращения</th>\n",
       "      <th>группа_продуктов</th>\n",
       "      <th>тип_обращения</th>\n",
       "      <th>тематика_обращения</th>\n",
       "      <th>суть_обращения</th>\n",
       "      <th>итоговое_заключение</th>\n",
       "      <th>блок_продукта</th>\n",
       "      <th>канал_поступления_обращения</th>\n",
       "      <th>причина_обращения</th>\n",
       "      <th>тема_обращения</th>\n",
       "      <th>дата_регистрации_обращения</th>\n",
       "      <th>дата_решения_обращения</th>\n",
       "      <th>тема_пункта_обращения</th>\n",
       "      <th>разница_в_днях_в_решении_обращения</th>\n",
       "      <th>день_недели_регистрации_обращения</th>\n",
       "      <th>день_недели_решения_обращения</th>\n",
       "    </tr>\n",
       "  </thead>\n",
       "  <tbody>\n",
       "    <tr>\n",
       "      <th>5</th>\n",
       "      <td>U2106110034</td>\n",
       "      <td>ЖАЛОБА</td>\n",
       "      <td>НЕФИНАНСОВЫЕ СЕРВИСЫ</td>\n",
       "      <td>DAILY BANKING</td>\n",
       "      <td>КЛУБ КЛИЕНТОВ</td>\n",
       "      <td>КЛИЕНТСКИЕ ПУТИ</td>\n",
       "      <td>ПРОБЛЕМЫ ПРИ ИСПОЛЬЗОВАНИИ СЕРВИСА</td>\n",
       "      <td>У КЛИЕНТА НЕТ ПРОСОКОДА НА ПОДКЛЮЧЕНИЕ РЕЛАМНО...</td>\n",
       "      <td>ЗДРАВСТВУЙТЕ!СПАСИБО, ЧТО НАПИСАЛИ НАМ О СИТУА...</td>\n",
       "      <td>НЕ ОПРЕДЕЛЕНО</td>\n",
       "      <td>ТЕЛЕФОННЫЙ ЦЕНТР</td>\n",
       "      <td>ОШИБКИ С ПРОМО-КОДОМ / ТЕХ. ОШИБКА</td>\n",
       "      <td>УСЛУГИ / КЛУБ КЛИЕНТОВ</td>\n",
       "      <td>2021-06-11</td>\n",
       "      <td>2021-06-18</td>\n",
       "      <td>N/D</td>\n",
       "      <td>7</td>\n",
       "      <td>Friday</td>\n",
       "      <td>Friday</td>\n",
       "    </tr>\n",
       "    <tr>\n",
       "      <th>50</th>\n",
       "      <td>U2106030149</td>\n",
       "      <td>ПРЕТЕНЗИЯ</td>\n",
       "      <td>КАРТЫ И ВЫРУЧКА</td>\n",
       "      <td>DAILY BANKING</td>\n",
       "      <td>КАРТЫ ДЛЯ БИЗНЕСА</td>\n",
       "      <td>КЛИЕНТСКИЕ ПУТИ</td>\n",
       "      <td>НЕСОГЛАСИЕ С КОМИССИЕЙ</td>\n",
       "      <td>КЛИЕНТ УТВЕРЖДАЕТ, ЧТО НЕСОГЛАСЕН СО СПИСАННОЙ...</td>\n",
       "      <td>ЗДРАВСТВУЙТЕ,ПРЕЖДЕ ВСЕГО ПРИМИТЕ ИЗВИНЕНИЯ ЗА...</td>\n",
       "      <td>НЕ ОПРЕДЕЛЕНО</td>\n",
       "      <td>KMP</td>\n",
       "      <td>КАРТА ДЛЯ БИЗНЕСА / СНЯТИЕ ПО КАРТЕ / CХЕМА РА...</td>\n",
       "      <td>КОМИССИИ/ТАРИФЫ</td>\n",
       "      <td>2021-06-03</td>\n",
       "      <td>2021-06-18</td>\n",
       "      <td>КОМИССИИ/ТАРИФЫ</td>\n",
       "      <td>15</td>\n",
       "      <td>Thursday</td>\n",
       "      <td>Friday</td>\n",
       "    </tr>\n",
       "    <tr>\n",
       "      <th>53</th>\n",
       "      <td>U2105210111</td>\n",
       "      <td>ЖАЛОБА</td>\n",
       "      <td>SMS-ИНФОРМИРОВАНИЕ</td>\n",
       "      <td>DAILY BANKING</td>\n",
       "      <td>SMS-ОПОВЕЩЕНИЕ</td>\n",
       "      <td>КЛИЕНТСКИЕ ПУТИ</td>\n",
       "      <td>СБОИ И ПРОБЛЕМЫ В РАБОТЕ</td>\n",
       "      <td>ДОБРЫЙ ДЕНЬ,КОЛЛЕГИ! У КЛИЕНТА ПОДКЛЮЧЕНА УСЛУ...</td>\n",
       "      <td>ЗДРАВСТВУЙТЕ, ГАЛИНА ЕВГЕНЬЕВНА.ПРЕЖДЕ ВСЕГО П...</td>\n",
       "      <td>НЕ ОПРЕДЕЛЕНО</td>\n",
       "      <td>ТЕЛЕФОННЫЙ ЦЕНТР</td>\n",
       "      <td>НЕКОРРЕКТНО ОТОБРАЖАЕТСЯ ОСТАТОК ПО СЧЕТУ В SM...</td>\n",
       "      <td>УКД (ТЕХ. ПРОБЛЕМА) / СМС-ИНФОРМИРОВАНИЕ</td>\n",
       "      <td>2021-05-21</td>\n",
       "      <td>2021-06-09</td>\n",
       "      <td>N/D</td>\n",
       "      <td>19</td>\n",
       "      <td>Friday</td>\n",
       "      <td>Wednesday</td>\n",
       "    </tr>\n",
       "    <tr>\n",
       "      <th>71</th>\n",
       "      <td>U2106090268</td>\n",
       "      <td>ЖАЛОБА</td>\n",
       "      <td>НЕФИНАНСОВЫЕ СЕРВИСЫ</td>\n",
       "      <td>DAILY BANKING</td>\n",
       "      <td>КЛУБ КЛИЕНТОВ</td>\n",
       "      <td>КЛИЕНТСКИЕ ПУТИ</td>\n",
       "      <td>ПРОБЛЕМЫ ПРИ ИСПОЛЬЗОВАНИИ</td>\n",
       "      <td>КОЛЛЕГИ, ДОБРЫЙ ДЕНЬ!К НАМ ОБРАТИЛСЯ КЛИЕНТ UA...</td>\n",
       "      <td>ЗДРАВСТВУЙТЕ, ВАДИМ ГЕННАДЬЕВИЧ.ПОЛУЧИЛИ ВАШЕ ...</td>\n",
       "      <td>НЕ ОПРЕДЕЛЕНО</td>\n",
       "      <td>ОТДЕЛЕНИЕ</td>\n",
       "      <td>ЛИЧНЫЙ КАБИНЕТ</td>\n",
       "      <td>УСЛУГИ / КЛУБ КЛИЕНТОВ</td>\n",
       "      <td>2021-06-09</td>\n",
       "      <td>2021-06-17</td>\n",
       "      <td>N/D</td>\n",
       "      <td>8</td>\n",
       "      <td>Wednesday</td>\n",
       "      <td>Thursday</td>\n",
       "    </tr>\n",
       "    <tr>\n",
       "      <th>103</th>\n",
       "      <td>U2106130004</td>\n",
       "      <td>ЖАЛОБА</td>\n",
       "      <td>ЭКВАЙРИНГ</td>\n",
       "      <td>ЭКВАЙРИНГ</td>\n",
       "      <td>ТОРГОВЫЙ ЭКВАЙРИНГ</td>\n",
       "      <td>КЛИЕНТСКИЕ ПУТИ</td>\n",
       "      <td>ПРОБЛЕМЫ ПРИ ОБСЛУЖИВАНИИ ПРОДУКТА</td>\n",
       "      <td>ИЗ ЗА ТОГО, ЧТО ТЕРМИНАЛ НЕ РАБОТАЕТ ПОКУПАТЕЛ...</td>\n",
       "      <td>ЗДРАВСТВУЙТЕ, МЕРИ.ВЫ ОБРАТИЛИСЬ В АЛЬФА-БАНК ...</td>\n",
       "      <td>НЕ ОПРЕДЕЛЕНО</td>\n",
       "      <td>ТЕЛЕФОННЫЙ ЦЕНТР</td>\n",
       "      <td>ОБСЛУЖИВАНИЕ И СОПРОВОЖДЕНИЕ / ДРУГОЕ</td>\n",
       "      <td>УСЛУГИ / ЭКВАЙРИНГ</td>\n",
       "      <td>2021-06-13</td>\n",
       "      <td>2021-06-20</td>\n",
       "      <td>N/D</td>\n",
       "      <td>7</td>\n",
       "      <td>Sunday</td>\n",
       "      <td>Sunday</td>\n",
       "    </tr>\n",
       "  </tbody>\n",
       "</table>\n",
       "</div>"
      ],
      "text/plain": [
       "    номер_обращения класс_обращения     продукт_обращения стрим_обращения  \\\n",
       "5       U2106110034          ЖАЛОБА  НЕФИНАНСОВЫЕ СЕРВИСЫ   DAILY BANKING   \n",
       "50      U2106030149       ПРЕТЕНЗИЯ       КАРТЫ И ВЫРУЧКА   DAILY BANKING   \n",
       "53      U2105210111          ЖАЛОБА    SMS-ИНФОРМИРОВАНИЕ   DAILY BANKING   \n",
       "71      U2106090268          ЖАЛОБА  НЕФИНАНСОВЫЕ СЕРВИСЫ   DAILY BANKING   \n",
       "103     U2106130004          ЖАЛОБА             ЭКВАЙРИНГ       ЭКВАЙРИНГ   \n",
       "\n",
       "       группа_продуктов    тип_обращения                  тематика_обращения  \\\n",
       "5         КЛУБ КЛИЕНТОВ  КЛИЕНТСКИЕ ПУТИ  ПРОБЛЕМЫ ПРИ ИСПОЛЬЗОВАНИИ СЕРВИСА   \n",
       "50    КАРТЫ ДЛЯ БИЗНЕСА  КЛИЕНТСКИЕ ПУТИ              НЕСОГЛАСИЕ С КОМИССИЕЙ   \n",
       "53       SMS-ОПОВЕЩЕНИЕ  КЛИЕНТСКИЕ ПУТИ            СБОИ И ПРОБЛЕМЫ В РАБОТЕ   \n",
       "71        КЛУБ КЛИЕНТОВ  КЛИЕНТСКИЕ ПУТИ          ПРОБЛЕМЫ ПРИ ИСПОЛЬЗОВАНИИ   \n",
       "103  ТОРГОВЫЙ ЭКВАЙРИНГ  КЛИЕНТСКИЕ ПУТИ  ПРОБЛЕМЫ ПРИ ОБСЛУЖИВАНИИ ПРОДУКТА   \n",
       "\n",
       "                                        суть_обращения  \\\n",
       "5    У КЛИЕНТА НЕТ ПРОСОКОДА НА ПОДКЛЮЧЕНИЕ РЕЛАМНО...   \n",
       "50   КЛИЕНТ УТВЕРЖДАЕТ, ЧТО НЕСОГЛАСЕН СО СПИСАННОЙ...   \n",
       "53   ДОБРЫЙ ДЕНЬ,КОЛЛЕГИ! У КЛИЕНТА ПОДКЛЮЧЕНА УСЛУ...   \n",
       "71   КОЛЛЕГИ, ДОБРЫЙ ДЕНЬ!К НАМ ОБРАТИЛСЯ КЛИЕНТ UA...   \n",
       "103  ИЗ ЗА ТОГО, ЧТО ТЕРМИНАЛ НЕ РАБОТАЕТ ПОКУПАТЕЛ...   \n",
       "\n",
       "                                   итоговое_заключение  блок_продукта  \\\n",
       "5    ЗДРАВСТВУЙТЕ!СПАСИБО, ЧТО НАПИСАЛИ НАМ О СИТУА...  НЕ ОПРЕДЕЛЕНО   \n",
       "50   ЗДРАВСТВУЙТЕ,ПРЕЖДЕ ВСЕГО ПРИМИТЕ ИЗВИНЕНИЯ ЗА...  НЕ ОПРЕДЕЛЕНО   \n",
       "53   ЗДРАВСТВУЙТЕ, ГАЛИНА ЕВГЕНЬЕВНА.ПРЕЖДЕ ВСЕГО П...  НЕ ОПРЕДЕЛЕНО   \n",
       "71   ЗДРАВСТВУЙТЕ, ВАДИМ ГЕННАДЬЕВИЧ.ПОЛУЧИЛИ ВАШЕ ...  НЕ ОПРЕДЕЛЕНО   \n",
       "103  ЗДРАВСТВУЙТЕ, МЕРИ.ВЫ ОБРАТИЛИСЬ В АЛЬФА-БАНК ...  НЕ ОПРЕДЕЛЕНО   \n",
       "\n",
       "    канал_поступления_обращения  \\\n",
       "5              ТЕЛЕФОННЫЙ ЦЕНТР   \n",
       "50                          KMP   \n",
       "53             ТЕЛЕФОННЫЙ ЦЕНТР   \n",
       "71                    ОТДЕЛЕНИЕ   \n",
       "103            ТЕЛЕФОННЫЙ ЦЕНТР   \n",
       "\n",
       "                                     причина_обращения  \\\n",
       "5                   ОШИБКИ С ПРОМО-КОДОМ / ТЕХ. ОШИБКА   \n",
       "50   КАРТА ДЛЯ БИЗНЕСА / СНЯТИЕ ПО КАРТЕ / CХЕМА РА...   \n",
       "53   НЕКОРРЕКТНО ОТОБРАЖАЕТСЯ ОСТАТОК ПО СЧЕТУ В SM...   \n",
       "71                                      ЛИЧНЫЙ КАБИНЕТ   \n",
       "103              ОБСЛУЖИВАНИЕ И СОПРОВОЖДЕНИЕ / ДРУГОЕ   \n",
       "\n",
       "                               тема_обращения дата_регистрации_обращения  \\\n",
       "5                      УСЛУГИ / КЛУБ КЛИЕНТОВ                 2021-06-11   \n",
       "50                            КОМИССИИ/ТАРИФЫ                 2021-06-03   \n",
       "53   УКД (ТЕХ. ПРОБЛЕМА) / СМС-ИНФОРМИРОВАНИЕ                 2021-05-21   \n",
       "71                     УСЛУГИ / КЛУБ КЛИЕНТОВ                 2021-06-09   \n",
       "103                        УСЛУГИ / ЭКВАЙРИНГ                 2021-06-13   \n",
       "\n",
       "    дата_решения_обращения тема_пункта_обращения  \\\n",
       "5               2021-06-18                   N/D   \n",
       "50              2021-06-18       КОМИССИИ/ТАРИФЫ   \n",
       "53              2021-06-09                   N/D   \n",
       "71              2021-06-17                   N/D   \n",
       "103             2021-06-20                   N/D   \n",
       "\n",
       "     разница_в_днях_в_решении_обращения день_недели_регистрации_обращения  \\\n",
       "5                                     7                            Friday   \n",
       "50                                   15                          Thursday   \n",
       "53                                   19                            Friday   \n",
       "71                                    8                         Wednesday   \n",
       "103                                   7                            Sunday   \n",
       "\n",
       "    день_недели_решения_обращения  \n",
       "5                          Friday  \n",
       "50                         Friday  \n",
       "53                      Wednesday  \n",
       "71                       Thursday  \n",
       "103                        Sunday  "
      ]
     },
     "execution_count": 96,
     "metadata": {},
     "output_type": "execute_result"
    }
   ],
   "source": [
    "outliers.head()"
   ]
  },
  {
   "cell_type": "code",
   "execution_count": 108,
   "id": "massive-calendar",
   "metadata": {},
   "outputs": [
    {
     "data": {
      "text/html": [
       "<div>\n",
       "<style scoped>\n",
       "    .dataframe tbody tr th:only-of-type {\n",
       "        vertical-align: middle;\n",
       "    }\n",
       "\n",
       "    .dataframe tbody tr th {\n",
       "        vertical-align: top;\n",
       "    }\n",
       "\n",
       "    .dataframe thead th {\n",
       "        text-align: right;\n",
       "    }\n",
       "</style>\n",
       "<table border=\"1\" class=\"dataframe\">\n",
       "  <thead>\n",
       "    <tr style=\"text-align: right;\">\n",
       "      <th></th>\n",
       "      <th>тематика_обращения</th>\n",
       "      <th>количество_обращений</th>\n",
       "    </tr>\n",
       "  </thead>\n",
       "  <tbody>\n",
       "    <tr>\n",
       "      <th>0</th>\n",
       "      <td>НЕСОГЛАСИЕ С КОМИССИЕЙ</td>\n",
       "      <td>22</td>\n",
       "    </tr>\n",
       "    <tr>\n",
       "      <th>1</th>\n",
       "      <td>ПРОБЛЕМЫ ПРИ ИСПОЛЬЗОВАНИИ</td>\n",
       "      <td>1</td>\n",
       "    </tr>\n",
       "    <tr>\n",
       "      <th>2</th>\n",
       "      <td>ПРОБЛЕМЫ ПРИ ИСПОЛЬЗОВАНИИ СЕРВИСА</td>\n",
       "      <td>1</td>\n",
       "    </tr>\n",
       "    <tr>\n",
       "      <th>3</th>\n",
       "      <td>ПРОБЛЕМЫ ПРИ ОБСЛУЖИВАНИИ ПРОДУКТА</td>\n",
       "      <td>6</td>\n",
       "    </tr>\n",
       "    <tr>\n",
       "      <th>4</th>\n",
       "      <td>СБОИ И ПРОБЛЕМЫ В РАБОТЕ</td>\n",
       "      <td>1</td>\n",
       "    </tr>\n",
       "  </tbody>\n",
       "</table>\n",
       "</div>"
      ],
      "text/plain": [
       "                   тематика_обращения  количество_обращений\n",
       "0              НЕСОГЛАСИЕ С КОМИССИЕЙ                    22\n",
       "1          ПРОБЛЕМЫ ПРИ ИСПОЛЬЗОВАНИИ                     1\n",
       "2  ПРОБЛЕМЫ ПРИ ИСПОЛЬЗОВАНИИ СЕРВИСА                     1\n",
       "3  ПРОБЛЕМЫ ПРИ ОБСЛУЖИВАНИИ ПРОДУКТА                     6\n",
       "4            СБОИ И ПРОБЛЕМЫ В РАБОТЕ                     1"
      ]
     },
     "execution_count": 108,
     "metadata": {},
     "output_type": "execute_result"
    }
   ],
   "source": [
    "# выбросы: количество обращений по тематике\n",
    "outliers.groupby('тематика_обращения', as_index=False) \\\n",
    "    .agg({'номер_обращения' : 'count'}) \\\n",
    "    .rename({'номер_обращения' : 'количество_обращений'}, axis=1)"
   ]
  },
  {
   "cell_type": "code",
   "execution_count": 18,
   "id": "administrative-simulation",
   "metadata": {},
   "outputs": [
    {
     "data": {
      "text/plain": [
       "<AxesSubplot:>"
      ]
     },
     "execution_count": 18,
     "metadata": {},
     "output_type": "execute_result"
    },
    {
     "data": {
      "image/png": "[encoded data removed]",
      "text/plain": [
       "<Figure size 2880x648 with 1 Axes>"
      ]
     },
     "metadata": {},
     "output_type": "display_data"
    }
   ],
   "source": [
    "# гистограмма количества регистраций обращений по дням \n",
    "claims['дата_регистрации_обращения'].hist()"
   ]
  },
  {
   "cell_type": "code",
   "execution_count": 19,
   "id": "working-memorabilia",
   "metadata": {},
   "outputs": [
    {
     "data": {
      "text/plain": [
       "<AxesSubplot:>"
      ]
     },
     "execution_count": 19,
     "metadata": {},
     "output_type": "execute_result"
    },
    {
     "data": {
      "image/png": "[encoded data removed]",
      "text/plain": [
       "<Figure size 2880x648 with 1 Axes>"
      ]
     },
     "metadata": {},
     "output_type": "display_data"
    }
   ],
   "source": [
    "# гистограмма количества решений претензий по дням \n",
    "claims['дата_решения_обращения'].hist()"
   ]
  },
  {
   "cell_type": "code",
   "execution_count": 20,
   "id": "fluid-retirement",
   "metadata": {},
   "outputs": [
    {
     "data": {
      "text/html": [
       "<div>\n",
       "<style scoped>\n",
       "    .dataframe tbody tr th:only-of-type {\n",
       "        vertical-align: middle;\n",
       "    }\n",
       "\n",
       "    .dataframe tbody tr th {\n",
       "        vertical-align: top;\n",
       "    }\n",
       "\n",
       "    .dataframe thead th {\n",
       "        text-align: right;\n",
       "    }\n",
       "</style>\n",
       "<table border=\"1\" class=\"dataframe\">\n",
       "  <thead>\n",
       "    <tr style=\"text-align: right;\">\n",
       "      <th></th>\n",
       "      <th>номер_обращения</th>\n",
       "      <th>класс_обращения</th>\n",
       "      <th>продукт_обращения</th>\n",
       "      <th>стрим_обращения</th>\n",
       "      <th>группа_продуктов</th>\n",
       "      <th>тип_обращения</th>\n",
       "      <th>тематика_обращения</th>\n",
       "      <th>суть_обращения</th>\n",
       "      <th>итоговое_заключение</th>\n",
       "      <th>блок_продукта</th>\n",
       "      <th>канал_поступления_обращения</th>\n",
       "      <th>причина_обращения</th>\n",
       "      <th>тема_обращения</th>\n",
       "      <th>дата_регистрации_обращения</th>\n",
       "      <th>дата_решения_обращения</th>\n",
       "      <th>тема_пункта_обращения</th>\n",
       "      <th>разница_в_днях_в_решении_обращения</th>\n",
       "    </tr>\n",
       "  </thead>\n",
       "  <tbody>\n",
       "    <tr>\n",
       "      <th>0</th>\n",
       "      <td>U2106170073</td>\n",
       "      <td>ЖАЛОБА</td>\n",
       "      <td>НЕФИНАНСОВЫЕ СЕРВИСЫ</td>\n",
       "      <td>DAILY BANKING</td>\n",
       "      <td>КЛУБ КЛИЕНТОВ</td>\n",
       "      <td>КЛИЕНТСКИЕ ПУТИ</td>\n",
       "      <td>ПРОБЛЕМЫ ПРИ ИСПОЛЬЗОВАНИИ СЕРВИСА</td>\n",
       "      <td>ДОБРЫЙ ДЕНЬ,ХОТЕЛИ ВОСПОЛЬЗОВАТЬСЯ ПРЕДЛОЖЕНИЕ...</td>\n",
       "      <td>ЗДРАВСТВУЙТЕ!СПАСИБО, ЧТО НАПИСАЛИ НАМ О СИТУА...</td>\n",
       "      <td>НЕ ОПРЕДЕЛЕНО</td>\n",
       "      <td>ОБРАТНАЯ СВЯЗЬ</td>\n",
       "      <td>ОШИБКИ С ПРОМО-КОДОМ / ТЕХ. ОШИБКА</td>\n",
       "      <td>УСЛУГИ / КЛУБ КЛИЕНТОВ</td>\n",
       "      <td>2021-06-17</td>\n",
       "      <td>2021-06-21</td>\n",
       "      <td>N/D</td>\n",
       "      <td>4</td>\n",
       "    </tr>\n",
       "    <tr>\n",
       "      <th>1</th>\n",
       "      <td>U2106160215</td>\n",
       "      <td>ЖАЛОБА</td>\n",
       "      <td>НЕФИНАНСОВЫЕ СЕРВИСЫ</td>\n",
       "      <td>DAILY BANKING</td>\n",
       "      <td>КЛУБ КЛИЕНТОВ</td>\n",
       "      <td>КЛИЕНТСКИЕ ПУТИ</td>\n",
       "      <td>ПРОБЛЕМЫ ПРИ ИСПОЛЬЗОВАНИИ СЕРВИСА</td>\n",
       "      <td>ЗДРАВСТВУЙТЕ! ПРОСИМ ИСПРАВИТЬ ОШИБКУ В ВАШЕМ ...</td>\n",
       "      <td>ЗДРАВСТВУЙТЕ, СВЕТЛАНА АНАТОЛЬЕВНА.СПАСИБО, ЧТ...</td>\n",
       "      <td>НЕ ОПРЕДЕЛЕНО</td>\n",
       "      <td>ОБРАТНАЯ СВЯЗЬ</td>\n",
       "      <td>ОШИБКИ С ПРОМО-КОДОМ / ТЕХ. ОШИБКА</td>\n",
       "      <td>УСЛУГИ / КЛУБ КЛИЕНТОВ</td>\n",
       "      <td>2021-06-16</td>\n",
       "      <td>2021-06-21</td>\n",
       "      <td>N/D</td>\n",
       "      <td>5</td>\n",
       "    </tr>\n",
       "    <tr>\n",
       "      <th>2</th>\n",
       "      <td>U2106180004</td>\n",
       "      <td>ЖАЛОБА</td>\n",
       "      <td>НЕФИНАНСОВЫЕ СЕРВИСЫ</td>\n",
       "      <td>DAILY BANKING</td>\n",
       "      <td>КЛУБ КЛИЕНТОВ</td>\n",
       "      <td>КЛИЕНТСКИЕ ПУТИ</td>\n",
       "      <td>ПРОБЛЕМЫ ПРИ ИСПОЛЬЗОВАНИИ СЕРВИСА</td>\n",
       "      <td>ДОБРЫЙ ДЕНЬ. ХОТЕЛИ ИСПОЛЬЗОВАТЬ СКИДКУ НА РЕК...</td>\n",
       "      <td>ЗДРАВСТВУЙТЕ!СПАСИБО, ЧТО НАПИСАЛИ НАМ О СИТУА...</td>\n",
       "      <td>НЕ ОПРЕДЕЛЕНО</td>\n",
       "      <td>ОБРАТНАЯ СВЯЗЬ</td>\n",
       "      <td>ОШИБКИ С ПРОМО-КОДОМ / ТЕХ. ОШИБКА</td>\n",
       "      <td>УСЛУГИ / КЛУБ КЛИЕНТОВ</td>\n",
       "      <td>2021-06-18</td>\n",
       "      <td>2021-06-22</td>\n",
       "      <td>N/D</td>\n",
       "      <td>4</td>\n",
       "    </tr>\n",
       "    <tr>\n",
       "      <th>3</th>\n",
       "      <td>U2106160173</td>\n",
       "      <td>ЖАЛОБА</td>\n",
       "      <td>НЕФИНАНСОВЫЕ СЕРВИСЫ</td>\n",
       "      <td>DAILY BANKING</td>\n",
       "      <td>КЛУБ КЛИЕНТОВ</td>\n",
       "      <td>КЛИЕНТСКИЕ ПУТИ</td>\n",
       "      <td>ПРОБЛЕМЫ ПРИ ИСПОЛЬЗОВАНИИ СЕРВИСА</td>\n",
       "      <td>ЗДРАВСТВУЙТЕ, МЫ НАЧАЛИ НАСТРАИВАТЬ РЕКЛАМУ, У...</td>\n",
       "      <td>ЗДРАВСТВУЙТЕ!СПАСИБО, ЧТО НАПИСАЛИ НАМ О СИТУА...</td>\n",
       "      <td>НЕ ОПРЕДЕЛЕНО</td>\n",
       "      <td>ОБРАТНАЯ СВЯЗЬ</td>\n",
       "      <td>ОШИБКИ С ПРОМО-КОДОМ / ТЕХ. ОШИБКА</td>\n",
       "      <td>УСЛУГИ / КЛУБ КЛИЕНТОВ</td>\n",
       "      <td>2021-06-16</td>\n",
       "      <td>2021-06-21</td>\n",
       "      <td>N/D</td>\n",
       "      <td>5</td>\n",
       "    </tr>\n",
       "    <tr>\n",
       "      <th>4</th>\n",
       "      <td>U2106180054</td>\n",
       "      <td>ЖАЛОБА</td>\n",
       "      <td>НЕФИНАНСОВЫЕ СЕРВИСЫ</td>\n",
       "      <td>DAILY BANKING</td>\n",
       "      <td>КЛУБ КЛИЕНТОВ</td>\n",
       "      <td>КЛИЕНТСКИЕ ПУТИ</td>\n",
       "      <td>ПРОБЛЕМЫ ПРИ ИСПОЛЬЗОВАНИИ СЕРВИСА</td>\n",
       "      <td>МНЕ БЫЛО ИНТЕРЕСНО ВАШЕ ПРЕДЛОЖЕНИЕ ОТ ВАШЕГО ...</td>\n",
       "      <td>ЗДРАВСТВУЙТЕ!СПАСИБО, ЧТО НАПИСАЛИ НАМ О СИТУА...</td>\n",
       "      <td>НЕ ОПРЕДЕЛЕНО</td>\n",
       "      <td>ОБРАТНАЯ СВЯЗЬ</td>\n",
       "      <td>ОШИБКИ С ПРОМО-КОДОМ / ТЕХ. ОШИБКА</td>\n",
       "      <td>УСЛУГИ / КЛУБ КЛИЕНТОВ</td>\n",
       "      <td>2021-06-18</td>\n",
       "      <td>2021-06-22</td>\n",
       "      <td>N/D</td>\n",
       "      <td>4</td>\n",
       "    </tr>\n",
       "  </tbody>\n",
       "</table>\n",
       "</div>"
      ],
      "text/plain": [
       "  номер_обращения класс_обращения     продукт_обращения стрим_обращения  \\\n",
       "0     U2106170073          ЖАЛОБА  НЕФИНАНСОВЫЕ СЕРВИСЫ   DAILY BANKING   \n",
       "1     U2106160215          ЖАЛОБА  НЕФИНАНСОВЫЕ СЕРВИСЫ   DAILY BANKING   \n",
       "2     U2106180004          ЖАЛОБА  НЕФИНАНСОВЫЕ СЕРВИСЫ   DAILY BANKING   \n",
       "3     U2106160173          ЖАЛОБА  НЕФИНАНСОВЫЕ СЕРВИСЫ   DAILY BANKING   \n",
       "4     U2106180054          ЖАЛОБА  НЕФИНАНСОВЫЕ СЕРВИСЫ   DAILY BANKING   \n",
       "\n",
       "  группа_продуктов    тип_обращения                  тематика_обращения  \\\n",
       "0    КЛУБ КЛИЕНТОВ  КЛИЕНТСКИЕ ПУТИ  ПРОБЛЕМЫ ПРИ ИСПОЛЬЗОВАНИИ СЕРВИСА   \n",
       "1    КЛУБ КЛИЕНТОВ  КЛИЕНТСКИЕ ПУТИ  ПРОБЛЕМЫ ПРИ ИСПОЛЬЗОВАНИИ СЕРВИСА   \n",
       "2    КЛУБ КЛИЕНТОВ  КЛИЕНТСКИЕ ПУТИ  ПРОБЛЕМЫ ПРИ ИСПОЛЬЗОВАНИИ СЕРВИСА   \n",
       "3    КЛУБ КЛИЕНТОВ  КЛИЕНТСКИЕ ПУТИ  ПРОБЛЕМЫ ПРИ ИСПОЛЬЗОВАНИИ СЕРВИСА   \n",
       "4    КЛУБ КЛИЕНТОВ  КЛИЕНТСКИЕ ПУТИ  ПРОБЛЕМЫ ПРИ ИСПОЛЬЗОВАНИИ СЕРВИСА   \n",
       "\n",
       "                                      суть_обращения  \\\n",
       "0  ДОБРЫЙ ДЕНЬ,ХОТЕЛИ ВОСПОЛЬЗОВАТЬСЯ ПРЕДЛОЖЕНИЕ...   \n",
       "1  ЗДРАВСТВУЙТЕ! ПРОСИМ ИСПРАВИТЬ ОШИБКУ В ВАШЕМ ...   \n",
       "2  ДОБРЫЙ ДЕНЬ. ХОТЕЛИ ИСПОЛЬЗОВАТЬ СКИДКУ НА РЕК...   \n",
       "3  ЗДРАВСТВУЙТЕ, МЫ НАЧАЛИ НАСТРАИВАТЬ РЕКЛАМУ, У...   \n",
       "4  МНЕ БЫЛО ИНТЕРЕСНО ВАШЕ ПРЕДЛОЖЕНИЕ ОТ ВАШЕГО ...   \n",
       "\n",
       "                                 итоговое_заключение  блок_продукта  \\\n",
       "0  ЗДРАВСТВУЙТЕ!СПАСИБО, ЧТО НАПИСАЛИ НАМ О СИТУА...  НЕ ОПРЕДЕЛЕНО   \n",
       "1  ЗДРАВСТВУЙТЕ, СВЕТЛАНА АНАТОЛЬЕВНА.СПАСИБО, ЧТ...  НЕ ОПРЕДЕЛЕНО   \n",
       "2  ЗДРАВСТВУЙТЕ!СПАСИБО, ЧТО НАПИСАЛИ НАМ О СИТУА...  НЕ ОПРЕДЕЛЕНО   \n",
       "3  ЗДРАВСТВУЙТЕ!СПАСИБО, ЧТО НАПИСАЛИ НАМ О СИТУА...  НЕ ОПРЕДЕЛЕНО   \n",
       "4  ЗДРАВСТВУЙТЕ!СПАСИБО, ЧТО НАПИСАЛИ НАМ О СИТУА...  НЕ ОПРЕДЕЛЕНО   \n",
       "\n",
       "  канал_поступления_обращения                   причина_обращения  \\\n",
       "0              ОБРАТНАЯ СВЯЗЬ  ОШИБКИ С ПРОМО-КОДОМ / ТЕХ. ОШИБКА   \n",
       "1              ОБРАТНАЯ СВЯЗЬ  ОШИБКИ С ПРОМО-КОДОМ / ТЕХ. ОШИБКА   \n",
       "2              ОБРАТНАЯ СВЯЗЬ  ОШИБКИ С ПРОМО-КОДОМ / ТЕХ. ОШИБКА   \n",
       "3              ОБРАТНАЯ СВЯЗЬ  ОШИБКИ С ПРОМО-КОДОМ / ТЕХ. ОШИБКА   \n",
       "4              ОБРАТНАЯ СВЯЗЬ  ОШИБКИ С ПРОМО-КОДОМ / ТЕХ. ОШИБКА   \n",
       "\n",
       "           тема_обращения дата_регистрации_обращения дата_решения_обращения  \\\n",
       "0  УСЛУГИ / КЛУБ КЛИЕНТОВ                 2021-06-17             2021-06-21   \n",
       "1  УСЛУГИ / КЛУБ КЛИЕНТОВ                 2021-06-16             2021-06-21   \n",
       "2  УСЛУГИ / КЛУБ КЛИЕНТОВ                 2021-06-18             2021-06-22   \n",
       "3  УСЛУГИ / КЛУБ КЛИЕНТОВ                 2021-06-16             2021-06-21   \n",
       "4  УСЛУГИ / КЛУБ КЛИЕНТОВ                 2021-06-18             2021-06-22   \n",
       "\n",
       "  тема_пункта_обращения  разница_в_днях_в_решении_обращения  \n",
       "0                   N/D                                   4  \n",
       "1                   N/D                                   5  \n",
       "2                   N/D                                   4  \n",
       "3                   N/D                                   5  \n",
       "4                   N/D                                   4  "
      ]
     },
     "execution_count": 20,
     "metadata": {},
     "output_type": "execute_result"
    }
   ],
   "source": [
    "claims.head()"
   ]
  },
  {
   "cell_type": "code",
   "execution_count": 21,
   "id": "modified-intelligence",
   "metadata": {},
   "outputs": [
    {
     "data": {
      "text/plain": [
       "array(['НЕФИНАНСОВЫЕ СЕРВИСЫ', 'РКО', 'ЭКВАЙРИНГ', 'КАРТЫ И ВЫРУЧКА',\n",
       "       'SMS-ИНФОРМИРОВАНИЕ', 'CASH-MANAGEMENT'], dtype=object)"
      ]
     },
     "execution_count": 21,
     "metadata": {},
     "output_type": "execute_result"
    }
   ],
   "source": [
    "# уникальные значения в колонке \"продукт_обращения\"\n",
    "claims['продукт_обращения'].unique()"
   ]
  },
  {
   "cell_type": "code",
   "execution_count": 22,
   "id": "afraid-shadow",
   "metadata": {},
   "outputs": [
    {
     "data": {
      "text/plain": [
       "array(['ЖАЛОБА', 'ПРЕТЕНЗИЯ'], dtype=object)"
      ]
     },
     "execution_count": 22,
     "metadata": {},
     "output_type": "execute_result"
    }
   ],
   "source": [
    "# уникальные значения в колонке \"класс_обращения\"\n",
    "claims['класс_обращения'].unique()"
   ]
  },
  {
   "cell_type": "code",
   "execution_count": 23,
   "id": "tough-singapore",
   "metadata": {},
   "outputs": [
    {
     "data": {
      "text/plain": [
       "176"
      ]
     },
     "execution_count": 23,
     "metadata": {},
     "output_type": "execute_result"
    }
   ],
   "source": [
    "# количество строк с классом обращения \"ЖАЛОБА\"\n",
    "claims.query('класс_обращения == \"ЖАЛОБА\"').shape[0]"
   ]
  },
  {
   "cell_type": "code",
   "execution_count": 24,
   "id": "hidden-trailer",
   "metadata": {},
   "outputs": [
    {
     "data": {
      "text/plain": [
       "368"
      ]
     },
     "execution_count": 24,
     "metadata": {},
     "output_type": "execute_result"
    }
   ],
   "source": [
    "# количество строк с классом обращения \"ПРЕТЕНЗИЯ\"\n",
    "claims.query('класс_обращения == \"ПРЕТЕНЗИЯ\"').shape[0]"
   ]
  },
  {
   "cell_type": "code",
   "execution_count": 25,
   "id": "typical-aircraft",
   "metadata": {},
   "outputs": [
    {
     "data": {
      "text/plain": [
       "0"
      ]
     },
     "execution_count": 25,
     "metadata": {},
     "output_type": "execute_result"
    }
   ],
   "source": [
    "# сумма пропущенные значений в колонке \"суть_обращения\"\n",
    "claims['суть_обращения'].isna().sum()"
   ]
  },
  {
   "cell_type": "code",
   "execution_count": 26,
   "id": "successful-directory",
   "metadata": {},
   "outputs": [
    {
     "data": {
      "text/plain": [
       "0"
      ]
     },
     "execution_count": 26,
     "metadata": {},
     "output_type": "execute_result"
    }
   ],
   "source": [
    "# сумма пропущенные значений в колонке \"итоговое_заключение\"\n",
    "claims['итоговое_заключение'].isna().sum()"
   ]
  },
  {
   "cell_type": "code",
   "execution_count": 27,
   "id": "cordless-transsexual",
   "metadata": {},
   "outputs": [
    {
     "data": {
      "text/plain": [
       "array(['ПРОБЛЕМЫ ПРИ ИСПОЛЬЗОВАНИИ СЕРВИСА', 'НЕСОГЛАСИЕ С КОМИССИЕЙ',\n",
       "       'ПРОБЛЕМЫ ПРИ ОБСЛУЖИВАНИИ ПРОДУКТА', 'СБОИ И ПРОБЛЕМЫ В РАБОТЕ',\n",
       "       'ПРОБЛЕМЫ ПРИ ВЫДАЧЕ/ВНЕСЕНИИ НАЛИЧНЫХ', 'ДРУГОЕ',\n",
       "       'ПРОБЛЕМЫ ПРИ ИСПОЛЬЗОВАНИИ', 'ПРОБЛЕМЫ ПРИ ОФОРМЛЕНИИ'],\n",
       "      dtype=object)"
      ]
     },
     "execution_count": 27,
     "metadata": {},
     "output_type": "execute_result"
    }
   ],
   "source": [
    "# уникальные значения в колонке \"тематика_обращения\"\n",
    "claims['тематика_обращения'].unique()"
   ]
  },
  {
   "cell_type": "code",
   "execution_count": 28,
   "id": "precise-tattoo",
   "metadata": {},
   "outputs": [
    {
     "data": {
      "text/html": [
       "<div>\n",
       "<style scoped>\n",
       "    .dataframe tbody tr th:only-of-type {\n",
       "        vertical-align: middle;\n",
       "    }\n",
       "\n",
       "    .dataframe tbody tr th {\n",
       "        vertical-align: top;\n",
       "    }\n",
       "\n",
       "    .dataframe thead th {\n",
       "        text-align: right;\n",
       "    }\n",
       "</style>\n",
       "<table border=\"1\" class=\"dataframe\">\n",
       "  <thead>\n",
       "    <tr style=\"text-align: right;\">\n",
       "      <th></th>\n",
       "      <th>тематика_обращения</th>\n",
       "      <th>количество_обращений</th>\n",
       "    </tr>\n",
       "  </thead>\n",
       "  <tbody>\n",
       "    <tr>\n",
       "      <th>1</th>\n",
       "      <td>НЕСОГЛАСИЕ С КОМИССИЕЙ</td>\n",
       "      <td>361</td>\n",
       "    </tr>\n",
       "    <tr>\n",
       "      <th>5</th>\n",
       "      <td>ПРОБЛЕМЫ ПРИ ОБСЛУЖИВАНИИ ПРОДУКТА</td>\n",
       "      <td>132</td>\n",
       "    </tr>\n",
       "    <tr>\n",
       "      <th>4</th>\n",
       "      <td>ПРОБЛЕМЫ ПРИ ИСПОЛЬЗОВАНИИ СЕРВИСА</td>\n",
       "      <td>15</td>\n",
       "    </tr>\n",
       "    <tr>\n",
       "      <th>0</th>\n",
       "      <td>ДРУГОЕ</td>\n",
       "      <td>13</td>\n",
       "    </tr>\n",
       "    <tr>\n",
       "      <th>7</th>\n",
       "      <td>СБОИ И ПРОБЛЕМЫ В РАБОТЕ</td>\n",
       "      <td>11</td>\n",
       "    </tr>\n",
       "    <tr>\n",
       "      <th>2</th>\n",
       "      <td>ПРОБЛЕМЫ ПРИ ВЫДАЧЕ/ВНЕСЕНИИ НАЛИЧНЫХ</td>\n",
       "      <td>7</td>\n",
       "    </tr>\n",
       "    <tr>\n",
       "      <th>6</th>\n",
       "      <td>ПРОБЛЕМЫ ПРИ ОФОРМЛЕНИИ</td>\n",
       "      <td>4</td>\n",
       "    </tr>\n",
       "    <tr>\n",
       "      <th>3</th>\n",
       "      <td>ПРОБЛЕМЫ ПРИ ИСПОЛЬЗОВАНИИ</td>\n",
       "      <td>1</td>\n",
       "    </tr>\n",
       "  </tbody>\n",
       "</table>\n",
       "</div>"
      ],
      "text/plain": [
       "                      тематика_обращения  количество_обращений\n",
       "1                 НЕСОГЛАСИЕ С КОМИССИЕЙ                   361\n",
       "5     ПРОБЛЕМЫ ПРИ ОБСЛУЖИВАНИИ ПРОДУКТА                   132\n",
       "4     ПРОБЛЕМЫ ПРИ ИСПОЛЬЗОВАНИИ СЕРВИСА                    15\n",
       "0                                 ДРУГОЕ                    13\n",
       "7               СБОИ И ПРОБЛЕМЫ В РАБОТЕ                    11\n",
       "2  ПРОБЛЕМЫ ПРИ ВЫДАЧЕ/ВНЕСЕНИИ НАЛИЧНЫХ                     7\n",
       "6                ПРОБЛЕМЫ ПРИ ОФОРМЛЕНИИ                     4\n",
       "3             ПРОБЛЕМЫ ПРИ ИСПОЛЬЗОВАНИИ                     1"
      ]
     },
     "execution_count": 28,
     "metadata": {},
     "output_type": "execute_result"
    }
   ],
   "source": [
    "# количество обращений по тематике обращения\n",
    "claims.groupby('тематика_обращения', as_index=False) \\\n",
    "    .agg({'номер_обращения' : 'count'}) \\\n",
    "    .sort_values('номер_обращения', ascending=False) \\\n",
    "    .rename({'номер_обращения' : 'количество_обращений'}, axis=1)"
   ]
  },
  {
   "cell_type": "code",
   "execution_count": 29,
   "id": "cutting-shade",
   "metadata": {},
   "outputs": [
    {
     "data": {
      "text/html": [
       "<div>\n",
       "<style scoped>\n",
       "    .dataframe tbody tr th:only-of-type {\n",
       "        vertical-align: middle;\n",
       "    }\n",
       "\n",
       "    .dataframe tbody tr th {\n",
       "        vertical-align: top;\n",
       "    }\n",
       "\n",
       "    .dataframe thead th {\n",
       "        text-align: right;\n",
       "    }\n",
       "</style>\n",
       "<table border=\"1\" class=\"dataframe\">\n",
       "  <thead>\n",
       "    <tr style=\"text-align: right;\">\n",
       "      <th></th>\n",
       "      <th>номер_обращения</th>\n",
       "      <th>класс_обращения</th>\n",
       "      <th>продукт_обращения</th>\n",
       "      <th>стрим_обращения</th>\n",
       "      <th>группа_продуктов</th>\n",
       "      <th>тип_обращения</th>\n",
       "      <th>тематика_обращения</th>\n",
       "      <th>суть_обращения</th>\n",
       "      <th>итоговое_заключение</th>\n",
       "      <th>блок_продукта</th>\n",
       "      <th>канал_поступления_обращения</th>\n",
       "      <th>причина_обращения</th>\n",
       "      <th>тема_обращения</th>\n",
       "      <th>дата_регистрации_обращения</th>\n",
       "      <th>дата_решения_обращения</th>\n",
       "      <th>тема_пункта_обращения</th>\n",
       "      <th>разница_в_днях_в_решении_обращения</th>\n",
       "    </tr>\n",
       "  </thead>\n",
       "  <tbody>\n",
       "    <tr>\n",
       "      <th>0</th>\n",
       "      <td>U2106170073</td>\n",
       "      <td>ЖАЛОБА</td>\n",
       "      <td>НЕФИНАНСОВЫЕ СЕРВИСЫ</td>\n",
       "      <td>DAILY BANKING</td>\n",
       "      <td>КЛУБ КЛИЕНТОВ</td>\n",
       "      <td>КЛИЕНТСКИЕ ПУТИ</td>\n",
       "      <td>ПРОБЛЕМЫ ПРИ ИСПОЛЬЗОВАНИИ СЕРВИСА</td>\n",
       "      <td>ДОБРЫЙ ДЕНЬ,ХОТЕЛИ ВОСПОЛЬЗОВАТЬСЯ ПРЕДЛОЖЕНИЕ...</td>\n",
       "      <td>ЗДРАВСТВУЙТЕ!СПАСИБО, ЧТО НАПИСАЛИ НАМ О СИТУА...</td>\n",
       "      <td>НЕ ОПРЕДЕЛЕНО</td>\n",
       "      <td>ОБРАТНАЯ СВЯЗЬ</td>\n",
       "      <td>ОШИБКИ С ПРОМО-КОДОМ / ТЕХ. ОШИБКА</td>\n",
       "      <td>УСЛУГИ / КЛУБ КЛИЕНТОВ</td>\n",
       "      <td>2021-06-17</td>\n",
       "      <td>2021-06-21</td>\n",
       "      <td>N/D</td>\n",
       "      <td>4</td>\n",
       "    </tr>\n",
       "    <tr>\n",
       "      <th>1</th>\n",
       "      <td>U2106160215</td>\n",
       "      <td>ЖАЛОБА</td>\n",
       "      <td>НЕФИНАНСОВЫЕ СЕРВИСЫ</td>\n",
       "      <td>DAILY BANKING</td>\n",
       "      <td>КЛУБ КЛИЕНТОВ</td>\n",
       "      <td>КЛИЕНТСКИЕ ПУТИ</td>\n",
       "      <td>ПРОБЛЕМЫ ПРИ ИСПОЛЬЗОВАНИИ СЕРВИСА</td>\n",
       "      <td>ЗДРАВСТВУЙТЕ! ПРОСИМ ИСПРАВИТЬ ОШИБКУ В ВАШЕМ ...</td>\n",
       "      <td>ЗДРАВСТВУЙТЕ, СВЕТЛАНА АНАТОЛЬЕВНА.СПАСИБО, ЧТ...</td>\n",
       "      <td>НЕ ОПРЕДЕЛЕНО</td>\n",
       "      <td>ОБРАТНАЯ СВЯЗЬ</td>\n",
       "      <td>ОШИБКИ С ПРОМО-КОДОМ / ТЕХ. ОШИБКА</td>\n",
       "      <td>УСЛУГИ / КЛУБ КЛИЕНТОВ</td>\n",
       "      <td>2021-06-16</td>\n",
       "      <td>2021-06-21</td>\n",
       "      <td>N/D</td>\n",
       "      <td>5</td>\n",
       "    </tr>\n",
       "  </tbody>\n",
       "</table>\n",
       "</div>"
      ],
      "text/plain": [
       "  номер_обращения класс_обращения     продукт_обращения стрим_обращения  \\\n",
       "0     U2106170073          ЖАЛОБА  НЕФИНАНСОВЫЕ СЕРВИСЫ   DAILY BANKING   \n",
       "1     U2106160215          ЖАЛОБА  НЕФИНАНСОВЫЕ СЕРВИСЫ   DAILY BANKING   \n",
       "\n",
       "  группа_продуктов    тип_обращения                  тематика_обращения  \\\n",
       "0    КЛУБ КЛИЕНТОВ  КЛИЕНТСКИЕ ПУТИ  ПРОБЛЕМЫ ПРИ ИСПОЛЬЗОВАНИИ СЕРВИСА   \n",
       "1    КЛУБ КЛИЕНТОВ  КЛИЕНТСКИЕ ПУТИ  ПРОБЛЕМЫ ПРИ ИСПОЛЬЗОВАНИИ СЕРВИСА   \n",
       "\n",
       "                                      суть_обращения  \\\n",
       "0  ДОБРЫЙ ДЕНЬ,ХОТЕЛИ ВОСПОЛЬЗОВАТЬСЯ ПРЕДЛОЖЕНИЕ...   \n",
       "1  ЗДРАВСТВУЙТЕ! ПРОСИМ ИСПРАВИТЬ ОШИБКУ В ВАШЕМ ...   \n",
       "\n",
       "                                 итоговое_заключение  блок_продукта  \\\n",
       "0  ЗДРАВСТВУЙТЕ!СПАСИБО, ЧТО НАПИСАЛИ НАМ О СИТУА...  НЕ ОПРЕДЕЛЕНО   \n",
       "1  ЗДРАВСТВУЙТЕ, СВЕТЛАНА АНАТОЛЬЕВНА.СПАСИБО, ЧТ...  НЕ ОПРЕДЕЛЕНО   \n",
       "\n",
       "  канал_поступления_обращения                   причина_обращения  \\\n",
       "0              ОБРАТНАЯ СВЯЗЬ  ОШИБКИ С ПРОМО-КОДОМ / ТЕХ. ОШИБКА   \n",
       "1              ОБРАТНАЯ СВЯЗЬ  ОШИБКИ С ПРОМО-КОДОМ / ТЕХ. ОШИБКА   \n",
       "\n",
       "           тема_обращения дата_регистрации_обращения дата_решения_обращения  \\\n",
       "0  УСЛУГИ / КЛУБ КЛИЕНТОВ                 2021-06-17             2021-06-21   \n",
       "1  УСЛУГИ / КЛУБ КЛИЕНТОВ                 2021-06-16             2021-06-21   \n",
       "\n",
       "  тема_пункта_обращения  разница_в_днях_в_решении_обращения  \n",
       "0                   N/D                                   4  \n",
       "1                   N/D                                   5  "
      ]
     },
     "execution_count": 29,
     "metadata": {},
     "output_type": "execute_result"
    }
   ],
   "source": [
    "claims.head(2)"
   ]
  },
  {
   "cell_type": "code",
   "execution_count": 30,
   "id": "remarkable-watershed",
   "metadata": {},
   "outputs": [
    {
     "data": {
      "text/plain": [
       "array(['DAILY BANKING', 'ЭКВАЙРИНГ'], dtype=object)"
      ]
     },
     "execution_count": 30,
     "metadata": {},
     "output_type": "execute_result"
    }
   ],
   "source": [
    "# уникальное значения в колонке \"стрим обращения\"\n",
    "claims['стрим_обращения'].unique()"
   ]
  },
  {
   "cell_type": "code",
   "execution_count": 31,
   "id": "breathing-likelihood",
   "metadata": {},
   "outputs": [
    {
     "data": {
      "text/html": [
       "<div>\n",
       "<style scoped>\n",
       "    .dataframe tbody tr th:only-of-type {\n",
       "        vertical-align: middle;\n",
       "    }\n",
       "\n",
       "    .dataframe tbody tr th {\n",
       "        vertical-align: top;\n",
       "    }\n",
       "\n",
       "    .dataframe thead th {\n",
       "        text-align: right;\n",
       "    }\n",
       "</style>\n",
       "<table border=\"1\" class=\"dataframe\">\n",
       "  <thead>\n",
       "    <tr style=\"text-align: right;\">\n",
       "      <th></th>\n",
       "      <th>номер_обращения</th>\n",
       "    </tr>\n",
       "    <tr>\n",
       "      <th>стрим_обращения</th>\n",
       "      <th></th>\n",
       "    </tr>\n",
       "  </thead>\n",
       "  <tbody>\n",
       "    <tr>\n",
       "      <th>DAILY BANKING</th>\n",
       "      <td>408</td>\n",
       "    </tr>\n",
       "    <tr>\n",
       "      <th>ЭКВАЙРИНГ</th>\n",
       "      <td>136</td>\n",
       "    </tr>\n",
       "  </tbody>\n",
       "</table>\n",
       "</div>"
      ],
      "text/plain": [
       "                 номер_обращения\n",
       "стрим_обращения                 \n",
       "DAILY BANKING                408\n",
       "ЭКВАЙРИНГ                    136"
      ]
     },
     "execution_count": 31,
     "metadata": {},
     "output_type": "execute_result"
    }
   ],
   "source": [
    "# количество обращений по стриму обращения \n",
    "claims.groupby('стрим_обращения').agg({'номер_обращения' : 'count'})"
   ]
  },
  {
   "cell_type": "code",
   "execution_count": 32,
   "id": "national-bumper",
   "metadata": {},
   "outputs": [
    {
     "data": {
      "text/plain": [
       "array(['КЛУБ КЛИЕНТОВ', 'ПУ', 'ТОРГОВЫЙ ЭКВАЙРИНГ', 'КАРТЫ ДЛЯ БИЗНЕСА',\n",
       "       'SMS-ОПОВЕЩЕНИЕ', 'ON-LINE ИНДИКАТОРЫ РИСКОВ'], dtype=object)"
      ]
     },
     "execution_count": 32,
     "metadata": {},
     "output_type": "execute_result"
    }
   ],
   "source": [
    "# уникальные значения в колонке 'группа продуктов'\n",
    "claims['группа_продуктов'].unique()"
   ]
  },
  {
   "cell_type": "code",
   "execution_count": 33,
   "id": "mexican-simple",
   "metadata": {},
   "outputs": [
    {
     "data": {
      "text/html": [
       "<div>\n",
       "<style scoped>\n",
       "    .dataframe tbody tr th:only-of-type {\n",
       "        vertical-align: middle;\n",
       "    }\n",
       "\n",
       "    .dataframe tbody tr th {\n",
       "        vertical-align: top;\n",
       "    }\n",
       "\n",
       "    .dataframe thead th {\n",
       "        text-align: right;\n",
       "    }\n",
       "</style>\n",
       "<table border=\"1\" class=\"dataframe\">\n",
       "  <thead>\n",
       "    <tr style=\"text-align: right;\">\n",
       "      <th></th>\n",
       "      <th>группа_продуктов</th>\n",
       "      <th>количество_обращений</th>\n",
       "    </tr>\n",
       "  </thead>\n",
       "  <tbody>\n",
       "    <tr>\n",
       "      <th>4</th>\n",
       "      <td>ПУ</td>\n",
       "      <td>294</td>\n",
       "    </tr>\n",
       "    <tr>\n",
       "      <th>5</th>\n",
       "      <td>ТОРГОВЫЙ ЭКВАЙРИНГ</td>\n",
       "      <td>136</td>\n",
       "    </tr>\n",
       "    <tr>\n",
       "      <th>2</th>\n",
       "      <td>КАРТЫ ДЛЯ БИЗНЕСА</td>\n",
       "      <td>57</td>\n",
       "    </tr>\n",
       "    <tr>\n",
       "      <th>0</th>\n",
       "      <td>ON-LINE ИНДИКАТОРЫ РИСКОВ</td>\n",
       "      <td>27</td>\n",
       "    </tr>\n",
       "    <tr>\n",
       "      <th>3</th>\n",
       "      <td>КЛУБ КЛИЕНТОВ</td>\n",
       "      <td>17</td>\n",
       "    </tr>\n",
       "    <tr>\n",
       "      <th>1</th>\n",
       "      <td>SMS-ОПОВЕЩЕНИЕ</td>\n",
       "      <td>13</td>\n",
       "    </tr>\n",
       "  </tbody>\n",
       "</table>\n",
       "</div>"
      ],
      "text/plain": [
       "            группа_продуктов  количество_обращений\n",
       "4                         ПУ                   294\n",
       "5         ТОРГОВЫЙ ЭКВАЙРИНГ                   136\n",
       "2          КАРТЫ ДЛЯ БИЗНЕСА                    57\n",
       "0  ON-LINE ИНДИКАТОРЫ РИСКОВ                    27\n",
       "3              КЛУБ КЛИЕНТОВ                    17\n",
       "1             SMS-ОПОВЕЩЕНИЕ                    13"
      ]
     },
     "execution_count": 33,
     "metadata": {},
     "output_type": "execute_result"
    }
   ],
   "source": [
    "# количество обращений по группе продуктов\n",
    "claims.groupby('группа_продуктов', as_index=False) \\\n",
    "    .agg({'номер_обращения' : 'count'}) \\\n",
    "    .sort_values('номер_обращения', ascending=False) \\\n",
    "    .rename({'номер_обращения' : 'количество_обращений'}, axis=1)"
   ]
  },
  {
   "cell_type": "code",
   "execution_count": 34,
   "id": "killing-output",
   "metadata": {},
   "outputs": [
    {
     "data": {
      "text/plain": [
       "array(['ОБРАТНАЯ СВЯЗЬ', 'ТЕЛЕФОННЫЙ ЦЕНТР', 'ИНТЕРНЕТ БАНК', 'ОТДЕЛЕНИЕ',\n",
       "       'ЧАТ \"АЛЬФА-МОБАЙЛ\"', 'KMP', 'КАНЦЕЛЯРИЯ', 'ПМ', 'ОСЛК', 'KM',\n",
       "       'УПМ', 'САЙТ WWW.BANKI.RU', 'ЦЕНТРАЛЬНЫЙ ОФИС', 'ЦБ МОСКВА',\n",
       "       'ПОЛЕВОЙ', 'УДАЛЕННЫЙ МЕНЕДЖЕР СОПРОВОЖДЕНИЯ', 'ЦБ РЕГИОНЫ'],\n",
       "      dtype=object)"
      ]
     },
     "execution_count": 34,
     "metadata": {},
     "output_type": "execute_result"
    }
   ],
   "source": [
    "# уникальные значения в колоноке \"канал поступления обращения\"\n",
    "claims['канал_поступления_обращения'].unique()"
   ]
  },
  {
   "cell_type": "code",
   "execution_count": 35,
   "id": "undefined-cement",
   "metadata": {},
   "outputs": [
    {
     "data": {
      "text/html": [
       "<div>\n",
       "<style scoped>\n",
       "    .dataframe tbody tr th:only-of-type {\n",
       "        vertical-align: middle;\n",
       "    }\n",
       "\n",
       "    .dataframe tbody tr th {\n",
       "        vertical-align: top;\n",
       "    }\n",
       "\n",
       "    .dataframe thead th {\n",
       "        text-align: right;\n",
       "    }\n",
       "</style>\n",
       "<table border=\"1\" class=\"dataframe\">\n",
       "  <thead>\n",
       "    <tr style=\"text-align: right;\">\n",
       "      <th></th>\n",
       "      <th>канал_поступления_обращения</th>\n",
       "      <th>количество_обращений</th>\n",
       "    </tr>\n",
       "  </thead>\n",
       "  <tbody>\n",
       "    <tr>\n",
       "      <th>6</th>\n",
       "      <td>ОТДЕЛЕНИЕ</td>\n",
       "      <td>196</td>\n",
       "    </tr>\n",
       "    <tr>\n",
       "      <th>10</th>\n",
       "      <td>ТЕЛЕФОННЫЙ ЦЕНТР</td>\n",
       "      <td>182</td>\n",
       "    </tr>\n",
       "    <tr>\n",
       "      <th>2</th>\n",
       "      <td>ИНТЕРНЕТ БАНК</td>\n",
       "      <td>81</td>\n",
       "    </tr>\n",
       "    <tr>\n",
       "      <th>16</th>\n",
       "      <td>ЧАТ \"АЛЬФА-МОБАЙЛ\"</td>\n",
       "      <td>34</td>\n",
       "    </tr>\n",
       "    <tr>\n",
       "      <th>4</th>\n",
       "      <td>ОБРАТНАЯ СВЯЗЬ</td>\n",
       "      <td>17</td>\n",
       "    </tr>\n",
       "    <tr>\n",
       "      <th>1</th>\n",
       "      <td>KMP</td>\n",
       "      <td>10</td>\n",
       "    </tr>\n",
       "    <tr>\n",
       "      <th>3</th>\n",
       "      <td>КАНЦЕЛЯРИЯ</td>\n",
       "      <td>7</td>\n",
       "    </tr>\n",
       "    <tr>\n",
       "      <th>0</th>\n",
       "      <td>KM</td>\n",
       "      <td>5</td>\n",
       "    </tr>\n",
       "    <tr>\n",
       "      <th>9</th>\n",
       "      <td>САЙТ WWW.BANKI.RU</td>\n",
       "      <td>2</td>\n",
       "    </tr>\n",
       "    <tr>\n",
       "      <th>13</th>\n",
       "      <td>ЦБ МОСКВА</td>\n",
       "      <td>2</td>\n",
       "    </tr>\n",
       "    <tr>\n",
       "      <th>8</th>\n",
       "      <td>ПОЛЕВОЙ</td>\n",
       "      <td>2</td>\n",
       "    </tr>\n",
       "    <tr>\n",
       "      <th>7</th>\n",
       "      <td>ПМ</td>\n",
       "      <td>1</td>\n",
       "    </tr>\n",
       "    <tr>\n",
       "      <th>5</th>\n",
       "      <td>ОСЛК</td>\n",
       "      <td>1</td>\n",
       "    </tr>\n",
       "    <tr>\n",
       "      <th>11</th>\n",
       "      <td>УДАЛЕННЫЙ МЕНЕДЖЕР СОПРОВОЖДЕНИЯ</td>\n",
       "      <td>1</td>\n",
       "    </tr>\n",
       "    <tr>\n",
       "      <th>12</th>\n",
       "      <td>УПМ</td>\n",
       "      <td>1</td>\n",
       "    </tr>\n",
       "    <tr>\n",
       "      <th>14</th>\n",
       "      <td>ЦБ РЕГИОНЫ</td>\n",
       "      <td>1</td>\n",
       "    </tr>\n",
       "    <tr>\n",
       "      <th>15</th>\n",
       "      <td>ЦЕНТРАЛЬНЫЙ ОФИС</td>\n",
       "      <td>1</td>\n",
       "    </tr>\n",
       "  </tbody>\n",
       "</table>\n",
       "</div>"
      ],
      "text/plain": [
       "         канал_поступления_обращения  количество_обращений\n",
       "6                          ОТДЕЛЕНИЕ                   196\n",
       "10                  ТЕЛЕФОННЫЙ ЦЕНТР                   182\n",
       "2                      ИНТЕРНЕТ БАНК                    81\n",
       "16                ЧАТ \"АЛЬФА-МОБАЙЛ\"                    34\n",
       "4                     ОБРАТНАЯ СВЯЗЬ                    17\n",
       "1                                KMP                    10\n",
       "3                         КАНЦЕЛЯРИЯ                     7\n",
       "0                                 KM                     5\n",
       "9                  САЙТ WWW.BANKI.RU                     2\n",
       "13                         ЦБ МОСКВА                     2\n",
       "8                            ПОЛЕВОЙ                     2\n",
       "7                                 ПМ                     1\n",
       "5                               ОСЛК                     1\n",
       "11  УДАЛЕННЫЙ МЕНЕДЖЕР СОПРОВОЖДЕНИЯ                     1\n",
       "12                               УПМ                     1\n",
       "14                        ЦБ РЕГИОНЫ                     1\n",
       "15                  ЦЕНТРАЛЬНЫЙ ОФИС                     1"
      ]
     },
     "execution_count": 35,
     "metadata": {},
     "output_type": "execute_result"
    }
   ],
   "source": [
    "# количество обращения по каналу поступления обращения\n",
    "claims.groupby('канал_поступления_обращения', as_index=False) \\\n",
    "    .agg({'номер_обращения' : 'count'}) \\\n",
    "    .sort_values('номер_обращения', ascending=False) \\\n",
    "    .rename({'номер_обращения' : 'количество_обращений'}, axis=1) \n"
   ]
  },
  {
   "cell_type": "code",
   "execution_count": 36,
   "id": "arabic-anchor",
   "metadata": {},
   "outputs": [
    {
     "data": {
      "text/plain": [
       "46"
      ]
     },
     "execution_count": 36,
     "metadata": {},
     "output_type": "execute_result"
    }
   ],
   "source": [
    "# уникальные значения в колонке 'причина обращения'\n",
    "claims['причина_обращения'].nunique()"
   ]
  },
  {
   "cell_type": "code",
   "execution_count": 37,
   "id": "saved-macedonia",
   "metadata": {},
   "outputs": [
    {
     "data": {
      "text/html": [
       "<div>\n",
       "<style scoped>\n",
       "    .dataframe tbody tr th:only-of-type {\n",
       "        vertical-align: middle;\n",
       "    }\n",
       "\n",
       "    .dataframe tbody tr th {\n",
       "        vertical-align: top;\n",
       "    }\n",
       "\n",
       "    .dataframe thead th {\n",
       "        text-align: right;\n",
       "    }\n",
       "</style>\n",
       "<table border=\"1\" class=\"dataframe\">\n",
       "  <thead>\n",
       "    <tr style=\"text-align: right;\">\n",
       "      <th></th>\n",
       "      <th>причина_обращения</th>\n",
       "      <th>количество_обращений</th>\n",
       "    </tr>\n",
       "  </thead>\n",
       "  <tbody>\n",
       "    <tr>\n",
       "      <th>30</th>\n",
       "      <td>РАСЧЕТНЫЙ СЧЁТ / ОБСЛУЖИВАНИЕ / НЕПОНИМАНИЕ КЛ...</td>\n",
       "      <td>80</td>\n",
       "    </tr>\n",
       "    <tr>\n",
       "      <th>14</th>\n",
       "      <td>ОБСЛУЖИВАНИЕ И СОПРОВОЖДЕНИЕ / ПРОБЛЕМЫ С ОБОР...</td>\n",
       "      <td>61</td>\n",
       "    </tr>\n",
       "    <tr>\n",
       "      <th>13</th>\n",
       "      <td>ОБСЛУЖИВАНИЕ И СОПРОВОЖДЕНИЕ / ДРУГОЕ</td>\n",
       "      <td>46</td>\n",
       "    </tr>\n",
       "    <tr>\n",
       "      <th>28</th>\n",
       "      <td>РАСЧЕТНЫЙ СЧЁТ / ЗАЧИСЛЕНИЕ В ВАЛЮТЕ РФ / ПУ 1...</td>\n",
       "      <td>36</td>\n",
       "    </tr>\n",
       "    <tr>\n",
       "      <th>33</th>\n",
       "      <td>РАСЧЕТНЫЙ СЧЁТ / ПЕРЕВОДНЫЕ ОПЕРАЦИИ / НЕПОНИМ...</td>\n",
       "      <td>32</td>\n",
       "    </tr>\n",
       "    <tr>\n",
       "      <th>12</th>\n",
       "      <td>НИБ / ПОДДЕРЖКА СЕРВИСА ON-LINE ИНДИКАТОРЫ РИСКОВ</td>\n",
       "      <td>27</td>\n",
       "    </tr>\n",
       "    <tr>\n",
       "      <th>8</th>\n",
       "      <td>КАРТА ДЛЯ БИЗНЕСА / ОБСЛУЖИВАНИЕ / НЕПОНИМАНИЕ...</td>\n",
       "      <td>25</td>\n",
       "    </tr>\n",
       "    <tr>\n",
       "      <th>35</th>\n",
       "      <td>РАСЧЕТНЫЙ СЧЁТ / ПЕРЕВОДНЫЕ ОПЕРАЦИИ / НЕПОНИМ...</td>\n",
       "      <td>22</td>\n",
       "    </tr>\n",
       "    <tr>\n",
       "      <th>40</th>\n",
       "      <td>РАСЧЕТНЫЙ СЧЕТ / ОТКРЫТИЕ СЧЕТА / КАРТОТЕКА ЗА...</td>\n",
       "      <td>21</td>\n",
       "    </tr>\n",
       "    <tr>\n",
       "      <th>24</th>\n",
       "      <td>РАСЧЕТНЫЙ СЧЁТ / ВЫПИСКА/СПРАВКА / НЕПОНИМАНИЕ...</td>\n",
       "      <td>16</td>\n",
       "    </tr>\n",
       "    <tr>\n",
       "      <th>38</th>\n",
       "      <td>РАСЧЕТНЫЙ СЧЕТ / ЛЬГОТА</td>\n",
       "      <td>16</td>\n",
       "    </tr>\n",
       "    <tr>\n",
       "      <th>21</th>\n",
       "      <td>ОШИБКИ С ПРОМО-КОДОМ / ТЕХ. ОШИБКА</td>\n",
       "      <td>15</td>\n",
       "    </tr>\n",
       "    <tr>\n",
       "      <th>16</th>\n",
       "      <td>ОБСЛУЖИВАНИЕ И СОПРОВОЖДЕНИЕ / СРОКИ ЗАЧИСЛЕНИ...</td>\n",
       "      <td>12</td>\n",
       "    </tr>\n",
       "    <tr>\n",
       "      <th>2</th>\n",
       "      <td>SMS-ОПОВЕЩЕНИЯ НЕ ПОСТУПАЮТ</td>\n",
       "      <td>10</td>\n",
       "    </tr>\n",
       "    <tr>\n",
       "      <th>6</th>\n",
       "      <td>КАРТА ДЛЯ БИЗНЕСА / ДРУГОЕ</td>\n",
       "      <td>10</td>\n",
       "    </tr>\n",
       "    <tr>\n",
       "      <th>17</th>\n",
       "      <td>ОБСЛУЖИВАНИЕ И СОПРОВОЖДЕНИЕ / СРОКИ ЗАЧИСЛЕНИ...</td>\n",
       "      <td>9</td>\n",
       "    </tr>\n",
       "    <tr>\n",
       "      <th>0</th>\n",
       "      <td>SMS-ИНФОРМИРОВАНИЕ / SMS-ОПОВЕЩЕНИЕ / НЕПОНИМА...</td>\n",
       "      <td>9</td>\n",
       "    </tr>\n",
       "    <tr>\n",
       "      <th>44</th>\n",
       "      <td>РАСЧЕТНЫЙ СЧЕТ / СМЕНА ПУ / ПЕРЕВОД НА ПУ ПРОС...</td>\n",
       "      <td>9</td>\n",
       "    </tr>\n",
       "    <tr>\n",
       "      <th>9</th>\n",
       "      <td>КАРТА ДЛЯ БИЗНЕСА / СНЯТИЕ ПО КАРТЕ / CХЕМА РА...</td>\n",
       "      <td>8</td>\n",
       "    </tr>\n",
       "    <tr>\n",
       "      <th>3</th>\n",
       "      <td>ВЫДАЧА/ВНЕСЕНИЕ / ДРУГОЕ</td>\n",
       "      <td>7</td>\n",
       "    </tr>\n",
       "    <tr>\n",
       "      <th>41</th>\n",
       "      <td>РАСЧЕТНЫЙ СЧЕТ / ПРОГРАММА БАНКА \"ПРОГРАММА ЛО...</td>\n",
       "      <td>6</td>\n",
       "    </tr>\n",
       "    <tr>\n",
       "      <th>25</th>\n",
       "      <td>РАСЧЕТНЫЙ СЧЁТ / ЗАКРЫТИЕ СЧЕТА / НЕПОНИМАНИЕ ...</td>\n",
       "      <td>6</td>\n",
       "    </tr>\n",
       "    <tr>\n",
       "      <th>36</th>\n",
       "      <td>РАСЧЕТНЫЙ СЧЁТ / ПЕРЕВОДНЫЕ ОПЕРАЦИИ / НЕПОНИМ...</td>\n",
       "      <td>5</td>\n",
       "    </tr>\n",
       "    <tr>\n",
       "      <th>7</th>\n",
       "      <td>КАРТА ДЛЯ БИЗНЕСА / ОБСЛУЖИВАНИЕ / ДРУГОЕ</td>\n",
       "      <td>5</td>\n",
       "    </tr>\n",
       "    <tr>\n",
       "      <th>27</th>\n",
       "      <td>РАСЧЕТНЫЙ СЧЁТ / ЗАЧИСЛЕНИЕ В ВАЛЮТЕ РФ / ОШИБ...</td>\n",
       "      <td>5</td>\n",
       "    </tr>\n",
       "    <tr>\n",
       "      <th>43</th>\n",
       "      <td>РАСЧЕТНЫЙ СЧЕТ / СМЕНА ПУ / НЕДОСТАТОЧНО ДЕНЕГ</td>\n",
       "      <td>4</td>\n",
       "    </tr>\n",
       "    <tr>\n",
       "      <th>31</th>\n",
       "      <td>РАСЧЕТНЫЙ СЧЁТ / ОТКРЫТИЕ СЧЁТА / АКЦИЯ</td>\n",
       "      <td>4</td>\n",
       "    </tr>\n",
       "    <tr>\n",
       "      <th>29</th>\n",
       "      <td>РАСЧЕТНЫЙ СЧЁТ / ЗАЧИСЛЕНИЕ В ВАЛЮТЕ РФ / ТЕХ....</td>\n",
       "      <td>4</td>\n",
       "    </tr>\n",
       "    <tr>\n",
       "      <th>23</th>\n",
       "      <td>РАСЧЕТНЫЙ СЧЁТ / ВЫДАЧА ДУБЛИКАТА РАСЧЁТНОГО Д...</td>\n",
       "      <td>4</td>\n",
       "    </tr>\n",
       "    <tr>\n",
       "      <th>15</th>\n",
       "      <td>ОБСЛУЖИВАНИЕ И СОПРОВОЖДЕНИЕ / РАССЫЛКА ПОТРАН...</td>\n",
       "      <td>4</td>\n",
       "    </tr>\n",
       "    <tr>\n",
       "      <th>26</th>\n",
       "      <td>РАСЧЕТНЫЙ СЧЁТ / ЗАЧИСЛЕНИЕ В ВАЛЮТЕ РФ / НЕКО...</td>\n",
       "      <td>3</td>\n",
       "    </tr>\n",
       "    <tr>\n",
       "      <th>4</th>\n",
       "      <td>ДРУГОЕ</td>\n",
       "      <td>3</td>\n",
       "    </tr>\n",
       "    <tr>\n",
       "      <th>34</th>\n",
       "      <td>РАСЧЕТНЫЙ СЧЁТ / ПЕРЕВОДНЫЕ ОПЕРАЦИИ / НЕПОНИМ...</td>\n",
       "      <td>3</td>\n",
       "    </tr>\n",
       "    <tr>\n",
       "      <th>18</th>\n",
       "      <td>ОФОРМЛЕНИЕ / ДОЛГАЯ ПОСТАВКА ОБОРУДОВАНИЯ</td>\n",
       "      <td>2</td>\n",
       "    </tr>\n",
       "    <tr>\n",
       "      <th>5</th>\n",
       "      <td>КАРТА ДЛЯ БИЗНЕСА / ВНЕСЕНИЕ ПО КАРТЕ / ТЕХ. О...</td>\n",
       "      <td>2</td>\n",
       "    </tr>\n",
       "    <tr>\n",
       "      <th>37</th>\n",
       "      <td>РАСЧЕТНЫЙ СЧЁТ / ПЕРЕВОДНЫЕ ОПЕРАЦИИ / РЕПРАЙС...</td>\n",
       "      <td>2</td>\n",
       "    </tr>\n",
       "    <tr>\n",
       "      <th>22</th>\n",
       "      <td>РАСЧЕТНЫЙ СЧЁТ / ВЫДАЧА ДУБЛИКАТА РАСЧЁТНОГО Д...</td>\n",
       "      <td>2</td>\n",
       "    </tr>\n",
       "    <tr>\n",
       "      <th>19</th>\n",
       "      <td>ОФОРМЛЕНИЕ / ОШИБКА ПРИ ОФОРМЛЕНИИ ЗАЯВКИ</td>\n",
       "      <td>1</td>\n",
       "    </tr>\n",
       "    <tr>\n",
       "      <th>1</th>\n",
       "      <td>SMS-ИНФОРМИРОВАНИЕ / SMS-ОПОВЕЩЕНИЕ / ТЕХ. ОШИБКА</td>\n",
       "      <td>1</td>\n",
       "    </tr>\n",
       "    <tr>\n",
       "      <th>20</th>\n",
       "      <td>ОФОРМЛЕНИЕ / ПЕРЕНОС СРОКОВ КЛИЕНТОМ</td>\n",
       "      <td>1</td>\n",
       "    </tr>\n",
       "    <tr>\n",
       "      <th>39</th>\n",
       "      <td>РАСЧЕТНЫЙ СЧЕТ / ОТКРЫТИЕ СЧЁТА / НЕПОНИМАНИЕ ...</td>\n",
       "      <td>1</td>\n",
       "    </tr>\n",
       "    <tr>\n",
       "      <th>11</th>\n",
       "      <td>НЕКОРРЕКТНО ОТОБРАЖАЕТСЯ ОСТАТОК ПО СЧЕТУ В SM...</td>\n",
       "      <td>1</td>\n",
       "    </tr>\n",
       "    <tr>\n",
       "      <th>10</th>\n",
       "      <td>ЛИЧНЫЙ КАБИНЕТ</td>\n",
       "      <td>1</td>\n",
       "    </tr>\n",
       "    <tr>\n",
       "      <th>42</th>\n",
       "      <td>РАСЧЕТНЫЙ СЧЕТ / СМЕНА ПУ / НАЧИСЛЕНИЕ В ДАТУ ...</td>\n",
       "      <td>1</td>\n",
       "    </tr>\n",
       "    <tr>\n",
       "      <th>32</th>\n",
       "      <td>РАСЧЕТНЫЙ СЧЁТ / ОТКРЫТИЕ СЧЁТА / ДРУГОЕ</td>\n",
       "      <td>1</td>\n",
       "    </tr>\n",
       "    <tr>\n",
       "      <th>45</th>\n",
       "      <td>РАСЧЕТНЫЙ СЧЕТ / СМЕНА ПУ / ПУ ЗАКРЫТ ДЛЯ ПЕРЕ...</td>\n",
       "      <td>1</td>\n",
       "    </tr>\n",
       "  </tbody>\n",
       "</table>\n",
       "</div>"
      ],
      "text/plain": [
       "                                    причина_обращения  количество_обращений\n",
       "30  РАСЧЕТНЫЙ СЧЁТ / ОБСЛУЖИВАНИЕ / НЕПОНИМАНИЕ КЛ...                    80\n",
       "14  ОБСЛУЖИВАНИЕ И СОПРОВОЖДЕНИЕ / ПРОБЛЕМЫ С ОБОР...                    61\n",
       "13              ОБСЛУЖИВАНИЕ И СОПРОВОЖДЕНИЕ / ДРУГОЕ                    46\n",
       "28  РАСЧЕТНЫЙ СЧЁТ / ЗАЧИСЛЕНИЕ В ВАЛЮТЕ РФ / ПУ 1...                    36\n",
       "33  РАСЧЕТНЫЙ СЧЁТ / ПЕРЕВОДНЫЕ ОПЕРАЦИИ / НЕПОНИМ...                    32\n",
       "12  НИБ / ПОДДЕРЖКА СЕРВИСА ON-LINE ИНДИКАТОРЫ РИСКОВ                    27\n",
       "8   КАРТА ДЛЯ БИЗНЕСА / ОБСЛУЖИВАНИЕ / НЕПОНИМАНИЕ...                    25\n",
       "35  РАСЧЕТНЫЙ СЧЁТ / ПЕРЕВОДНЫЕ ОПЕРАЦИИ / НЕПОНИМ...                    22\n",
       "40  РАСЧЕТНЫЙ СЧЕТ / ОТКРЫТИЕ СЧЕТА / КАРТОТЕКА ЗА...                    21\n",
       "24  РАСЧЕТНЫЙ СЧЁТ / ВЫПИСКА/СПРАВКА / НЕПОНИМАНИЕ...                    16\n",
       "38                            РАСЧЕТНЫЙ СЧЕТ / ЛЬГОТА                    16\n",
       "21                 ОШИБКИ С ПРОМО-КОДОМ / ТЕХ. ОШИБКА                    15\n",
       "16  ОБСЛУЖИВАНИЕ И СОПРОВОЖДЕНИЕ / СРОКИ ЗАЧИСЛЕНИ...                    12\n",
       "2                         SMS-ОПОВЕЩЕНИЯ НЕ ПОСТУПАЮТ                    10\n",
       "6                          КАРТА ДЛЯ БИЗНЕСА / ДРУГОЕ                    10\n",
       "17  ОБСЛУЖИВАНИЕ И СОПРОВОЖДЕНИЕ / СРОКИ ЗАЧИСЛЕНИ...                     9\n",
       "0   SMS-ИНФОРМИРОВАНИЕ / SMS-ОПОВЕЩЕНИЕ / НЕПОНИМА...                     9\n",
       "44  РАСЧЕТНЫЙ СЧЕТ / СМЕНА ПУ / ПЕРЕВОД НА ПУ ПРОС...                     9\n",
       "9   КАРТА ДЛЯ БИЗНЕСА / СНЯТИЕ ПО КАРТЕ / CХЕМА РА...                     8\n",
       "3                            ВЫДАЧА/ВНЕСЕНИЕ / ДРУГОЕ                     7\n",
       "41  РАСЧЕТНЫЙ СЧЕТ / ПРОГРАММА БАНКА \"ПРОГРАММА ЛО...                     6\n",
       "25  РАСЧЕТНЫЙ СЧЁТ / ЗАКРЫТИЕ СЧЕТА / НЕПОНИМАНИЕ ...                     6\n",
       "36  РАСЧЕТНЫЙ СЧЁТ / ПЕРЕВОДНЫЕ ОПЕРАЦИИ / НЕПОНИМ...                     5\n",
       "7           КАРТА ДЛЯ БИЗНЕСА / ОБСЛУЖИВАНИЕ / ДРУГОЕ                     5\n",
       "27  РАСЧЕТНЫЙ СЧЁТ / ЗАЧИСЛЕНИЕ В ВАЛЮТЕ РФ / ОШИБ...                     5\n",
       "43     РАСЧЕТНЫЙ СЧЕТ / СМЕНА ПУ / НЕДОСТАТОЧНО ДЕНЕГ                     4\n",
       "31            РАСЧЕТНЫЙ СЧЁТ / ОТКРЫТИЕ СЧЁТА / АКЦИЯ                     4\n",
       "29  РАСЧЕТНЫЙ СЧЁТ / ЗАЧИСЛЕНИЕ В ВАЛЮТЕ РФ / ТЕХ....                     4\n",
       "23  РАСЧЕТНЫЙ СЧЁТ / ВЫДАЧА ДУБЛИКАТА РАСЧЁТНОГО Д...                     4\n",
       "15  ОБСЛУЖИВАНИЕ И СОПРОВОЖДЕНИЕ / РАССЫЛКА ПОТРАН...                     4\n",
       "26  РАСЧЕТНЫЙ СЧЁТ / ЗАЧИСЛЕНИЕ В ВАЛЮТЕ РФ / НЕКО...                     3\n",
       "4                                              ДРУГОЕ                     3\n",
       "34  РАСЧЕТНЫЙ СЧЁТ / ПЕРЕВОДНЫЕ ОПЕРАЦИИ / НЕПОНИМ...                     3\n",
       "18          ОФОРМЛЕНИЕ / ДОЛГАЯ ПОСТАВКА ОБОРУДОВАНИЯ                     2\n",
       "5   КАРТА ДЛЯ БИЗНЕСА / ВНЕСЕНИЕ ПО КАРТЕ / ТЕХ. О...                     2\n",
       "37  РАСЧЕТНЫЙ СЧЁТ / ПЕРЕВОДНЫЕ ОПЕРАЦИИ / РЕПРАЙС...                     2\n",
       "22  РАСЧЕТНЫЙ СЧЁТ / ВЫДАЧА ДУБЛИКАТА РАСЧЁТНОГО Д...                     2\n",
       "19          ОФОРМЛЕНИЕ / ОШИБКА ПРИ ОФОРМЛЕНИИ ЗАЯВКИ                     1\n",
       "1   SMS-ИНФОРМИРОВАНИЕ / SMS-ОПОВЕЩЕНИЕ / ТЕХ. ОШИБКА                     1\n",
       "20               ОФОРМЛЕНИЕ / ПЕРЕНОС СРОКОВ КЛИЕНТОМ                     1\n",
       "39  РАСЧЕТНЫЙ СЧЕТ / ОТКРЫТИЕ СЧЁТА / НЕПОНИМАНИЕ ...                     1\n",
       "11  НЕКОРРЕКТНО ОТОБРАЖАЕТСЯ ОСТАТОК ПО СЧЕТУ В SM...                     1\n",
       "10                                     ЛИЧНЫЙ КАБИНЕТ                     1\n",
       "42  РАСЧЕТНЫЙ СЧЕТ / СМЕНА ПУ / НАЧИСЛЕНИЕ В ДАТУ ...                     1\n",
       "32           РАСЧЕТНЫЙ СЧЁТ / ОТКРЫТИЕ СЧЁТА / ДРУГОЕ                     1\n",
       "45  РАСЧЕТНЫЙ СЧЕТ / СМЕНА ПУ / ПУ ЗАКРЫТ ДЛЯ ПЕРЕ...                     1"
      ]
     },
     "execution_count": 37,
     "metadata": {},
     "output_type": "execute_result"
    }
   ],
   "source": [
    "# количество обращений по причинам обращения \n",
    "claims.groupby('причина_обращения', as_index=False) \\\n",
    "    .agg({'номер_обращения' : 'count'}) \\\n",
    "    .sort_values('номер_обращения', ascending=False) \\\n",
    "    .rename({'номер_обращения' : 'количество_обращений'}, axis=1)"
   ]
  },
  {
   "cell_type": "code",
   "execution_count": 38,
   "id": "textile-worship",
   "metadata": {},
   "outputs": [
    {
     "data": {
      "text/html": [
       "<div>\n",
       "<style scoped>\n",
       "    .dataframe tbody tr th:only-of-type {\n",
       "        vertical-align: middle;\n",
       "    }\n",
       "\n",
       "    .dataframe tbody tr th {\n",
       "        vertical-align: top;\n",
       "    }\n",
       "\n",
       "    .dataframe thead th {\n",
       "        text-align: right;\n",
       "    }\n",
       "</style>\n",
       "<table border=\"1\" class=\"dataframe\">\n",
       "  <thead>\n",
       "    <tr style=\"text-align: right;\">\n",
       "      <th></th>\n",
       "      <th>тема_обращения</th>\n",
       "      <th>количество_обращений</th>\n",
       "    </tr>\n",
       "  </thead>\n",
       "  <tbody>\n",
       "    <tr>\n",
       "      <th>0</th>\n",
       "      <td>КОМИССИИ/ТАРИФЫ</td>\n",
       "      <td>361</td>\n",
       "    </tr>\n",
       "    <tr>\n",
       "      <th>5</th>\n",
       "      <td>УСЛУГИ / ЭКВАЙРИНГ</td>\n",
       "      <td>136</td>\n",
       "    </tr>\n",
       "    <tr>\n",
       "      <th>4</th>\n",
       "      <td>УСЛУГИ / КЛУБ КЛИЕНТОВ</td>\n",
       "      <td>17</td>\n",
       "    </tr>\n",
       "    <tr>\n",
       "      <th>2</th>\n",
       "      <td>УКД (ТЕХ. ПРОБЛЕМА) / СМС-ИНФОРМИРОВАНИЕ</td>\n",
       "      <td>13</td>\n",
       "    </tr>\n",
       "    <tr>\n",
       "      <th>3</th>\n",
       "      <td>УСЛУГИ / ДРУГОЕ</td>\n",
       "      <td>10</td>\n",
       "    </tr>\n",
       "    <tr>\n",
       "      <th>1</th>\n",
       "      <td>ОПЕРАЦИИ ПО СЧЕТУ / ОПЕРАЦИИ ПО СЧЕТУ (НЕ КОМИ...</td>\n",
       "      <td>7</td>\n",
       "    </tr>\n",
       "  </tbody>\n",
       "</table>\n",
       "</div>"
      ],
      "text/plain": [
       "                                      тема_обращения  количество_обращений\n",
       "0                                    КОМИССИИ/ТАРИФЫ                   361\n",
       "5                                 УСЛУГИ / ЭКВАЙРИНГ                   136\n",
       "4                             УСЛУГИ / КЛУБ КЛИЕНТОВ                    17\n",
       "2           УКД (ТЕХ. ПРОБЛЕМА) / СМС-ИНФОРМИРОВАНИЕ                    13\n",
       "3                                    УСЛУГИ / ДРУГОЕ                    10\n",
       "1  ОПЕРАЦИИ ПО СЧЕТУ / ОПЕРАЦИИ ПО СЧЕТУ (НЕ КОМИ...                     7"
      ]
     },
     "execution_count": 38,
     "metadata": {},
     "output_type": "execute_result"
    }
   ],
   "source": [
    "# количество обращений по темам обращения \n",
    "claims.groupby('тема_обращения', as_index=False) \\\n",
    "    .agg({'номер_обращения' : 'count'}) \\\n",
    "    .sort_values('номер_обращения', ascending=False) \\\n",
    "    .rename({'номер_обращения' : 'количество_обращений'}, axis=1)"
   ]
  },
  {
   "cell_type": "code",
   "execution_count": 39,
   "id": "smooth-pricing",
   "metadata": {},
   "outputs": [
    {
     "data": {
      "text/plain": [
       "array(['N/D', 'КОМИССИИ/ТАРИФЫ',\n",
       "       'ОПЕРАЦИИ ПО СЧЕТУ / ОПЕРАЦИИ ПО СЧЕТУ (НЕ КОМИССИИ)'],\n",
       "      dtype=object)"
      ]
     },
     "execution_count": 39,
     "metadata": {},
     "output_type": "execute_result"
    }
   ],
   "source": [
    "# уникальные значения в колонке \"тема пункта обращения\"\n",
    "claims['тема_пункта_обращения'].unique()"
   ]
  },
  {
   "cell_type": "code",
   "execution_count": 40,
   "id": "pending-oregon",
   "metadata": {},
   "outputs": [
    {
     "data": {
      "text/html": [
       "<div>\n",
       "<style scoped>\n",
       "    .dataframe tbody tr th:only-of-type {\n",
       "        vertical-align: middle;\n",
       "    }\n",
       "\n",
       "    .dataframe tbody tr th {\n",
       "        vertical-align: top;\n",
       "    }\n",
       "\n",
       "    .dataframe thead th {\n",
       "        text-align: right;\n",
       "    }\n",
       "</style>\n",
       "<table border=\"1\" class=\"dataframe\">\n",
       "  <thead>\n",
       "    <tr style=\"text-align: right;\">\n",
       "      <th></th>\n",
       "      <th>номер_обращения</th>\n",
       "      <th>класс_обращения</th>\n",
       "      <th>продукт_обращения</th>\n",
       "      <th>стрим_обращения</th>\n",
       "      <th>группа_продуктов</th>\n",
       "      <th>тип_обращения</th>\n",
       "      <th>тематика_обращения</th>\n",
       "      <th>суть_обращения</th>\n",
       "      <th>итоговое_заключение</th>\n",
       "      <th>блок_продукта</th>\n",
       "      <th>канал_поступления_обращения</th>\n",
       "      <th>причина_обращения</th>\n",
       "      <th>тема_обращения</th>\n",
       "      <th>дата_регистрации_обращения</th>\n",
       "      <th>дата_решения_обращения</th>\n",
       "      <th>тема_пункта_обращения</th>\n",
       "      <th>разница_в_днях_в_решении_обращения</th>\n",
       "    </tr>\n",
       "  </thead>\n",
       "  <tbody>\n",
       "    <tr>\n",
       "      <th>0</th>\n",
       "      <td>U2106170073</td>\n",
       "      <td>ЖАЛОБА</td>\n",
       "      <td>НЕФИНАНСОВЫЕ СЕРВИСЫ</td>\n",
       "      <td>DAILY BANKING</td>\n",
       "      <td>КЛУБ КЛИЕНТОВ</td>\n",
       "      <td>КЛИЕНТСКИЕ ПУТИ</td>\n",
       "      <td>ПРОБЛЕМЫ ПРИ ИСПОЛЬЗОВАНИИ СЕРВИСА</td>\n",
       "      <td>ДОБРЫЙ ДЕНЬ,ХОТЕЛИ ВОСПОЛЬЗОВАТЬСЯ ПРЕДЛОЖЕНИЕ...</td>\n",
       "      <td>ЗДРАВСТВУЙТЕ!СПАСИБО, ЧТО НАПИСАЛИ НАМ О СИТУА...</td>\n",
       "      <td>НЕ ОПРЕДЕЛЕНО</td>\n",
       "      <td>ОБРАТНАЯ СВЯЗЬ</td>\n",
       "      <td>ОШИБКИ С ПРОМО-КОДОМ / ТЕХ. ОШИБКА</td>\n",
       "      <td>УСЛУГИ / КЛУБ КЛИЕНТОВ</td>\n",
       "      <td>2021-06-17</td>\n",
       "      <td>2021-06-21</td>\n",
       "      <td>N/D</td>\n",
       "      <td>4</td>\n",
       "    </tr>\n",
       "    <tr>\n",
       "      <th>1</th>\n",
       "      <td>U2106160215</td>\n",
       "      <td>ЖАЛОБА</td>\n",
       "      <td>НЕФИНАНСОВЫЕ СЕРВИСЫ</td>\n",
       "      <td>DAILY BANKING</td>\n",
       "      <td>КЛУБ КЛИЕНТОВ</td>\n",
       "      <td>КЛИЕНТСКИЕ ПУТИ</td>\n",
       "      <td>ПРОБЛЕМЫ ПРИ ИСПОЛЬЗОВАНИИ СЕРВИСА</td>\n",
       "      <td>ЗДРАВСТВУЙТЕ! ПРОСИМ ИСПРАВИТЬ ОШИБКУ В ВАШЕМ ...</td>\n",
       "      <td>ЗДРАВСТВУЙТЕ, СВЕТЛАНА АНАТОЛЬЕВНА.СПАСИБО, ЧТ...</td>\n",
       "      <td>НЕ ОПРЕДЕЛЕНО</td>\n",
       "      <td>ОБРАТНАЯ СВЯЗЬ</td>\n",
       "      <td>ОШИБКИ С ПРОМО-КОДОМ / ТЕХ. ОШИБКА</td>\n",
       "      <td>УСЛУГИ / КЛУБ КЛИЕНТОВ</td>\n",
       "      <td>2021-06-16</td>\n",
       "      <td>2021-06-21</td>\n",
       "      <td>N/D</td>\n",
       "      <td>5</td>\n",
       "    </tr>\n",
       "    <tr>\n",
       "      <th>2</th>\n",
       "      <td>U2106180004</td>\n",
       "      <td>ЖАЛОБА</td>\n",
       "      <td>НЕФИНАНСОВЫЕ СЕРВИСЫ</td>\n",
       "      <td>DAILY BANKING</td>\n",
       "      <td>КЛУБ КЛИЕНТОВ</td>\n",
       "      <td>КЛИЕНТСКИЕ ПУТИ</td>\n",
       "      <td>ПРОБЛЕМЫ ПРИ ИСПОЛЬЗОВАНИИ СЕРВИСА</td>\n",
       "      <td>ДОБРЫЙ ДЕНЬ. ХОТЕЛИ ИСПОЛЬЗОВАТЬ СКИДКУ НА РЕК...</td>\n",
       "      <td>ЗДРАВСТВУЙТЕ!СПАСИБО, ЧТО НАПИСАЛИ НАМ О СИТУА...</td>\n",
       "      <td>НЕ ОПРЕДЕЛЕНО</td>\n",
       "      <td>ОБРАТНАЯ СВЯЗЬ</td>\n",
       "      <td>ОШИБКИ С ПРОМО-КОДОМ / ТЕХ. ОШИБКА</td>\n",
       "      <td>УСЛУГИ / КЛУБ КЛИЕНТОВ</td>\n",
       "      <td>2021-06-18</td>\n",
       "      <td>2021-06-22</td>\n",
       "      <td>N/D</td>\n",
       "      <td>4</td>\n",
       "    </tr>\n",
       "    <tr>\n",
       "      <th>3</th>\n",
       "      <td>U2106160173</td>\n",
       "      <td>ЖАЛОБА</td>\n",
       "      <td>НЕФИНАНСОВЫЕ СЕРВИСЫ</td>\n",
       "      <td>DAILY BANKING</td>\n",
       "      <td>КЛУБ КЛИЕНТОВ</td>\n",
       "      <td>КЛИЕНТСКИЕ ПУТИ</td>\n",
       "      <td>ПРОБЛЕМЫ ПРИ ИСПОЛЬЗОВАНИИ СЕРВИСА</td>\n",
       "      <td>ЗДРАВСТВУЙТЕ, МЫ НАЧАЛИ НАСТРАИВАТЬ РЕКЛАМУ, У...</td>\n",
       "      <td>ЗДРАВСТВУЙТЕ!СПАСИБО, ЧТО НАПИСАЛИ НАМ О СИТУА...</td>\n",
       "      <td>НЕ ОПРЕДЕЛЕНО</td>\n",
       "      <td>ОБРАТНАЯ СВЯЗЬ</td>\n",
       "      <td>ОШИБКИ С ПРОМО-КОДОМ / ТЕХ. ОШИБКА</td>\n",
       "      <td>УСЛУГИ / КЛУБ КЛИЕНТОВ</td>\n",
       "      <td>2021-06-16</td>\n",
       "      <td>2021-06-21</td>\n",
       "      <td>N/D</td>\n",
       "      <td>5</td>\n",
       "    </tr>\n",
       "    <tr>\n",
       "      <th>4</th>\n",
       "      <td>U2106180054</td>\n",
       "      <td>ЖАЛОБА</td>\n",
       "      <td>НЕФИНАНСОВЫЕ СЕРВИСЫ</td>\n",
       "      <td>DAILY BANKING</td>\n",
       "      <td>КЛУБ КЛИЕНТОВ</td>\n",
       "      <td>КЛИЕНТСКИЕ ПУТИ</td>\n",
       "      <td>ПРОБЛЕМЫ ПРИ ИСПОЛЬЗОВАНИИ СЕРВИСА</td>\n",
       "      <td>МНЕ БЫЛО ИНТЕРЕСНО ВАШЕ ПРЕДЛОЖЕНИЕ ОТ ВАШЕГО ...</td>\n",
       "      <td>ЗДРАВСТВУЙТЕ!СПАСИБО, ЧТО НАПИСАЛИ НАМ О СИТУА...</td>\n",
       "      <td>НЕ ОПРЕДЕЛЕНО</td>\n",
       "      <td>ОБРАТНАЯ СВЯЗЬ</td>\n",
       "      <td>ОШИБКИ С ПРОМО-КОДОМ / ТЕХ. ОШИБКА</td>\n",
       "      <td>УСЛУГИ / КЛУБ КЛИЕНТОВ</td>\n",
       "      <td>2021-06-18</td>\n",
       "      <td>2021-06-22</td>\n",
       "      <td>N/D</td>\n",
       "      <td>4</td>\n",
       "    </tr>\n",
       "  </tbody>\n",
       "</table>\n",
       "</div>"
      ],
      "text/plain": [
       "  номер_обращения класс_обращения     продукт_обращения стрим_обращения  \\\n",
       "0     U2106170073          ЖАЛОБА  НЕФИНАНСОВЫЕ СЕРВИСЫ   DAILY BANKING   \n",
       "1     U2106160215          ЖАЛОБА  НЕФИНАНСОВЫЕ СЕРВИСЫ   DAILY BANKING   \n",
       "2     U2106180004          ЖАЛОБА  НЕФИНАНСОВЫЕ СЕРВИСЫ   DAILY BANKING   \n",
       "3     U2106160173          ЖАЛОБА  НЕФИНАНСОВЫЕ СЕРВИСЫ   DAILY BANKING   \n",
       "4     U2106180054          ЖАЛОБА  НЕФИНАНСОВЫЕ СЕРВИСЫ   DAILY BANKING   \n",
       "\n",
       "  группа_продуктов    тип_обращения                  тематика_обращения  \\\n",
       "0    КЛУБ КЛИЕНТОВ  КЛИЕНТСКИЕ ПУТИ  ПРОБЛЕМЫ ПРИ ИСПОЛЬЗОВАНИИ СЕРВИСА   \n",
       "1    КЛУБ КЛИЕНТОВ  КЛИЕНТСКИЕ ПУТИ  ПРОБЛЕМЫ ПРИ ИСПОЛЬЗОВАНИИ СЕРВИСА   \n",
       "2    КЛУБ КЛИЕНТОВ  КЛИЕНТСКИЕ ПУТИ  ПРОБЛЕМЫ ПРИ ИСПОЛЬЗОВАНИИ СЕРВИСА   \n",
       "3    КЛУБ КЛИЕНТОВ  КЛИЕНТСКИЕ ПУТИ  ПРОБЛЕМЫ ПРИ ИСПОЛЬЗОВАНИИ СЕРВИСА   \n",
       "4    КЛУБ КЛИЕНТОВ  КЛИЕНТСКИЕ ПУТИ  ПРОБЛЕМЫ ПРИ ИСПОЛЬЗОВАНИИ СЕРВИСА   \n",
       "\n",
       "                                      суть_обращения  \\\n",
       "0  ДОБРЫЙ ДЕНЬ,ХОТЕЛИ ВОСПОЛЬЗОВАТЬСЯ ПРЕДЛОЖЕНИЕ...   \n",
       "1  ЗДРАВСТВУЙТЕ! ПРОСИМ ИСПРАВИТЬ ОШИБКУ В ВАШЕМ ...   \n",
       "2  ДОБРЫЙ ДЕНЬ. ХОТЕЛИ ИСПОЛЬЗОВАТЬ СКИДКУ НА РЕК...   \n",
       "3  ЗДРАВСТВУЙТЕ, МЫ НАЧАЛИ НАСТРАИВАТЬ РЕКЛАМУ, У...   \n",
       "4  МНЕ БЫЛО ИНТЕРЕСНО ВАШЕ ПРЕДЛОЖЕНИЕ ОТ ВАШЕГО ...   \n",
       "\n",
       "                                 итоговое_заключение  блок_продукта  \\\n",
       "0  ЗДРАВСТВУЙТЕ!СПАСИБО, ЧТО НАПИСАЛИ НАМ О СИТУА...  НЕ ОПРЕДЕЛЕНО   \n",
       "1  ЗДРАВСТВУЙТЕ, СВЕТЛАНА АНАТОЛЬЕВНА.СПАСИБО, ЧТ...  НЕ ОПРЕДЕЛЕНО   \n",
       "2  ЗДРАВСТВУЙТЕ!СПАСИБО, ЧТО НАПИСАЛИ НАМ О СИТУА...  НЕ ОПРЕДЕЛЕНО   \n",
       "3  ЗДРАВСТВУЙТЕ!СПАСИБО, ЧТО НАПИСАЛИ НАМ О СИТУА...  НЕ ОПРЕДЕЛЕНО   \n",
       "4  ЗДРАВСТВУЙТЕ!СПАСИБО, ЧТО НАПИСАЛИ НАМ О СИТУА...  НЕ ОПРЕДЕЛЕНО   \n",
       "\n",
       "  канал_поступления_обращения                   причина_обращения  \\\n",
       "0              ОБРАТНАЯ СВЯЗЬ  ОШИБКИ С ПРОМО-КОДОМ / ТЕХ. ОШИБКА   \n",
       "1              ОБРАТНАЯ СВЯЗЬ  ОШИБКИ С ПРОМО-КОДОМ / ТЕХ. ОШИБКА   \n",
       "2              ОБРАТНАЯ СВЯЗЬ  ОШИБКИ С ПРОМО-КОДОМ / ТЕХ. ОШИБКА   \n",
       "3              ОБРАТНАЯ СВЯЗЬ  ОШИБКИ С ПРОМО-КОДОМ / ТЕХ. ОШИБКА   \n",
       "4              ОБРАТНАЯ СВЯЗЬ  ОШИБКИ С ПРОМО-КОДОМ / ТЕХ. ОШИБКА   \n",
       "\n",
       "           тема_обращения дата_регистрации_обращения дата_решения_обращения  \\\n",
       "0  УСЛУГИ / КЛУБ КЛИЕНТОВ                 2021-06-17             2021-06-21   \n",
       "1  УСЛУГИ / КЛУБ КЛИЕНТОВ                 2021-06-16             2021-06-21   \n",
       "2  УСЛУГИ / КЛУБ КЛИЕНТОВ                 2021-06-18             2021-06-22   \n",
       "3  УСЛУГИ / КЛУБ КЛИЕНТОВ                 2021-06-16             2021-06-21   \n",
       "4  УСЛУГИ / КЛУБ КЛИЕНТОВ                 2021-06-18             2021-06-22   \n",
       "\n",
       "  тема_пункта_обращения  разница_в_днях_в_решении_обращения  \n",
       "0                   N/D                                   4  \n",
       "1                   N/D                                   5  \n",
       "2                   N/D                                   4  \n",
       "3                   N/D                                   5  \n",
       "4                   N/D                                   4  "
      ]
     },
     "execution_count": 40,
     "metadata": {},
     "output_type": "execute_result"
    }
   ],
   "source": [
    "claims.head()"
   ]
  },
  {
   "cell_type": "code",
   "execution_count": 41,
   "id": "rough-vietnam",
   "metadata": {},
   "outputs": [
    {
     "data": {
      "text/plain": [
       "<AxesSubplot:>"
      ]
     },
     "execution_count": 41,
     "metadata": {},
     "output_type": "execute_result"
    },
    {
     "data": {
      "image/png": "[encoded data removed]",
      "text/plain": [
       "<Figure size 2880x648 with 1 Axes>"
      ]
     },
     "metadata": {},
     "output_type": "display_data"
    }
   ],
   "source": [
    "claims['канал_поступления_обращения'].hist()"
   ]
  },
  {
   "cell_type": "code",
   "execution_count": 42,
   "id": "american-mounting",
   "metadata": {},
   "outputs": [
    {
     "data": {
      "text/plain": [
       "<AxesSubplot:>"
      ]
     },
     "execution_count": 42,
     "metadata": {},
     "output_type": "execute_result"
    },
    {
     "data": {
      "image/png": "[encoded data removed]",
      "text/plain": [
       "<Figure size 2880x648 with 1 Axes>"
      ]
     },
     "metadata": {},
     "output_type": "display_data"
    }
   ],
   "source": [
    "claims['продукт_обращения'].hist()"
   ]
  },
  {
   "cell_type": "code",
   "execution_count": 43,
   "id": "academic-description",
   "metadata": {},
   "outputs": [
    {
     "data": {
      "text/plain": [
       "<AxesSubplot:>"
      ]
     },
     "execution_count": 43,
     "metadata": {},
     "output_type": "execute_result"
    },
    {
     "data": {
      "image/png": "[encoded data removed]",
      "text/plain": [
       "<Figure size 2880x648 with 1 Axes>"
      ]
     },
     "metadata": {},
     "output_type": "display_data"
    }
   ],
   "source": [
    "claims['тема_обращения'].hist()"
   ]
  },
  {
   "cell_type": "code",
   "execution_count": 45,
   "id": "widespread-evans",
   "metadata": {},
   "outputs": [
    {
     "data": {
      "text/plain": [
       "<AxesSubplot:>"
      ]
     },
     "execution_count": 45,
     "metadata": {},
     "output_type": "execute_result"
    },
    {
     "data": {
      "image/png": "[encoded data removed]",
      "text/plain": [
       "<Figure size 2880x648 with 1 Axes>"
      ]
     },
     "metadata": {},
     "output_type": "display_data"
    }
   ],
   "source": [
    "# количество претензий по группе продуктов \n",
    "claims['группа_продуктов'].hist()"
   ]
  },
  {
   "cell_type": "code",
   "execution_count": 46,
   "id": "complicated-doctrine",
   "metadata": {},
   "outputs": [
    {
     "data": {
      "text/plain": [
       "<AxesSubplot:>"
      ]
     },
     "execution_count": 46,
     "metadata": {},
     "output_type": "execute_result"
    },
    {
     "data": {
      "image/png": "[encoded data removed]",
      "text/plain": [
       "<Figure size 2880x648 with 1 Axes>"
      ]
     },
     "metadata": {},
     "output_type": "display_data"
    }
   ],
   "source": [
    "# к-во обращений по классу обращения\n",
    "claims['класс_обращения'].hist()"
   ]
  },
  {
   "cell_type": "code",
   "execution_count": 47,
   "id": "visible-economics",
   "metadata": {},
   "outputs": [],
   "source": [
    "# создаем колонку \"день_недели_регистрации_обращения\"\n",
    "claims['день_недели_регистрации_обращения'] = claims['дата_регистрации_обращения'].dt.day_name()"
   ]
  },
  {
   "cell_type": "code",
   "execution_count": 48,
   "id": "unique-monkey",
   "metadata": {},
   "outputs": [
    {
     "data": {
      "text/plain": [
       "<AxesSubplot:>"
      ]
     },
     "execution_count": 48,
     "metadata": {},
     "output_type": "execute_result"
    },
    {
     "data": {
      "image/png": "[encoded data removed]",
      "text/plain": [
       "<Figure size 2880x648 with 1 Axes>"
      ]
     },
     "metadata": {},
     "output_type": "display_data"
    }
   ],
   "source": [
    "# гистограмма к-во зарегистрованных обращений по дням недели\n",
    "claims['день_недели_регистрации_обращения'].hist()"
   ]
  },
  {
   "cell_type": "code",
   "execution_count": 49,
   "id": "sophisticated-survival",
   "metadata": {},
   "outputs": [],
   "source": [
    "# создаем колонку \"день_недели_решения_обращения\"\n",
    "claims['день_недели_решения_обращения'] = claims['дата_решения_обращения'].dt.day_name()"
   ]
  },
  {
   "cell_type": "code",
   "execution_count": 50,
   "id": "boolean-newport",
   "metadata": {},
   "outputs": [
    {
     "data": {
      "text/plain": [
       "<AxesSubplot:>"
      ]
     },
     "execution_count": 50,
     "metadata": {},
     "output_type": "execute_result"
    },
    {
     "data": {
      "image/png": "[encoded data removed]",
      "text/plain": [
       "<Figure size 2880x648 with 1 Axes>"
      ]
     },
     "metadata": {},
     "output_type": "display_data"
    }
   ],
   "source": [
    "# гистограмма к-во решенных обращений по дням недели\n",
    "claims['день_недели_решения_обращения'].hist()"
   ]
  },
  {
   "cell_type": "code",
   "execution_count": null,
   "id": "dietary-adoption",
   "metadata": {},
   "outputs": [],
   "source": []
  },
  {
   "cell_type": "code",
   "execution_count": 51,
   "id": "talented-dylan",
   "metadata": {},
   "outputs": [],
   "source": [
    "claims['дата_регистрации_обращения'] = claims['дата_регистрации_обращения'].dt.date"
   ]
  },
  {
   "cell_type": "code",
   "execution_count": 52,
   "id": "integral-impression",
   "metadata": {},
   "outputs": [],
   "source": [
    "claims['дата_решения_обращения'] = claims['дата_решения_обращения'].dt.date"
   ]
  },
  {
   "cell_type": "code",
   "execution_count": 53,
   "id": "tutorial-place",
   "metadata": {
    "scrolled": true
   },
   "outputs": [
    {
     "data": {
      "image/png": "[encoded data removed]",
      "text/plain": [
       "<Figure size 2880x648 with 1 Axes>"
      ]
     },
     "metadata": {},
     "output_type": "display_data"
    }
   ],
   "source": [
    "# гистограмма к-во зарегистрированных обращений по дням недели и по темам обращений\n",
    "sns.countplot(x='день_недели_регистрации_обращения', hue='тема_обращения', data=claims)\n",
    "plt.xticks(rotation=45);"
   ]
  },
  {
   "cell_type": "code",
   "execution_count": 54,
   "id": "regular-being",
   "metadata": {},
   "outputs": [
    {
     "data": {
      "image/png": "[encoded data removed]",
      "text/plain": [
       "<Figure size 2880x648 with 1 Axes>"
      ]
     },
     "metadata": {},
     "output_type": "display_data"
    }
   ],
   "source": [
    "# гистограмма к-во зарегистрированных обращений по дням недели и по группе продуктов\n",
    "sns.countplot(x='день_недели_регистрации_обращения', hue='группа_продуктов', data=claims)\n",
    "plt.xticks(rotation=45);"
   ]
  },
  {
   "cell_type": "code",
   "execution_count": 55,
   "id": "clinical-geneva",
   "metadata": {},
   "outputs": [
    {
     "data": {
      "text/html": [
       "<div>\n",
       "<style scoped>\n",
       "    .dataframe tbody tr th:only-of-type {\n",
       "        vertical-align: middle;\n",
       "    }\n",
       "\n",
       "    .dataframe tbody tr th {\n",
       "        vertical-align: top;\n",
       "    }\n",
       "\n",
       "    .dataframe thead th {\n",
       "        text-align: right;\n",
       "    }\n",
       "</style>\n",
       "<table border=\"1\" class=\"dataframe\">\n",
       "  <thead>\n",
       "    <tr style=\"text-align: right;\">\n",
       "      <th></th>\n",
       "      <th>номер_обращения</th>\n",
       "      <th>класс_обращения</th>\n",
       "      <th>продукт_обращения</th>\n",
       "      <th>стрим_обращения</th>\n",
       "      <th>группа_продуктов</th>\n",
       "      <th>тип_обращения</th>\n",
       "      <th>тематика_обращения</th>\n",
       "      <th>суть_обращения</th>\n",
       "      <th>итоговое_заключение</th>\n",
       "      <th>блок_продукта</th>\n",
       "      <th>канал_поступления_обращения</th>\n",
       "      <th>причина_обращения</th>\n",
       "      <th>тема_обращения</th>\n",
       "      <th>дата_регистрации_обращения</th>\n",
       "      <th>дата_решения_обращения</th>\n",
       "      <th>тема_пункта_обращения</th>\n",
       "      <th>разница_в_днях_в_решении_обращения</th>\n",
       "      <th>день_недели_регистрации_обращения</th>\n",
       "      <th>день_недели_решения_обращения</th>\n",
       "    </tr>\n",
       "  </thead>\n",
       "  <tbody>\n",
       "    <tr>\n",
       "      <th>0</th>\n",
       "      <td>U2106170073</td>\n",
       "      <td>ЖАЛОБА</td>\n",
       "      <td>НЕФИНАНСОВЫЕ СЕРВИСЫ</td>\n",
       "      <td>DAILY BANKING</td>\n",
       "      <td>КЛУБ КЛИЕНТОВ</td>\n",
       "      <td>КЛИЕНТСКИЕ ПУТИ</td>\n",
       "      <td>ПРОБЛЕМЫ ПРИ ИСПОЛЬЗОВАНИИ СЕРВИСА</td>\n",
       "      <td>ДОБРЫЙ ДЕНЬ,ХОТЕЛИ ВОСПОЛЬЗОВАТЬСЯ ПРЕДЛОЖЕНИЕ...</td>\n",
       "      <td>ЗДРАВСТВУЙТЕ!СПАСИБО, ЧТО НАПИСАЛИ НАМ О СИТУА...</td>\n",
       "      <td>НЕ ОПРЕДЕЛЕНО</td>\n",
       "      <td>ОБРАТНАЯ СВЯЗЬ</td>\n",
       "      <td>ОШИБКИ С ПРОМО-КОДОМ / ТЕХ. ОШИБКА</td>\n",
       "      <td>УСЛУГИ / КЛУБ КЛИЕНТОВ</td>\n",
       "      <td>2021-06-17</td>\n",
       "      <td>2021-06-21</td>\n",
       "      <td>N/D</td>\n",
       "      <td>4</td>\n",
       "      <td>Thursday</td>\n",
       "      <td>Monday</td>\n",
       "    </tr>\n",
       "    <tr>\n",
       "      <th>1</th>\n",
       "      <td>U2106160215</td>\n",
       "      <td>ЖАЛОБА</td>\n",
       "      <td>НЕФИНАНСОВЫЕ СЕРВИСЫ</td>\n",
       "      <td>DAILY BANKING</td>\n",
       "      <td>КЛУБ КЛИЕНТОВ</td>\n",
       "      <td>КЛИЕНТСКИЕ ПУТИ</td>\n",
       "      <td>ПРОБЛЕМЫ ПРИ ИСПОЛЬЗОВАНИИ СЕРВИСА</td>\n",
       "      <td>ЗДРАВСТВУЙТЕ! ПРОСИМ ИСПРАВИТЬ ОШИБКУ В ВАШЕМ ...</td>\n",
       "      <td>ЗДРАВСТВУЙТЕ, СВЕТЛАНА АНАТОЛЬЕВНА.СПАСИБО, ЧТ...</td>\n",
       "      <td>НЕ ОПРЕДЕЛЕНО</td>\n",
       "      <td>ОБРАТНАЯ СВЯЗЬ</td>\n",
       "      <td>ОШИБКИ С ПРОМО-КОДОМ / ТЕХ. ОШИБКА</td>\n",
       "      <td>УСЛУГИ / КЛУБ КЛИЕНТОВ</td>\n",
       "      <td>2021-06-16</td>\n",
       "      <td>2021-06-21</td>\n",
       "      <td>N/D</td>\n",
       "      <td>5</td>\n",
       "      <td>Wednesday</td>\n",
       "      <td>Monday</td>\n",
       "    </tr>\n",
       "  </tbody>\n",
       "</table>\n",
       "</div>"
      ],
      "text/plain": [
       "  номер_обращения класс_обращения     продукт_обращения стрим_обращения  \\\n",
       "0     U2106170073          ЖАЛОБА  НЕФИНАНСОВЫЕ СЕРВИСЫ   DAILY BANKING   \n",
       "1     U2106160215          ЖАЛОБА  НЕФИНАНСОВЫЕ СЕРВИСЫ   DAILY BANKING   \n",
       "\n",
       "  группа_продуктов    тип_обращения                  тематика_обращения  \\\n",
       "0    КЛУБ КЛИЕНТОВ  КЛИЕНТСКИЕ ПУТИ  ПРОБЛЕМЫ ПРИ ИСПОЛЬЗОВАНИИ СЕРВИСА   \n",
       "1    КЛУБ КЛИЕНТОВ  КЛИЕНТСКИЕ ПУТИ  ПРОБЛЕМЫ ПРИ ИСПОЛЬЗОВАНИИ СЕРВИСА   \n",
       "\n",
       "                                      суть_обращения  \\\n",
       "0  ДОБРЫЙ ДЕНЬ,ХОТЕЛИ ВОСПОЛЬЗОВАТЬСЯ ПРЕДЛОЖЕНИЕ...   \n",
       "1  ЗДРАВСТВУЙТЕ! ПРОСИМ ИСПРАВИТЬ ОШИБКУ В ВАШЕМ ...   \n",
       "\n",
       "                                 итоговое_заключение  блок_продукта  \\\n",
       "0  ЗДРАВСТВУЙТЕ!СПАСИБО, ЧТО НАПИСАЛИ НАМ О СИТУА...  НЕ ОПРЕДЕЛЕНО   \n",
       "1  ЗДРАВСТВУЙТЕ, СВЕТЛАНА АНАТОЛЬЕВНА.СПАСИБО, ЧТ...  НЕ ОПРЕДЕЛЕНО   \n",
       "\n",
       "  канал_поступления_обращения                   причина_обращения  \\\n",
       "0              ОБРАТНАЯ СВЯЗЬ  ОШИБКИ С ПРОМО-КОДОМ / ТЕХ. ОШИБКА   \n",
       "1              ОБРАТНАЯ СВЯЗЬ  ОШИБКИ С ПРОМО-КОДОМ / ТЕХ. ОШИБКА   \n",
       "\n",
       "           тема_обращения дата_регистрации_обращения дата_решения_обращения  \\\n",
       "0  УСЛУГИ / КЛУБ КЛИЕНТОВ                 2021-06-17             2021-06-21   \n",
       "1  УСЛУГИ / КЛУБ КЛИЕНТОВ                 2021-06-16             2021-06-21   \n",
       "\n",
       "  тема_пункта_обращения  разница_в_днях_в_решении_обращения  \\\n",
       "0                   N/D                                   4   \n",
       "1                   N/D                                   5   \n",
       "\n",
       "  день_недели_регистрации_обращения день_недели_решения_обращения  \n",
       "0                          Thursday                        Monday  \n",
       "1                         Wednesday                        Monday  "
      ]
     },
     "execution_count": 55,
     "metadata": {},
     "output_type": "execute_result"
    }
   ],
   "source": [
    "claims.head(2)"
   ]
  }
 ],
 "metadata": {
  "kernelspec": {
   "display_name": "Python 3",
   "language": "python",
   "name": "python3"
  },
  "language_info": {
   "codemirror_mode": {
    "name": "ipython",
    "version": 3
   },
   "file_extension": ".py",
   "mimetype": "text/x-python",
   "name": "python",
   "nbconvert_exporter": "python",
   "pygments_lexer": "ipython3",
   "version": "3.9.2"
  }
 },
 "nbformat": 4,
 "nbformat_minor": 5
}
