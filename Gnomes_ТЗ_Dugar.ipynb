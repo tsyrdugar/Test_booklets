{
 "cells": [
  {
   "cell_type": "markdown",
   "id": "chinese-function",
   "metadata": {},
   "source": [
    "Gnomes are mining gold periodically reporting their bounty. On this mining operation there were two generation of tools being used, some gnomes were equipped with 1st generation tools, others with 2nd generation. After the introduction of new generation tooling Gnome Inc CEO noticed that performance didn’t match his expectations. You as an analyst of Gnome Inc should confirm or reject CEO worries supporting your findings by cold hard data."
   ]
  },
  {
   "cell_type": "code",
   "execution_count": 439,
   "id": "fixed-familiar",
   "metadata": {},
   "outputs": [],
   "source": [
    "import pandas as pd\n",
    "import os\n",
    "import seaborn as sns\n",
    "import matplotlib.pyplot as plt\n",
    "import datetime as dt\n",
    "\n",
    "import numpy as np\n",
    "import pandas as pd\n",
    "from scipy.stats import norm, mannwhitneyu\n",
    "import matplotlib.pyplot as plt\n",
    "import seaborn as sns\n",
    "from scipy.stats import mannwhitneyu\n",
    "\n",
    "from tqdm.auto import tqdm\n",
    "\n",
    "sns.set(rc={'figure.figsize':(10, 5)})\n",
    "plt.style.use('ggplot')"
   ]
  },
  {
   "cell_type": "code",
   "execution_count": 440,
   "id": "premier-found",
   "metadata": {},
   "outputs": [],
   "source": [
    "df = pd.read_csv('/Users/tsyrdugar/Downloads/gold_mining_data.csv')"
   ]
  },
  {
   "cell_type": "code",
   "execution_count": 441,
   "id": "robust-speed",
   "metadata": {},
   "outputs": [
    {
     "data": {
      "text/html": [
       "<div>\n",
       "<style scoped>\n",
       "    .dataframe tbody tr th:only-of-type {\n",
       "        vertical-align: middle;\n",
       "    }\n",
       "\n",
       "    .dataframe tbody tr th {\n",
       "        vertical-align: top;\n",
       "    }\n",
       "\n",
       "    .dataframe thead th {\n",
       "        text-align: right;\n",
       "    }\n",
       "</style>\n",
       "<table border=\"1\" class=\"dataframe\">\n",
       "  <thead>\n",
       "    <tr style=\"text-align: right;\">\n",
       "      <th></th>\n",
       "      <th>dwarf_id</th>\n",
       "      <th>hired_date</th>\n",
       "      <th>reported_date</th>\n",
       "      <th>gold_mined</th>\n",
       "      <th>hammer_date</th>\n",
       "    </tr>\n",
       "  </thead>\n",
       "  <tbody>\n",
       "    <tr>\n",
       "      <th>0</th>\n",
       "      <td>1</td>\n",
       "      <td>2014-01-01</td>\n",
       "      <td>2014-01-31</td>\n",
       "      <td>656</td>\n",
       "      <td>2014-01-01</td>\n",
       "    </tr>\n",
       "    <tr>\n",
       "      <th>1</th>\n",
       "      <td>1</td>\n",
       "      <td>2014-01-01</td>\n",
       "      <td>2014-02-28</td>\n",
       "      <td>565</td>\n",
       "      <td>2014-01-01</td>\n",
       "    </tr>\n",
       "    <tr>\n",
       "      <th>2</th>\n",
       "      <td>1</td>\n",
       "      <td>2014-01-01</td>\n",
       "      <td>2014-03-31</td>\n",
       "      <td>516</td>\n",
       "      <td>2014-01-01</td>\n",
       "    </tr>\n",
       "    <tr>\n",
       "      <th>3</th>\n",
       "      <td>1</td>\n",
       "      <td>2014-01-01</td>\n",
       "      <td>2014-04-30</td>\n",
       "      <td>568</td>\n",
       "      <td>2014-01-01</td>\n",
       "    </tr>\n",
       "    <tr>\n",
       "      <th>4</th>\n",
       "      <td>1</td>\n",
       "      <td>2014-01-01</td>\n",
       "      <td>2014-05-31</td>\n",
       "      <td>556</td>\n",
       "      <td>2014-01-01</td>\n",
       "    </tr>\n",
       "  </tbody>\n",
       "</table>\n",
       "</div>"
      ],
      "text/plain": [
       "   dwarf_id  hired_date reported_date  gold_mined hammer_date\n",
       "0         1  2014-01-01    2014-01-31         656  2014-01-01\n",
       "1         1  2014-01-01    2014-02-28         565  2014-01-01\n",
       "2         1  2014-01-01    2014-03-31         516  2014-01-01\n",
       "3         1  2014-01-01    2014-04-30         568  2014-01-01\n",
       "4         1  2014-01-01    2014-05-31         556  2014-01-01"
      ]
     },
     "execution_count": 441,
     "metadata": {},
     "output_type": "execute_result"
    }
   ],
   "source": [
    "df.head()"
   ]
  },
  {
   "cell_type": "code",
   "execution_count": 442,
   "id": "steady-villa",
   "metadata": {},
   "outputs": [
    {
     "data": {
      "text/plain": [
       "array(['2014-01-01', '2015-01-01'], dtype=object)"
      ]
     },
     "execution_count": 442,
     "metadata": {},
     "output_type": "execute_result"
    }
   ],
   "source": [
    "# Уникальные значения в hammer_date, то есть инструменты 1 поколения и 2 поколения \n",
    "df['hammer_date'].unique()"
   ]
  },
  {
   "cell_type": "code",
   "execution_count": 443,
   "id": "meaning-angle",
   "metadata": {},
   "outputs": [
    {
     "data": {
      "text/plain": [
       "dwarf_id          int64\n",
       "hired_date       object\n",
       "reported_date    object\n",
       "gold_mined        int64\n",
       "hammer_date      object\n",
       "dtype: object"
      ]
     },
     "execution_count": 443,
     "metadata": {},
     "output_type": "execute_result"
    }
   ],
   "source": [
    "df.dtypes"
   ]
  },
  {
   "cell_type": "code",
   "execution_count": 444,
   "id": "pointed-newman",
   "metadata": {},
   "outputs": [],
   "source": [
    "df['hired_date'] = pd.to_datetime(df['hired_date'])\n",
    "df['reported_date'] = pd.to_datetime(df['reported_date'])"
   ]
  },
  {
   "cell_type": "code",
   "execution_count": 445,
   "id": "reverse-punishment",
   "metadata": {},
   "outputs": [
    {
     "data": {
      "text/plain": [
       "dwarf_id         0\n",
       "hired_date       0\n",
       "reported_date    0\n",
       "gold_mined       0\n",
       "hammer_date      0\n",
       "dtype: int64"
      ]
     },
     "execution_count": 445,
     "metadata": {},
     "output_type": "execute_result"
    }
   ],
   "source": [
    "df.isna().sum()"
   ]
  },
  {
   "cell_type": "code",
   "execution_count": 446,
   "id": "compact-vintage",
   "metadata": {},
   "outputs": [
    {
     "data": {
      "text/plain": [
       "(13493, 5)"
      ]
     },
     "execution_count": 446,
     "metadata": {},
     "output_type": "execute_result"
    }
   ],
   "source": [
    "df.shape"
   ]
  },
  {
   "cell_type": "code",
   "execution_count": 447,
   "id": "expensive-suite",
   "metadata": {},
   "outputs": [
    {
     "data": {
      "text/html": [
       "<div>\n",
       "<style scoped>\n",
       "    .dataframe tbody tr th:only-of-type {\n",
       "        vertical-align: middle;\n",
       "    }\n",
       "\n",
       "    .dataframe tbody tr th {\n",
       "        vertical-align: top;\n",
       "    }\n",
       "\n",
       "    .dataframe thead th {\n",
       "        text-align: right;\n",
       "    }\n",
       "</style>\n",
       "<table border=\"1\" class=\"dataframe\">\n",
       "  <thead>\n",
       "    <tr style=\"text-align: right;\">\n",
       "      <th></th>\n",
       "      <th>dwarf_id</th>\n",
       "      <th>gold_mined</th>\n",
       "    </tr>\n",
       "  </thead>\n",
       "  <tbody>\n",
       "    <tr>\n",
       "      <th>13</th>\n",
       "      <td>14</td>\n",
       "      <td>10291</td>\n",
       "    </tr>\n",
       "    <tr>\n",
       "      <th>10</th>\n",
       "      <td>11</td>\n",
       "      <td>10261</td>\n",
       "    </tr>\n",
       "    <tr>\n",
       "      <th>5</th>\n",
       "      <td>6</td>\n",
       "      <td>10236</td>\n",
       "    </tr>\n",
       "    <tr>\n",
       "      <th>11</th>\n",
       "      <td>12</td>\n",
       "      <td>10194</td>\n",
       "    </tr>\n",
       "    <tr>\n",
       "      <th>14</th>\n",
       "      <td>15</td>\n",
       "      <td>10139</td>\n",
       "    </tr>\n",
       "    <tr>\n",
       "      <th>...</th>\n",
       "      <td>...</td>\n",
       "      <td>...</td>\n",
       "    </tr>\n",
       "    <tr>\n",
       "      <th>2398</th>\n",
       "      <td>2399</td>\n",
       "      <td>570</td>\n",
       "    </tr>\n",
       "    <tr>\n",
       "      <th>2660</th>\n",
       "      <td>2661</td>\n",
       "      <td>566</td>\n",
       "    </tr>\n",
       "    <tr>\n",
       "      <th>2279</th>\n",
       "      <td>2280</td>\n",
       "      <td>553</td>\n",
       "    </tr>\n",
       "    <tr>\n",
       "      <th>2664</th>\n",
       "      <td>2665</td>\n",
       "      <td>545</td>\n",
       "    </tr>\n",
       "    <tr>\n",
       "      <th>2465</th>\n",
       "      <td>2466</td>\n",
       "      <td>545</td>\n",
       "    </tr>\n",
       "  </tbody>\n",
       "</table>\n",
       "<p>2677 rows × 2 columns</p>\n",
       "</div>"
      ],
      "text/plain": [
       "      dwarf_id  gold_mined\n",
       "13          14       10291\n",
       "10          11       10261\n",
       "5            6       10236\n",
       "11          12       10194\n",
       "14          15       10139\n",
       "...        ...         ...\n",
       "2398      2399         570\n",
       "2660      2661         566\n",
       "2279      2280         553\n",
       "2664      2665         545\n",
       "2465      2466         545\n",
       "\n",
       "[2677 rows x 2 columns]"
      ]
     },
     "execution_count": 447,
     "metadata": {},
     "output_type": "execute_result"
    }
   ],
   "source": [
    "# Суммарное к-во добытого золота по гномам\n",
    "df.groupby('dwarf_id', as_index=False) \\\n",
    "    .agg({'gold_mined':'sum'}) \\\n",
    "    .sort_values(by='gold_mined', ascending=False) "
   ]
  },
  {
   "cell_type": "code",
   "execution_count": 448,
   "id": "baking-coverage",
   "metadata": {},
   "outputs": [],
   "source": [
    "# гномы, использующие инструмент 1 поколения\n",
    "# гномы, использующие инструмент 2 поколения\n",
    "first = df[df['hammer_date']=='2014-01-01']\n",
    "second = df[df['hammer_date']=='2015-01-01']"
   ]
  },
  {
   "cell_type": "code",
   "execution_count": 449,
   "id": "clear-projection",
   "metadata": {},
   "outputs": [
    {
     "data": {
      "text/plain": [
       "(6777, 5)"
      ]
     },
     "execution_count": 449,
     "metadata": {},
     "output_type": "execute_result"
    }
   ],
   "source": [
    "first.shape"
   ]
  },
  {
   "cell_type": "code",
   "execution_count": 450,
   "id": "north-shape",
   "metadata": {},
   "outputs": [
    {
     "data": {
      "text/plain": [
       "(6716, 5)"
      ]
     },
     "execution_count": 450,
     "metadata": {},
     "output_type": "execute_result"
    }
   ],
   "source": [
    "second.shape"
   ]
  },
  {
   "cell_type": "code",
   "execution_count": 451,
   "id": "typical-friendship",
   "metadata": {},
   "outputs": [
    {
     "data": {
      "text/html": [
       "<div>\n",
       "<style scoped>\n",
       "    .dataframe tbody tr th:only-of-type {\n",
       "        vertical-align: middle;\n",
       "    }\n",
       "\n",
       "    .dataframe tbody tr th {\n",
       "        vertical-align: top;\n",
       "    }\n",
       "\n",
       "    .dataframe thead th {\n",
       "        text-align: right;\n",
       "    }\n",
       "</style>\n",
       "<table border=\"1\" class=\"dataframe\">\n",
       "  <thead>\n",
       "    <tr style=\"text-align: right;\">\n",
       "      <th></th>\n",
       "      <th>dwarf_id</th>\n",
       "      <th>hired_date</th>\n",
       "      <th>reported_date</th>\n",
       "      <th>gold_mined</th>\n",
       "      <th>hammer_date</th>\n",
       "    </tr>\n",
       "  </thead>\n",
       "  <tbody>\n",
       "    <tr>\n",
       "      <th>0</th>\n",
       "      <td>1</td>\n",
       "      <td>2014-01-01</td>\n",
       "      <td>2014-01-31</td>\n",
       "      <td>656</td>\n",
       "      <td>2014-01-01</td>\n",
       "    </tr>\n",
       "    <tr>\n",
       "      <th>1</th>\n",
       "      <td>1</td>\n",
       "      <td>2014-01-01</td>\n",
       "      <td>2014-02-28</td>\n",
       "      <td>565</td>\n",
       "      <td>2014-01-01</td>\n",
       "    </tr>\n",
       "    <tr>\n",
       "      <th>2</th>\n",
       "      <td>1</td>\n",
       "      <td>2014-01-01</td>\n",
       "      <td>2014-03-31</td>\n",
       "      <td>516</td>\n",
       "      <td>2014-01-01</td>\n",
       "    </tr>\n",
       "    <tr>\n",
       "      <th>3</th>\n",
       "      <td>1</td>\n",
       "      <td>2014-01-01</td>\n",
       "      <td>2014-04-30</td>\n",
       "      <td>568</td>\n",
       "      <td>2014-01-01</td>\n",
       "    </tr>\n",
       "    <tr>\n",
       "      <th>4</th>\n",
       "      <td>1</td>\n",
       "      <td>2014-01-01</td>\n",
       "      <td>2014-05-31</td>\n",
       "      <td>556</td>\n",
       "      <td>2014-01-01</td>\n",
       "    </tr>\n",
       "  </tbody>\n",
       "</table>\n",
       "</div>"
      ],
      "text/plain": [
       "   dwarf_id hired_date reported_date  gold_mined hammer_date\n",
       "0         1 2014-01-01    2014-01-31         656  2014-01-01\n",
       "1         1 2014-01-01    2014-02-28         565  2014-01-01\n",
       "2         1 2014-01-01    2014-03-31         516  2014-01-01\n",
       "3         1 2014-01-01    2014-04-30         568  2014-01-01\n",
       "4         1 2014-01-01    2014-05-31         556  2014-01-01"
      ]
     },
     "execution_count": 451,
     "metadata": {},
     "output_type": "execute_result"
    }
   ],
   "source": [
    "first.head()"
   ]
  },
  {
   "cell_type": "code",
   "execution_count": 452,
   "id": "cleared-ministry",
   "metadata": {},
   "outputs": [
    {
     "data": {
      "text/html": [
       "<div>\n",
       "<style scoped>\n",
       "    .dataframe tbody tr th:only-of-type {\n",
       "        vertical-align: middle;\n",
       "    }\n",
       "\n",
       "    .dataframe tbody tr th {\n",
       "        vertical-align: top;\n",
       "    }\n",
       "\n",
       "    .dataframe thead th {\n",
       "        text-align: right;\n",
       "    }\n",
       "</style>\n",
       "<table border=\"1\" class=\"dataframe\">\n",
       "  <thead>\n",
       "    <tr style=\"text-align: right;\">\n",
       "      <th></th>\n",
       "      <th>dwarf_id</th>\n",
       "      <th>gold_mined</th>\n",
       "    </tr>\n",
       "  </thead>\n",
       "  <tbody>\n",
       "    <tr>\n",
       "      <th>0</th>\n",
       "      <td>1</td>\n",
       "      <td>10072</td>\n",
       "    </tr>\n",
       "    <tr>\n",
       "      <th>1</th>\n",
       "      <td>2</td>\n",
       "      <td>10065</td>\n",
       "    </tr>\n",
       "    <tr>\n",
       "      <th>2</th>\n",
       "      <td>3</td>\n",
       "      <td>9898</td>\n",
       "    </tr>\n",
       "    <tr>\n",
       "      <th>3</th>\n",
       "      <td>4</td>\n",
       "      <td>10050</td>\n",
       "    </tr>\n",
       "    <tr>\n",
       "      <th>4</th>\n",
       "      <td>5</td>\n",
       "      <td>10136</td>\n",
       "    </tr>\n",
       "    <tr>\n",
       "      <th>...</th>\n",
       "      <td>...</td>\n",
       "      <td>...</td>\n",
       "    </tr>\n",
       "    <tr>\n",
       "      <th>526</th>\n",
       "      <td>527</td>\n",
       "      <td>4972</td>\n",
       "    </tr>\n",
       "    <tr>\n",
       "      <th>527</th>\n",
       "      <td>528</td>\n",
       "      <td>4764</td>\n",
       "    </tr>\n",
       "    <tr>\n",
       "      <th>528</th>\n",
       "      <td>529</td>\n",
       "      <td>5066</td>\n",
       "    </tr>\n",
       "    <tr>\n",
       "      <th>529</th>\n",
       "      <td>530</td>\n",
       "      <td>4970</td>\n",
       "    </tr>\n",
       "    <tr>\n",
       "      <th>530</th>\n",
       "      <td>531</td>\n",
       "      <td>5143</td>\n",
       "    </tr>\n",
       "  </tbody>\n",
       "</table>\n",
       "<p>531 rows × 2 columns</p>\n",
       "</div>"
      ],
      "text/plain": [
       "     dwarf_id  gold_mined\n",
       "0           1       10072\n",
       "1           2       10065\n",
       "2           3        9898\n",
       "3           4       10050\n",
       "4           5       10136\n",
       "..        ...         ...\n",
       "526       527        4972\n",
       "527       528        4764\n",
       "528       529        5066\n",
       "529       530        4970\n",
       "530       531        5143\n",
       "\n",
       "[531 rows x 2 columns]"
      ]
     },
     "execution_count": 452,
     "metadata": {},
     "output_type": "execute_result"
    }
   ],
   "source": [
    "# к-во золота, добытое каждым гномом из 1\n",
    "first.groupby('dwarf_id', as_index=False) \\\n",
    "    .agg({'gold_mined':'sum'})"
   ]
  },
  {
   "cell_type": "code",
   "execution_count": 453,
   "id": "industrial-donor",
   "metadata": {},
   "outputs": [
    {
     "data": {
      "text/html": [
       "<div>\n",
       "<style scoped>\n",
       "    .dataframe tbody tr th:only-of-type {\n",
       "        vertical-align: middle;\n",
       "    }\n",
       "\n",
       "    .dataframe tbody tr th {\n",
       "        vertical-align: top;\n",
       "    }\n",
       "\n",
       "    .dataframe thead th {\n",
       "        text-align: right;\n",
       "    }\n",
       "</style>\n",
       "<table border=\"1\" class=\"dataframe\">\n",
       "  <thead>\n",
       "    <tr style=\"text-align: right;\">\n",
       "      <th></th>\n",
       "      <th>dwarf_id</th>\n",
       "      <th>gold_mined</th>\n",
       "    </tr>\n",
       "  </thead>\n",
       "  <tbody>\n",
       "    <tr>\n",
       "      <th>0</th>\n",
       "      <td>532</td>\n",
       "      <td>4714</td>\n",
       "    </tr>\n",
       "    <tr>\n",
       "      <th>1</th>\n",
       "      <td>533</td>\n",
       "      <td>4526</td>\n",
       "    </tr>\n",
       "    <tr>\n",
       "      <th>2</th>\n",
       "      <td>534</td>\n",
       "      <td>4598</td>\n",
       "    </tr>\n",
       "    <tr>\n",
       "      <th>3</th>\n",
       "      <td>535</td>\n",
       "      <td>4704</td>\n",
       "    </tr>\n",
       "    <tr>\n",
       "      <th>4</th>\n",
       "      <td>536</td>\n",
       "      <td>4528</td>\n",
       "    </tr>\n",
       "    <tr>\n",
       "      <th>...</th>\n",
       "      <td>...</td>\n",
       "      <td>...</td>\n",
       "    </tr>\n",
       "    <tr>\n",
       "      <th>2141</th>\n",
       "      <td>2673</td>\n",
       "      <td>695</td>\n",
       "    </tr>\n",
       "    <tr>\n",
       "      <th>2142</th>\n",
       "      <td>2674</td>\n",
       "      <td>573</td>\n",
       "    </tr>\n",
       "    <tr>\n",
       "      <th>2143</th>\n",
       "      <td>2675</td>\n",
       "      <td>617</td>\n",
       "    </tr>\n",
       "    <tr>\n",
       "      <th>2144</th>\n",
       "      <td>2676</td>\n",
       "      <td>609</td>\n",
       "    </tr>\n",
       "    <tr>\n",
       "      <th>2145</th>\n",
       "      <td>2677</td>\n",
       "      <td>622</td>\n",
       "    </tr>\n",
       "  </tbody>\n",
       "</table>\n",
       "<p>2146 rows × 2 columns</p>\n",
       "</div>"
      ],
      "text/plain": [
       "      dwarf_id  gold_mined\n",
       "0          532        4714\n",
       "1          533        4526\n",
       "2          534        4598\n",
       "3          535        4704\n",
       "4          536        4528\n",
       "...        ...         ...\n",
       "2141      2673         695\n",
       "2142      2674         573\n",
       "2143      2675         617\n",
       "2144      2676         609\n",
       "2145      2677         622\n",
       "\n",
       "[2146 rows x 2 columns]"
      ]
     },
     "execution_count": 453,
     "metadata": {},
     "output_type": "execute_result"
    }
   ],
   "source": [
    "# к-во золота, добытое каждым гномом из 2 группы\n",
    "second.groupby('dwarf_id', as_index=False) \\\n",
    "    .agg({'gold_mined':'sum'})"
   ]
  },
  {
   "cell_type": "code",
   "execution_count": 454,
   "id": "duplicate-invention",
   "metadata": {},
   "outputs": [
    {
     "data": {
      "text/plain": [
       "3640010"
      ]
     },
     "execution_count": 454,
     "metadata": {},
     "output_type": "execute_result"
    }
   ],
   "source": [
    "# суммарное к-во золота из 1 поколения\n",
    "first['gold_mined'].sum()"
   ]
  },
  {
   "cell_type": "code",
   "execution_count": 455,
   "id": "internal-albuquerque",
   "metadata": {},
   "outputs": [
    {
     "data": {
      "text/plain": [
       "4094482"
      ]
     },
     "execution_count": 455,
     "metadata": {},
     "output_type": "execute_result"
    }
   ],
   "source": [
    "# суммарное к-во золота из 1 поколения\n",
    "second['gold_mined'].sum()"
   ]
  },
  {
   "cell_type": "code",
   "execution_count": 456,
   "id": "elder-manufacturer",
   "metadata": {},
   "outputs": [
    {
     "data": {
      "text/plain": [
       "Timestamp('2014-01-01 00:00:00')"
      ]
     },
     "execution_count": 456,
     "metadata": {},
     "output_type": "execute_result"
    }
   ],
   "source": [
    "df['hired_date'].min()"
   ]
  },
  {
   "cell_type": "code",
   "execution_count": 457,
   "id": "concrete-glossary",
   "metadata": {},
   "outputs": [
    {
     "data": {
      "text/plain": [
       "Timestamp('2015-08-01 00:00:00')"
      ]
     },
     "execution_count": 457,
     "metadata": {},
     "output_type": "execute_result"
    }
   ],
   "source": [
    "df['hired_date'].max()"
   ]
  },
  {
   "cell_type": "code",
   "execution_count": 458,
   "id": "organizational-joshua",
   "metadata": {},
   "outputs": [
    {
     "data": {
      "text/plain": [
       "Timestamp('2014-01-31 00:00:00')"
      ]
     },
     "execution_count": 458,
     "metadata": {},
     "output_type": "execute_result"
    }
   ],
   "source": [
    "df['reported_date'].min()"
   ]
  },
  {
   "cell_type": "code",
   "execution_count": 459,
   "id": "diverse-gates",
   "metadata": {},
   "outputs": [
    {
     "data": {
      "text/plain": [
       "Timestamp('2015-08-31 00:00:00')"
      ]
     },
     "execution_count": 459,
     "metadata": {},
     "output_type": "execute_result"
    }
   ],
   "source": [
    "# последние данные о добытом золоте приходится на 31 августа 2015 года \n",
    "df['reported_date'].max()"
   ]
  },
  {
   "cell_type": "code",
   "execution_count": 460,
   "id": "intellectual-mandate",
   "metadata": {},
   "outputs": [
    {
     "data": {
      "text/plain": [
       "2677"
      ]
     },
     "execution_count": 460,
     "metadata": {},
     "output_type": "execute_result"
    }
   ],
   "source": [
    "# количество уникальных гномов\n",
    "df['dwarf_id'].nunique()"
   ]
  },
  {
   "cell_type": "code",
   "execution_count": 461,
   "id": "desperate-sphere",
   "metadata": {},
   "outputs": [
    {
     "name": "stderr",
     "output_type": "stream",
     "text": [
      "/Library/Frameworks/Python.framework/Versions/3.9/lib/python3.9/site-packages/seaborn/distributions.py:2557: FutureWarning: `distplot` is a deprecated function and will be removed in a future version. Please adapt your code to use either `displot` (a figure-level function with similar flexibility) or `histplot` (an axes-level function for histograms).\n",
      "  warnings.warn(msg, FutureWarning)\n"
     ]
    },
    {
     "data": {
      "image/png": "[encoded data removed]",
      "text/plain": [
       "<Figure size 720x360 with 1 Axes>"
      ]
     },
     "metadata": {},
     "output_type": "display_data"
    }
   ],
   "source": [
    "# Распредление к-ва золота в 1 группе гномов\n",
    "sns.distplot(first['gold_mined'], kde=False);"
   ]
  },
  {
   "cell_type": "code",
   "execution_count": 462,
   "id": "appropriate-cutting",
   "metadata": {},
   "outputs": [
    {
     "data": {
      "image/png": "[encoded data removed]",
      "text/plain": [
       "<Figure size 720x360 with 1 Axes>"
      ]
     },
     "metadata": {},
     "output_type": "display_data"
    }
   ],
   "source": [
    "# Распредление к-ва золота во 2 группе гномов\n",
    "sns.distplot(second['gold_mined'], kde=False);"
   ]
  },
  {
   "cell_type": "code",
   "execution_count": 463,
   "id": "digital-employment",
   "metadata": {},
   "outputs": [
    {
     "name": "stderr",
     "output_type": "stream",
     "text": [
      "/Library/Frameworks/Python.framework/Versions/3.9/lib/python3.9/site-packages/seaborn/_decorators.py:36: FutureWarning: Pass the following variable as a keyword arg: x. From version 0.12, the only valid positional argument will be `data`, and passing other arguments without an explicit keyword will result in an error or misinterpretation.\n",
      "  warnings.warn(\n"
     ]
    },
    {
     "data": {
      "text/plain": [
       "<AxesSubplot:xlabel='gold_mined'>"
      ]
     },
     "execution_count": 463,
     "metadata": {},
     "output_type": "execute_result"
    },
    {
     "data": {
      "image/png": "[encoded data removed]",
      "text/plain": [
       "<Figure size 720x360 with 1 Axes>"
      ]
     },
     "metadata": {},
     "output_type": "display_data"
    }
   ],
   "source": [
    "sns.boxplot(first['gold_mined'])"
   ]
  },
  {
   "cell_type": "code",
   "execution_count": 464,
   "id": "together-reference",
   "metadata": {},
   "outputs": [
    {
     "name": "stderr",
     "output_type": "stream",
     "text": [
      "/Library/Frameworks/Python.framework/Versions/3.9/lib/python3.9/site-packages/seaborn/_decorators.py:36: FutureWarning: Pass the following variable as a keyword arg: x. From version 0.12, the only valid positional argument will be `data`, and passing other arguments without an explicit keyword will result in an error or misinterpretation.\n",
      "  warnings.warn(\n"
     ]
    },
    {
     "data": {
      "text/plain": [
       "<AxesSubplot:xlabel='gold_mined'>"
      ]
     },
     "execution_count": 464,
     "metadata": {},
     "output_type": "execute_result"
    },
    {
     "data": {
      "image/png": "[encoded data removed]",
      "text/plain": [
       "<Figure size 720x360 with 1 Axes>"
      ]
     },
     "metadata": {},
     "output_type": "display_data"
    }
   ],
   "source": [
    "sns.boxplot(second['gold_mined'])"
   ]
  },
  {
   "cell_type": "code",
   "execution_count": 465,
   "id": "better-perspective",
   "metadata": {},
   "outputs": [
    {
     "data": {
      "text/html": [
       "<div>\n",
       "<style scoped>\n",
       "    .dataframe tbody tr th:only-of-type {\n",
       "        vertical-align: middle;\n",
       "    }\n",
       "\n",
       "    .dataframe tbody tr th {\n",
       "        vertical-align: top;\n",
       "    }\n",
       "\n",
       "    .dataframe thead th {\n",
       "        text-align: right;\n",
       "    }\n",
       "</style>\n",
       "<table border=\"1\" class=\"dataframe\">\n",
       "  <thead>\n",
       "    <tr style=\"text-align: right;\">\n",
       "      <th></th>\n",
       "      <th>dwarf_id</th>\n",
       "      <th>gold_mined</th>\n",
       "    </tr>\n",
       "  </thead>\n",
       "  <tbody>\n",
       "    <tr>\n",
       "      <th>count</th>\n",
       "      <td>13493.000000</td>\n",
       "      <td>13493.000000</td>\n",
       "    </tr>\n",
       "    <tr>\n",
       "      <th>mean</th>\n",
       "      <td>724.746387</td>\n",
       "      <td>573.222560</td>\n",
       "    </tr>\n",
       "    <tr>\n",
       "      <th>std</th>\n",
       "      <td>645.211463</td>\n",
       "      <td>60.166139</td>\n",
       "    </tr>\n",
       "    <tr>\n",
       "      <th>min</th>\n",
       "      <td>1.000000</td>\n",
       "      <td>352.000000</td>\n",
       "    </tr>\n",
       "    <tr>\n",
       "      <th>25%</th>\n",
       "      <td>209.000000</td>\n",
       "      <td>533.000000</td>\n",
       "    </tr>\n",
       "    <tr>\n",
       "      <th>50%</th>\n",
       "      <td>528.000000</td>\n",
       "      <td>579.000000</td>\n",
       "    </tr>\n",
       "    <tr>\n",
       "      <th>75%</th>\n",
       "      <td>1060.000000</td>\n",
       "      <td>618.000000</td>\n",
       "    </tr>\n",
       "    <tr>\n",
       "      <th>max</th>\n",
       "      <td>2677.000000</td>\n",
       "      <td>753.000000</td>\n",
       "    </tr>\n",
       "  </tbody>\n",
       "</table>\n",
       "</div>"
      ],
      "text/plain": [
       "           dwarf_id    gold_mined\n",
       "count  13493.000000  13493.000000\n",
       "mean     724.746387    573.222560\n",
       "std      645.211463     60.166139\n",
       "min        1.000000    352.000000\n",
       "25%      209.000000    533.000000\n",
       "50%      528.000000    579.000000\n",
       "75%     1060.000000    618.000000\n",
       "max     2677.000000    753.000000"
      ]
     },
     "execution_count": 465,
     "metadata": {},
     "output_type": "execute_result"
    }
   ],
   "source": [
    "# Описательные статистики для df\n",
    "df.describe()"
   ]
  },
  {
   "cell_type": "code",
   "execution_count": 466,
   "id": "liquid-delivery",
   "metadata": {},
   "outputs": [
    {
     "name": "stdout",
     "output_type": "stream",
     "text": [
      "<class 'pandas.core.frame.DataFrame'>\n",
      "RangeIndex: 13493 entries, 0 to 13492\n",
      "Data columns (total 5 columns):\n",
      " #   Column         Non-Null Count  Dtype         \n",
      "---  ------         --------------  -----         \n",
      " 0   dwarf_id       13493 non-null  int64         \n",
      " 1   hired_date     13493 non-null  datetime64[ns]\n",
      " 2   reported_date  13493 non-null  datetime64[ns]\n",
      " 3   gold_mined     13493 non-null  int64         \n",
      " 4   hammer_date    13493 non-null  object        \n",
      "dtypes: datetime64[ns](2), int64(2), object(1)\n",
      "memory usage: 527.2+ KB\n"
     ]
    }
   ],
   "source": [
    "df.info()"
   ]
  },
  {
   "cell_type": "code",
   "execution_count": 467,
   "id": "capital-airplane",
   "metadata": {},
   "outputs": [
    {
     "data": {
      "text/html": [
       "<div>\n",
       "<style scoped>\n",
       "    .dataframe tbody tr th:only-of-type {\n",
       "        vertical-align: middle;\n",
       "    }\n",
       "\n",
       "    .dataframe tbody tr th {\n",
       "        vertical-align: top;\n",
       "    }\n",
       "\n",
       "    .dataframe thead th {\n",
       "        text-align: right;\n",
       "    }\n",
       "</style>\n",
       "<table border=\"1\" class=\"dataframe\">\n",
       "  <thead>\n",
       "    <tr style=\"text-align: right;\">\n",
       "      <th></th>\n",
       "      <th>dwarf_id</th>\n",
       "      <th>hired_date</th>\n",
       "      <th>reported_date</th>\n",
       "      <th>gold_mined</th>\n",
       "      <th>hammer_date</th>\n",
       "    </tr>\n",
       "  </thead>\n",
       "  <tbody>\n",
       "    <tr>\n",
       "      <th>0</th>\n",
       "      <td>1</td>\n",
       "      <td>2014-01-01</td>\n",
       "      <td>2014-01-31</td>\n",
       "      <td>656</td>\n",
       "      <td>2014-01-01</td>\n",
       "    </tr>\n",
       "    <tr>\n",
       "      <th>1</th>\n",
       "      <td>1</td>\n",
       "      <td>2014-01-01</td>\n",
       "      <td>2014-02-28</td>\n",
       "      <td>565</td>\n",
       "      <td>2014-01-01</td>\n",
       "    </tr>\n",
       "    <tr>\n",
       "      <th>2</th>\n",
       "      <td>1</td>\n",
       "      <td>2014-01-01</td>\n",
       "      <td>2014-03-31</td>\n",
       "      <td>516</td>\n",
       "      <td>2014-01-01</td>\n",
       "    </tr>\n",
       "    <tr>\n",
       "      <th>3</th>\n",
       "      <td>1</td>\n",
       "      <td>2014-01-01</td>\n",
       "      <td>2014-04-30</td>\n",
       "      <td>568</td>\n",
       "      <td>2014-01-01</td>\n",
       "    </tr>\n",
       "    <tr>\n",
       "      <th>4</th>\n",
       "      <td>1</td>\n",
       "      <td>2014-01-01</td>\n",
       "      <td>2014-05-31</td>\n",
       "      <td>556</td>\n",
       "      <td>2014-01-01</td>\n",
       "    </tr>\n",
       "  </tbody>\n",
       "</table>\n",
       "</div>"
      ],
      "text/plain": [
       "   dwarf_id hired_date reported_date  gold_mined hammer_date\n",
       "0         1 2014-01-01    2014-01-31         656  2014-01-01\n",
       "1         1 2014-01-01    2014-02-28         565  2014-01-01\n",
       "2         1 2014-01-01    2014-03-31         516  2014-01-01\n",
       "3         1 2014-01-01    2014-04-30         568  2014-01-01\n",
       "4         1 2014-01-01    2014-05-31         556  2014-01-01"
      ]
     },
     "execution_count": 467,
     "metadata": {},
     "output_type": "execute_result"
    }
   ],
   "source": [
    "first.head()"
   ]
  },
  {
   "cell_type": "code",
   "execution_count": 468,
   "id": "understanding-championship",
   "metadata": {},
   "outputs": [
    {
     "data": {
      "text/plain": [
       "531"
      ]
     },
     "execution_count": 468,
     "metadata": {},
     "output_type": "execute_result"
    }
   ],
   "source": [
    "# к-во уникальных гномов, работающие с инструментом 1 поколения\n",
    "first['dwarf_id'].nunique()"
   ]
  },
  {
   "cell_type": "code",
   "execution_count": 469,
   "id": "oriented-actor",
   "metadata": {},
   "outputs": [
    {
     "data": {
      "text/plain": [
       "2146"
      ]
     },
     "execution_count": 469,
     "metadata": {},
     "output_type": "execute_result"
    }
   ],
   "source": [
    "# к-во уникальных гномов, работающие с инструментом 2 поколения\n",
    "second['dwarf_id'].nunique()"
   ]
  },
  {
   "cell_type": "code",
   "execution_count": 470,
   "id": "ancient-parade",
   "metadata": {},
   "outputs": [
    {
     "data": {
      "text/plain": [
       "Timestamp('2014-12-01 00:00:00')"
      ]
     },
     "execution_count": 470,
     "metadata": {},
     "output_type": "execute_result"
    }
   ],
   "source": [
    "first['hired_date'].max()"
   ]
  },
  {
   "cell_type": "code",
   "execution_count": 471,
   "id": "reliable-sequence",
   "metadata": {},
   "outputs": [
    {
     "data": {
      "text/plain": [
       "Timestamp('2015-01-01 00:00:00')"
      ]
     },
     "execution_count": 471,
     "metadata": {},
     "output_type": "execute_result"
    }
   ],
   "source": [
    "second['hired_date'].min()"
   ]
  },
  {
   "cell_type": "code",
   "execution_count": 472,
   "id": "square-garlic",
   "metadata": {},
   "outputs": [
    {
     "data": {
      "text/plain": [
       "537.112291574443"
      ]
     },
     "execution_count": 472,
     "metadata": {},
     "output_type": "execute_result"
    }
   ],
   "source": [
    "# Среднее значение добытого золота с 1 поколением инструмента\n",
    "first['gold_mined'].mean()"
   ]
  },
  {
   "cell_type": "code",
   "execution_count": 473,
   "id": "dietary-freeze",
   "metadata": {},
   "outputs": [
    {
     "data": {
      "text/plain": [
       "609.6608100059559"
      ]
     },
     "execution_count": 473,
     "metadata": {},
     "output_type": "execute_result"
    }
   ],
   "source": [
    "# Среднее значение добытого золота с 2 поколением инструмента\n",
    "second['gold_mined'].mean()"
   ]
  },
  {
   "cell_type": "code",
   "execution_count": 474,
   "id": "checked-auckland",
   "metadata": {},
   "outputs": [
    {
     "data": {
      "text/plain": [
       "541.0"
      ]
     },
     "execution_count": 474,
     "metadata": {},
     "output_type": "execute_result"
    }
   ],
   "source": [
    "# Медианное значение добытого золота с 1 поколением инструмента\n",
    "first['gold_mined'].median()"
   ]
  },
  {
   "cell_type": "code",
   "execution_count": 475,
   "id": "blond-advantage",
   "metadata": {},
   "outputs": [
    {
     "data": {
      "text/plain": [
       "613.0"
      ]
     },
     "execution_count": 475,
     "metadata": {},
     "output_type": "execute_result"
    }
   ],
   "source": [
    "# Медианное значение добытого золота с 1 поколением инструмента\n",
    "second['gold_mined'].median()"
   ]
  },
  {
   "cell_type": "code",
   "execution_count": 476,
   "id": "intelligent-lambda",
   "metadata": {},
   "outputs": [
    {
     "data": {
      "text/html": [
       "<div>\n",
       "<style scoped>\n",
       "    .dataframe tbody tr th:only-of-type {\n",
       "        vertical-align: middle;\n",
       "    }\n",
       "\n",
       "    .dataframe tbody tr th {\n",
       "        vertical-align: top;\n",
       "    }\n",
       "\n",
       "    .dataframe thead th {\n",
       "        text-align: right;\n",
       "    }\n",
       "</style>\n",
       "<table border=\"1\" class=\"dataframe\">\n",
       "  <thead>\n",
       "    <tr style=\"text-align: right;\">\n",
       "      <th></th>\n",
       "      <th>dwarf_id</th>\n",
       "      <th>gold_mined</th>\n",
       "    </tr>\n",
       "  </thead>\n",
       "  <tbody>\n",
       "    <tr>\n",
       "      <th>0</th>\n",
       "      <td>1</td>\n",
       "      <td>10072</td>\n",
       "    </tr>\n",
       "    <tr>\n",
       "      <th>1</th>\n",
       "      <td>2</td>\n",
       "      <td>10065</td>\n",
       "    </tr>\n",
       "    <tr>\n",
       "      <th>2</th>\n",
       "      <td>3</td>\n",
       "      <td>9898</td>\n",
       "    </tr>\n",
       "    <tr>\n",
       "      <th>3</th>\n",
       "      <td>4</td>\n",
       "      <td>10050</td>\n",
       "    </tr>\n",
       "    <tr>\n",
       "      <th>4</th>\n",
       "      <td>5</td>\n",
       "      <td>10136</td>\n",
       "    </tr>\n",
       "    <tr>\n",
       "      <th>...</th>\n",
       "      <td>...</td>\n",
       "      <td>...</td>\n",
       "    </tr>\n",
       "    <tr>\n",
       "      <th>526</th>\n",
       "      <td>527</td>\n",
       "      <td>4972</td>\n",
       "    </tr>\n",
       "    <tr>\n",
       "      <th>527</th>\n",
       "      <td>528</td>\n",
       "      <td>4764</td>\n",
       "    </tr>\n",
       "    <tr>\n",
       "      <th>528</th>\n",
       "      <td>529</td>\n",
       "      <td>5066</td>\n",
       "    </tr>\n",
       "    <tr>\n",
       "      <th>529</th>\n",
       "      <td>530</td>\n",
       "      <td>4970</td>\n",
       "    </tr>\n",
       "    <tr>\n",
       "      <th>530</th>\n",
       "      <td>531</td>\n",
       "      <td>5143</td>\n",
       "    </tr>\n",
       "  </tbody>\n",
       "</table>\n",
       "<p>531 rows × 2 columns</p>\n",
       "</div>"
      ],
      "text/plain": [
       "     dwarf_id  gold_mined\n",
       "0           1       10072\n",
       "1           2       10065\n",
       "2           3        9898\n",
       "3           4       10050\n",
       "4           5       10136\n",
       "..        ...         ...\n",
       "526       527        4972\n",
       "527       528        4764\n",
       "528       529        5066\n",
       "529       530        4970\n",
       "530       531        5143\n",
       "\n",
       "[531 rows x 2 columns]"
      ]
     },
     "execution_count": 476,
     "metadata": {},
     "output_type": "execute_result"
    }
   ],
   "source": [
    "# гном с id 531 был последним, кто использовал инструмент 1 поколения\n",
    "first.groupby('dwarf_id', as_index=False) \\\n",
    "    .agg({'gold_mined': 'sum'}) \\\n",
    "    .sort_values(by='dwarf_id', ascending=True)"
   ]
  },
  {
   "cell_type": "code",
   "execution_count": 477,
   "id": "accurate-signature",
   "metadata": {},
   "outputs": [
    {
     "data": {
      "text/html": [
       "<div>\n",
       "<style scoped>\n",
       "    .dataframe tbody tr th:only-of-type {\n",
       "        vertical-align: middle;\n",
       "    }\n",
       "\n",
       "    .dataframe tbody tr th {\n",
       "        vertical-align: top;\n",
       "    }\n",
       "\n",
       "    .dataframe thead th {\n",
       "        text-align: right;\n",
       "    }\n",
       "</style>\n",
       "<table border=\"1\" class=\"dataframe\">\n",
       "  <thead>\n",
       "    <tr style=\"text-align: right;\">\n",
       "      <th></th>\n",
       "      <th>dwarf_id</th>\n",
       "      <th>gold_mined</th>\n",
       "    </tr>\n",
       "  </thead>\n",
       "  <tbody>\n",
       "    <tr>\n",
       "      <th>0</th>\n",
       "      <td>532</td>\n",
       "      <td>4714</td>\n",
       "    </tr>\n",
       "    <tr>\n",
       "      <th>1</th>\n",
       "      <td>533</td>\n",
       "      <td>4526</td>\n",
       "    </tr>\n",
       "    <tr>\n",
       "      <th>2</th>\n",
       "      <td>534</td>\n",
       "      <td>4598</td>\n",
       "    </tr>\n",
       "    <tr>\n",
       "      <th>3</th>\n",
       "      <td>535</td>\n",
       "      <td>4704</td>\n",
       "    </tr>\n",
       "    <tr>\n",
       "      <th>4</th>\n",
       "      <td>536</td>\n",
       "      <td>4528</td>\n",
       "    </tr>\n",
       "    <tr>\n",
       "      <th>...</th>\n",
       "      <td>...</td>\n",
       "      <td>...</td>\n",
       "    </tr>\n",
       "    <tr>\n",
       "      <th>2141</th>\n",
       "      <td>2673</td>\n",
       "      <td>695</td>\n",
       "    </tr>\n",
       "    <tr>\n",
       "      <th>2142</th>\n",
       "      <td>2674</td>\n",
       "      <td>573</td>\n",
       "    </tr>\n",
       "    <tr>\n",
       "      <th>2143</th>\n",
       "      <td>2675</td>\n",
       "      <td>617</td>\n",
       "    </tr>\n",
       "    <tr>\n",
       "      <th>2144</th>\n",
       "      <td>2676</td>\n",
       "      <td>609</td>\n",
       "    </tr>\n",
       "    <tr>\n",
       "      <th>2145</th>\n",
       "      <td>2677</td>\n",
       "      <td>622</td>\n",
       "    </tr>\n",
       "  </tbody>\n",
       "</table>\n",
       "<p>2146 rows × 2 columns</p>\n",
       "</div>"
      ],
      "text/plain": [
       "      dwarf_id  gold_mined\n",
       "0          532        4714\n",
       "1          533        4526\n",
       "2          534        4598\n",
       "3          535        4704\n",
       "4          536        4528\n",
       "...        ...         ...\n",
       "2141      2673         695\n",
       "2142      2674         573\n",
       "2143      2675         617\n",
       "2144      2676         609\n",
       "2145      2677         622\n",
       "\n",
       "[2146 rows x 2 columns]"
      ]
     },
     "execution_count": 477,
     "metadata": {},
     "output_type": "execute_result"
    }
   ],
   "source": [
    "# гном с id 532 был первым, кто использовал инструмент 2 поколения\n",
    "second.groupby('dwarf_id', as_index=False) \\\n",
    "    .agg({'gold_mined': 'sum'}) \\\n",
    "    .sort_values(by='dwarf_id', ascending=True)"
   ]
  },
  {
   "cell_type": "code",
   "execution_count": 478,
   "id": "agricultural-massachusetts",
   "metadata": {},
   "outputs": [
    {
     "data": {
      "text/plain": [
       "4      20\n",
       "1      20\n",
       "15     20\n",
       "11     20\n",
       "7      20\n",
       "       ..\n",
       "492     9\n",
       "496     9\n",
       "500     9\n",
       "504     9\n",
       "531     9\n",
       "Name: dwarf_id, Length: 531, dtype: int64"
      ]
     },
     "execution_count": 478,
     "metadata": {},
     "output_type": "execute_result"
    }
   ],
   "source": [
    "# К-во работ, которые выполнил каждый гном в 1 группе\n",
    "first['dwarf_id'].value_counts()"
   ]
  },
  {
   "cell_type": "code",
   "execution_count": 479,
   "id": "plastic-sociology",
   "metadata": {},
   "outputs": [
    {
     "data": {
      "text/plain": [
       "565     8\n",
       "535     8\n",
       "543     8\n",
       "547     8\n",
       "551     8\n",
       "       ..\n",
       "2362    1\n",
       "2366    1\n",
       "2370    1\n",
       "2374    1\n",
       "2458    1\n",
       "Name: dwarf_id, Length: 2146, dtype: int64"
      ]
     },
     "execution_count": 479,
     "metadata": {},
     "output_type": "execute_result"
    }
   ],
   "source": [
    "# К-во работ, которые выполнил каждый гном во 2 группе\n",
    "second['dwarf_id'].value_counts()"
   ]
  },
  {
   "cell_type": "code",
   "execution_count": 480,
   "id": "unsigned-night",
   "metadata": {},
   "outputs": [
    {
     "data": {
      "text/plain": [
       "12.76271186440678"
      ]
     },
     "execution_count": 480,
     "metadata": {},
     "output_type": "execute_result"
    }
   ],
   "source": [
    "# Среднее к-во работ, которое было выполнено в 1 группе, т.е в среднем один гном выполнил 12.8 работ, используя 1 поколение инструм.\n",
    "# При условии, что их выполняло всего 531 гном. \n",
    "first['dwarf_id'].value_counts().mean()"
   ]
  },
  {
   "cell_type": "code",
   "execution_count": 481,
   "id": "unauthorized-raleigh",
   "metadata": {},
   "outputs": [
    {
     "data": {
      "text/plain": [
       "3.1295433364398884"
      ]
     },
     "execution_count": 481,
     "metadata": {},
     "output_type": "execute_result"
    }
   ],
   "source": [
    "# Среднее к-во работ, которое было выполнено в 2 группе, т.е в среднем один гном выполнил 3.1 работ, используя 2 поколение инструм.\n",
    "# При условии, что их выполняло всего 2146 гномов.\n",
    "second['dwarf_id'].value_counts().mean()"
   ]
  },
  {
   "cell_type": "code",
   "execution_count": 482,
   "id": "becoming-sponsorship",
   "metadata": {},
   "outputs": [],
   "source": [
    "# создаем колонки с месяцем и годом добычи золота\n",
    "df['reported_month'] = df['reported_date'].dt.month\n",
    "df['reported_year'] = df['reported_date'].dt.year"
   ]
  },
  {
   "cell_type": "code",
   "execution_count": 483,
   "id": "married-difficulty",
   "metadata": {},
   "outputs": [
    {
     "data": {
      "text/html": [
       "<div>\n",
       "<style scoped>\n",
       "    .dataframe tbody tr th:only-of-type {\n",
       "        vertical-align: middle;\n",
       "    }\n",
       "\n",
       "    .dataframe tbody tr th {\n",
       "        vertical-align: top;\n",
       "    }\n",
       "\n",
       "    .dataframe thead th {\n",
       "        text-align: right;\n",
       "    }\n",
       "</style>\n",
       "<table border=\"1\" class=\"dataframe\">\n",
       "  <thead>\n",
       "    <tr style=\"text-align: right;\">\n",
       "      <th></th>\n",
       "      <th>dwarf_id</th>\n",
       "      <th>hired_date</th>\n",
       "      <th>reported_date</th>\n",
       "      <th>gold_mined</th>\n",
       "      <th>hammer_date</th>\n",
       "      <th>reported_month</th>\n",
       "      <th>reported_year</th>\n",
       "    </tr>\n",
       "  </thead>\n",
       "  <tbody>\n",
       "    <tr>\n",
       "      <th>0</th>\n",
       "      <td>1</td>\n",
       "      <td>2014-01-01</td>\n",
       "      <td>2014-01-31</td>\n",
       "      <td>656</td>\n",
       "      <td>2014-01-01</td>\n",
       "      <td>1</td>\n",
       "      <td>2014</td>\n",
       "    </tr>\n",
       "    <tr>\n",
       "      <th>1</th>\n",
       "      <td>1</td>\n",
       "      <td>2014-01-01</td>\n",
       "      <td>2014-02-28</td>\n",
       "      <td>565</td>\n",
       "      <td>2014-01-01</td>\n",
       "      <td>2</td>\n",
       "      <td>2014</td>\n",
       "    </tr>\n",
       "    <tr>\n",
       "      <th>2</th>\n",
       "      <td>1</td>\n",
       "      <td>2014-01-01</td>\n",
       "      <td>2014-03-31</td>\n",
       "      <td>516</td>\n",
       "      <td>2014-01-01</td>\n",
       "      <td>3</td>\n",
       "      <td>2014</td>\n",
       "    </tr>\n",
       "    <tr>\n",
       "      <th>3</th>\n",
       "      <td>1</td>\n",
       "      <td>2014-01-01</td>\n",
       "      <td>2014-04-30</td>\n",
       "      <td>568</td>\n",
       "      <td>2014-01-01</td>\n",
       "      <td>4</td>\n",
       "      <td>2014</td>\n",
       "    </tr>\n",
       "    <tr>\n",
       "      <th>4</th>\n",
       "      <td>1</td>\n",
       "      <td>2014-01-01</td>\n",
       "      <td>2014-05-31</td>\n",
       "      <td>556</td>\n",
       "      <td>2014-01-01</td>\n",
       "      <td>5</td>\n",
       "      <td>2014</td>\n",
       "    </tr>\n",
       "  </tbody>\n",
       "</table>\n",
       "</div>"
      ],
      "text/plain": [
       "   dwarf_id hired_date reported_date  gold_mined hammer_date  reported_month  \\\n",
       "0         1 2014-01-01    2014-01-31         656  2014-01-01               1   \n",
       "1         1 2014-01-01    2014-02-28         565  2014-01-01               2   \n",
       "2         1 2014-01-01    2014-03-31         516  2014-01-01               3   \n",
       "3         1 2014-01-01    2014-04-30         568  2014-01-01               4   \n",
       "4         1 2014-01-01    2014-05-31         556  2014-01-01               5   \n",
       "\n",
       "   reported_year  \n",
       "0           2014  \n",
       "1           2014  \n",
       "2           2014  \n",
       "3           2014  \n",
       "4           2014  "
      ]
     },
     "execution_count": 483,
     "metadata": {},
     "output_type": "execute_result"
    }
   ],
   "source": [
    "df.head()"
   ]
  },
  {
   "cell_type": "code",
   "execution_count": 484,
   "id": "tracked-bidder",
   "metadata": {},
   "outputs": [
    {
     "data": {
      "text/html": [
       "<div>\n",
       "<style scoped>\n",
       "    .dataframe tbody tr th:only-of-type {\n",
       "        vertical-align: middle;\n",
       "    }\n",
       "\n",
       "    .dataframe tbody tr th {\n",
       "        vertical-align: top;\n",
       "    }\n",
       "\n",
       "    .dataframe thead th {\n",
       "        text-align: right;\n",
       "    }\n",
       "</style>\n",
       "<table border=\"1\" class=\"dataframe\">\n",
       "  <thead>\n",
       "    <tr style=\"text-align: right;\">\n",
       "      <th></th>\n",
       "      <th>reported_month</th>\n",
       "      <th>gold_mined</th>\n",
       "    </tr>\n",
       "  </thead>\n",
       "  <tbody>\n",
       "    <tr>\n",
       "      <th>0</th>\n",
       "      <td>1</td>\n",
       "      <td>10325</td>\n",
       "    </tr>\n",
       "    <tr>\n",
       "      <th>1</th>\n",
       "      <td>2</td>\n",
       "      <td>22111</td>\n",
       "    </tr>\n",
       "    <tr>\n",
       "      <th>2</th>\n",
       "      <td>3</td>\n",
       "      <td>31009</td>\n",
       "    </tr>\n",
       "    <tr>\n",
       "      <th>3</th>\n",
       "      <td>4</td>\n",
       "      <td>43172</td>\n",
       "    </tr>\n",
       "    <tr>\n",
       "      <th>4</th>\n",
       "      <td>5</td>\n",
       "      <td>68970</td>\n",
       "    </tr>\n",
       "    <tr>\n",
       "      <th>5</th>\n",
       "      <td>6</td>\n",
       "      <td>94225</td>\n",
       "    </tr>\n",
       "    <tr>\n",
       "      <th>6</th>\n",
       "      <td>7</td>\n",
       "      <td>113210</td>\n",
       "    </tr>\n",
       "    <tr>\n",
       "      <th>7</th>\n",
       "      <td>8</td>\n",
       "      <td>134583</td>\n",
       "    </tr>\n",
       "    <tr>\n",
       "      <th>8</th>\n",
       "      <td>9</td>\n",
       "      <td>153241</td>\n",
       "    </tr>\n",
       "    <tr>\n",
       "      <th>9</th>\n",
       "      <td>10</td>\n",
       "      <td>217284</td>\n",
       "    </tr>\n",
       "    <tr>\n",
       "      <th>10</th>\n",
       "      <td>11</td>\n",
       "      <td>254812</td>\n",
       "    </tr>\n",
       "    <tr>\n",
       "      <th>11</th>\n",
       "      <td>12</td>\n",
       "      <td>299176</td>\n",
       "    </tr>\n",
       "  </tbody>\n",
       "</table>\n",
       "</div>"
      ],
      "text/plain": [
       "    reported_month  gold_mined\n",
       "0                1       10325\n",
       "1                2       22111\n",
       "2                3       31009\n",
       "3                4       43172\n",
       "4                5       68970\n",
       "5                6       94225\n",
       "6                7      113210\n",
       "7                8      134583\n",
       "8                9      153241\n",
       "9               10      217284\n",
       "10              11      254812\n",
       "11              12      299176"
      ]
     },
     "execution_count": 484,
     "metadata": {},
     "output_type": "execute_result"
    }
   ],
   "source": [
    "# К-во золота, добытое по месяцам в 2014 году с использованием 1 инструмента \n",
    "df.query('reported_year == 2014 and hammer_date == \"2014-01-01\"') \\\n",
    "    .groupby('reported_month', as_index=False) \\\n",
    "    .agg({'gold_mined':'sum'})"
   ]
  },
  {
   "cell_type": "code",
   "execution_count": 485,
   "id": "prompt-ensemble",
   "metadata": {},
   "outputs": [
    {
     "data": {
      "text/html": [
       "<div>\n",
       "<style scoped>\n",
       "    .dataframe tbody tr th:only-of-type {\n",
       "        vertical-align: middle;\n",
       "    }\n",
       "\n",
       "    .dataframe tbody tr th {\n",
       "        vertical-align: top;\n",
       "    }\n",
       "\n",
       "    .dataframe thead th {\n",
       "        text-align: right;\n",
       "    }\n",
       "</style>\n",
       "<table border=\"1\" class=\"dataframe\">\n",
       "  <thead>\n",
       "    <tr style=\"text-align: right;\">\n",
       "      <th></th>\n",
       "      <th>reported_month</th>\n",
       "      <th>gold_mined</th>\n",
       "    </tr>\n",
       "  </thead>\n",
       "  <tbody>\n",
       "    <tr>\n",
       "      <th>0</th>\n",
       "      <td>1</td>\n",
       "      <td>293876</td>\n",
       "    </tr>\n",
       "    <tr>\n",
       "      <th>1</th>\n",
       "      <td>2</td>\n",
       "      <td>288118</td>\n",
       "    </tr>\n",
       "    <tr>\n",
       "      <th>2</th>\n",
       "      <td>3</td>\n",
       "      <td>282294</td>\n",
       "    </tr>\n",
       "    <tr>\n",
       "      <th>3</th>\n",
       "      <td>4</td>\n",
       "      <td>277161</td>\n",
       "    </tr>\n",
       "    <tr>\n",
       "      <th>4</th>\n",
       "      <td>5</td>\n",
       "      <td>271531</td>\n",
       "    </tr>\n",
       "    <tr>\n",
       "      <th>5</th>\n",
       "      <td>6</td>\n",
       "      <td>267380</td>\n",
       "    </tr>\n",
       "    <tr>\n",
       "      <th>6</th>\n",
       "      <td>7</td>\n",
       "      <td>261187</td>\n",
       "    </tr>\n",
       "    <tr>\n",
       "      <th>7</th>\n",
       "      <td>8</td>\n",
       "      <td>256345</td>\n",
       "    </tr>\n",
       "  </tbody>\n",
       "</table>\n",
       "</div>"
      ],
      "text/plain": [
       "   reported_month  gold_mined\n",
       "0               1      293876\n",
       "1               2      288118\n",
       "2               3      282294\n",
       "3               4      277161\n",
       "4               5      271531\n",
       "5               6      267380\n",
       "6               7      261187\n",
       "7               8      256345"
      ]
     },
     "execution_count": 485,
     "metadata": {},
     "output_type": "execute_result"
    }
   ],
   "source": [
    "# К-во золота, добытое по месяцам в 2015 году с использованием 1 инструмента \n",
    "df.query('reported_year == 2015 and hammer_date == \"2014-01-01\"') \\\n",
    "    .groupby('reported_month', as_index=False) \\\n",
    "    .agg({'gold_mined':'sum'})"
   ]
  },
  {
   "cell_type": "code",
   "execution_count": 486,
   "id": "wooden-costume",
   "metadata": {},
   "outputs": [
    {
     "data": {
      "text/html": [
       "<div>\n",
       "<style scoped>\n",
       "    .dataframe tbody tr th:only-of-type {\n",
       "        vertical-align: middle;\n",
       "    }\n",
       "\n",
       "    .dataframe tbody tr th {\n",
       "        vertical-align: top;\n",
       "    }\n",
       "\n",
       "    .dataframe thead th {\n",
       "        text-align: right;\n",
       "    }\n",
       "</style>\n",
       "<table border=\"1\" class=\"dataframe\">\n",
       "  <thead>\n",
       "    <tr style=\"text-align: right;\">\n",
       "      <th></th>\n",
       "      <th>reported_month</th>\n",
       "      <th>gold_mined</th>\n",
       "    </tr>\n",
       "  </thead>\n",
       "  <tbody>\n",
       "  </tbody>\n",
       "</table>\n",
       "</div>"
      ],
      "text/plain": [
       "Empty DataFrame\n",
       "Columns: [reported_month, gold_mined]\n",
       "Index: []"
      ]
     },
     "execution_count": 486,
     "metadata": {},
     "output_type": "execute_result"
    }
   ],
   "source": [
    "# К-во золота, добытое по месяцам в 2014 году с использованием 2 инструмента\n",
    "df.query('reported_year == 2014 and hammer_date == \"2015-01-01\"') \\\n",
    "    .groupby('reported_month', as_index=False) \\\n",
    "    .agg({'gold_mined':'sum'})"
   ]
  },
  {
   "cell_type": "code",
   "execution_count": 487,
   "id": "respiratory-threat",
   "metadata": {},
   "outputs": [
    {
     "data": {
      "text/html": [
       "<div>\n",
       "<style scoped>\n",
       "    .dataframe tbody tr th:only-of-type {\n",
       "        vertical-align: middle;\n",
       "    }\n",
       "\n",
       "    .dataframe tbody tr th {\n",
       "        vertical-align: top;\n",
       "    }\n",
       "\n",
       "    .dataframe thead th {\n",
       "        text-align: right;\n",
       "    }\n",
       "</style>\n",
       "<table border=\"1\" class=\"dataframe\">\n",
       "  <thead>\n",
       "    <tr style=\"text-align: right;\">\n",
       "      <th></th>\n",
       "      <th>reported_month</th>\n",
       "      <th>gold_mined</th>\n",
       "    </tr>\n",
       "  </thead>\n",
       "  <tbody>\n",
       "    <tr>\n",
       "      <th>0</th>\n",
       "      <td>1</td>\n",
       "      <td>51451</td>\n",
       "    </tr>\n",
       "    <tr>\n",
       "      <th>1</th>\n",
       "      <td>2</td>\n",
       "      <td>172187</td>\n",
       "    </tr>\n",
       "    <tr>\n",
       "      <th>2</th>\n",
       "      <td>3</td>\n",
       "      <td>235877</td>\n",
       "    </tr>\n",
       "    <tr>\n",
       "      <th>3</th>\n",
       "      <td>4</td>\n",
       "      <td>307665</td>\n",
       "    </tr>\n",
       "    <tr>\n",
       "      <th>4</th>\n",
       "      <td>5</td>\n",
       "      <td>429479</td>\n",
       "    </tr>\n",
       "    <tr>\n",
       "      <th>5</th>\n",
       "      <td>6</td>\n",
       "      <td>580702</td>\n",
       "    </tr>\n",
       "    <tr>\n",
       "      <th>6</th>\n",
       "      <td>7</td>\n",
       "      <td>1021082</td>\n",
       "    </tr>\n",
       "    <tr>\n",
       "      <th>7</th>\n",
       "      <td>8</td>\n",
       "      <td>1296039</td>\n",
       "    </tr>\n",
       "  </tbody>\n",
       "</table>\n",
       "</div>"
      ],
      "text/plain": [
       "   reported_month  gold_mined\n",
       "0               1       51451\n",
       "1               2      172187\n",
       "2               3      235877\n",
       "3               4      307665\n",
       "4               5      429479\n",
       "5               6      580702\n",
       "6               7     1021082\n",
       "7               8     1296039"
      ]
     },
     "execution_count": 487,
     "metadata": {},
     "output_type": "execute_result"
    }
   ],
   "source": [
    "# К-во золота, добытое по месяцам в 2015 году с использованием 2 инструмента\n",
    "df.query('reported_year == 2015 and hammer_date == \"2015-01-01\"') \\\n",
    "    .groupby('reported_month', as_index=False) \\\n",
    "    .agg({'gold_mined':'sum'})"
   ]
  },
  {
   "cell_type": "code",
   "execution_count": 488,
   "id": "martial-supervision",
   "metadata": {},
   "outputs": [
    {
     "data": {
      "text/plain": [
       "17"
      ]
     },
     "execution_count": 488,
     "metadata": {},
     "output_type": "execute_result"
    }
   ],
   "source": [
    "# К-во выполненных работ в январе 2014 года с использованием 1 инструмента\n",
    "df.query('reported_month == 1 and reported_year == 2014 and hammer_date == \"2014-01-01\"') \\\n",
    "    .value_counts().sum()"
   ]
  },
  {
   "cell_type": "code",
   "execution_count": 489,
   "id": "ruled-producer",
   "metadata": {},
   "outputs": [
    {
     "data": {
      "text/plain": [
       "0"
      ]
     },
     "execution_count": 489,
     "metadata": {},
     "output_type": "execute_result"
    }
   ],
   "source": [
    "# К-во выполненных работ в январе 2014 года с использованием 2 инструмента\n",
    "df.query('reported_month == 1 and reported_year == 2014 and hammer_date == \"2015-01-01\"') \\\n",
    "    .value_counts().sum()"
   ]
  },
  {
   "cell_type": "code",
   "execution_count": 490,
   "id": "compliant-helicopter",
   "metadata": {},
   "outputs": [
    {
     "data": {
      "text/plain": [
       "531"
      ]
     },
     "execution_count": 490,
     "metadata": {},
     "output_type": "execute_result"
    }
   ],
   "source": [
    "# К-во выполненных работ в январе 2015 года, принесшие с использованием 1 инструмента\n",
    "df.query('reported_month == 1 and reported_year == 2015 and hammer_date == \"2014-01-01\"') \\\n",
    "    .value_counts().sum()"
   ]
  },
  {
   "cell_type": "code",
   "execution_count": 491,
   "id": "domestic-influence",
   "metadata": {},
   "outputs": [
    {
     "data": {
      "text/plain": [
       "80"
      ]
     },
     "execution_count": 491,
     "metadata": {},
     "output_type": "execute_result"
    }
   ],
   "source": [
    "# К-во выполненных работ в январе 2015 года, принесшие с использованием 2 инструмента\n",
    "df.query('reported_month == 1 and reported_year == 2015 and hammer_date == \"2015-01-01\"') \\\n",
    "    .value_counts().sum()"
   ]
  },
  {
   "cell_type": "code",
   "execution_count": 492,
   "id": "harmful-solution",
   "metadata": {},
   "outputs": [
    {
     "data": {
      "text/plain": [
       "2197892"
      ]
     },
     "execution_count": 492,
     "metadata": {},
     "output_type": "execute_result"
    }
   ],
   "source": [
    "# К-во добытого золота в 2015 году (за 8 месяцев) с использованием 1 инструмента \n",
    "df.query('reported_year == 2015 and hammer_date == \"2014-01-01\"') \\\n",
    "    ['gold_mined'].sum()"
   ]
  },
  {
   "cell_type": "code",
   "execution_count": 493,
   "id": "significant-petite",
   "metadata": {},
   "outputs": [
    {
     "data": {
      "text/plain": [
       "4094482"
      ]
     },
     "execution_count": 493,
     "metadata": {},
     "output_type": "execute_result"
    }
   ],
   "source": [
    "# К-во добытого золота в 2015 году (за 8 месяцев) с использованием 2 инструмента \n",
    "df.query('reported_year == 2015 and hammer_date == \"2015-01-01\"') \\\n",
    "    ['gold_mined'].sum()"
   ]
  },
  {
   "cell_type": "markdown",
   "id": "unauthorized-environment",
   "metadata": {},
   "source": [
    "1) Считаем средний к-во золота на гнома за 1 день. \n",
    "\n",
    "2) Проверяем статистически значимое различие в средних.\n",
    "\n",
    "3) Исключим все отчеты, которые приходили позже 2014-08-31 для группы А, чтобы снизить риск возникновения сезонного фактора."
   ]
  },
  {
   "cell_type": "code",
   "execution_count": 494,
   "id": "exciting-uzbekistan",
   "metadata": {},
   "outputs": [],
   "source": [
    "# Находим время от начала работы до отчета\n",
    "df['distance'] = (df['reported_date'] - df['hired_date']).apply(lambda x: x.days)"
   ]
  },
  {
   "cell_type": "code",
   "execution_count": 495,
   "id": "foster-namibia",
   "metadata": {},
   "outputs": [
    {
     "data": {
      "text/html": [
       "<div>\n",
       "<style scoped>\n",
       "    .dataframe tbody tr th:only-of-type {\n",
       "        vertical-align: middle;\n",
       "    }\n",
       "\n",
       "    .dataframe tbody tr th {\n",
       "        vertical-align: top;\n",
       "    }\n",
       "\n",
       "    .dataframe thead th {\n",
       "        text-align: right;\n",
       "    }\n",
       "</style>\n",
       "<table border=\"1\" class=\"dataframe\">\n",
       "  <thead>\n",
       "    <tr style=\"text-align: right;\">\n",
       "      <th></th>\n",
       "      <th>dwarf_id</th>\n",
       "      <th>hired_date</th>\n",
       "      <th>reported_date</th>\n",
       "      <th>gold_mined</th>\n",
       "      <th>hammer_date</th>\n",
       "      <th>reported_month</th>\n",
       "      <th>reported_year</th>\n",
       "      <th>distance</th>\n",
       "    </tr>\n",
       "  </thead>\n",
       "  <tbody>\n",
       "    <tr>\n",
       "      <th>0</th>\n",
       "      <td>1</td>\n",
       "      <td>2014-01-01</td>\n",
       "      <td>2014-01-31</td>\n",
       "      <td>656</td>\n",
       "      <td>2014-01-01</td>\n",
       "      <td>1</td>\n",
       "      <td>2014</td>\n",
       "      <td>30</td>\n",
       "    </tr>\n",
       "    <tr>\n",
       "      <th>1</th>\n",
       "      <td>1</td>\n",
       "      <td>2014-01-01</td>\n",
       "      <td>2014-02-28</td>\n",
       "      <td>565</td>\n",
       "      <td>2014-01-01</td>\n",
       "      <td>2</td>\n",
       "      <td>2014</td>\n",
       "      <td>58</td>\n",
       "    </tr>\n",
       "    <tr>\n",
       "      <th>2</th>\n",
       "      <td>1</td>\n",
       "      <td>2014-01-01</td>\n",
       "      <td>2014-03-31</td>\n",
       "      <td>516</td>\n",
       "      <td>2014-01-01</td>\n",
       "      <td>3</td>\n",
       "      <td>2014</td>\n",
       "      <td>89</td>\n",
       "    </tr>\n",
       "    <tr>\n",
       "      <th>3</th>\n",
       "      <td>1</td>\n",
       "      <td>2014-01-01</td>\n",
       "      <td>2014-04-30</td>\n",
       "      <td>568</td>\n",
       "      <td>2014-01-01</td>\n",
       "      <td>4</td>\n",
       "      <td>2014</td>\n",
       "      <td>119</td>\n",
       "    </tr>\n",
       "    <tr>\n",
       "      <th>4</th>\n",
       "      <td>1</td>\n",
       "      <td>2014-01-01</td>\n",
       "      <td>2014-05-31</td>\n",
       "      <td>556</td>\n",
       "      <td>2014-01-01</td>\n",
       "      <td>5</td>\n",
       "      <td>2014</td>\n",
       "      <td>150</td>\n",
       "    </tr>\n",
       "  </tbody>\n",
       "</table>\n",
       "</div>"
      ],
      "text/plain": [
       "   dwarf_id hired_date reported_date  gold_mined hammer_date  reported_month  \\\n",
       "0         1 2014-01-01    2014-01-31         656  2014-01-01               1   \n",
       "1         1 2014-01-01    2014-02-28         565  2014-01-01               2   \n",
       "2         1 2014-01-01    2014-03-31         516  2014-01-01               3   \n",
       "3         1 2014-01-01    2014-04-30         568  2014-01-01               4   \n",
       "4         1 2014-01-01    2014-05-31         556  2014-01-01               5   \n",
       "\n",
       "   reported_year  distance  \n",
       "0           2014        30  \n",
       "1           2014        58  \n",
       "2           2014        89  \n",
       "3           2014       119  \n",
       "4           2014       150  "
      ]
     },
     "execution_count": 495,
     "metadata": {},
     "output_type": "execute_result"
    }
   ],
   "source": [
    "df.head()"
   ]
  },
  {
   "cell_type": "code",
   "execution_count": 496,
   "id": "simplified-realtor",
   "metadata": {},
   "outputs": [],
   "source": [
    "#Посмотрим, как меняется доход на пользователя со временем его работы\n",
    "df_distance_2014 = df.query('hammer_date == \"2014-01-01\" and reported_date <\"2014-08-31\"')\\\n",
    "    .groupby('distance', as_index=False)\\\n",
    "    .agg({'gold_mined':'mean'})"
   ]
  },
  {
   "cell_type": "code",
   "execution_count": 497,
   "id": "frequent-object",
   "metadata": {},
   "outputs": [
    {
     "data": {
      "text/html": [
       "<div>\n",
       "<style scoped>\n",
       "    .dataframe tbody tr th:only-of-type {\n",
       "        vertical-align: middle;\n",
       "    }\n",
       "\n",
       "    .dataframe tbody tr th {\n",
       "        vertical-align: top;\n",
       "    }\n",
       "\n",
       "    .dataframe thead th {\n",
       "        text-align: right;\n",
       "    }\n",
       "</style>\n",
       "<table border=\"1\" class=\"dataframe\">\n",
       "  <thead>\n",
       "    <tr style=\"text-align: right;\">\n",
       "      <th></th>\n",
       "      <th>distance</th>\n",
       "      <th>gold_mined</th>\n",
       "    </tr>\n",
       "  </thead>\n",
       "  <tbody>\n",
       "    <tr>\n",
       "      <th>0</th>\n",
       "      <td>27</td>\n",
       "      <td>605.700000</td>\n",
       "    </tr>\n",
       "    <tr>\n",
       "      <th>1</th>\n",
       "      <td>29</td>\n",
       "      <td>599.000000</td>\n",
       "    </tr>\n",
       "    <tr>\n",
       "      <th>2</th>\n",
       "      <td>30</td>\n",
       "      <td>597.937500</td>\n",
       "    </tr>\n",
       "    <tr>\n",
       "      <th>3</th>\n",
       "      <td>58</td>\n",
       "      <td>587.405405</td>\n",
       "    </tr>\n",
       "    <tr>\n",
       "      <th>4</th>\n",
       "      <td>60</td>\n",
       "      <td>584.492063</td>\n",
       "    </tr>\n",
       "  </tbody>\n",
       "</table>\n",
       "</div>"
      ],
      "text/plain": [
       "   distance  gold_mined\n",
       "0        27  605.700000\n",
       "1        29  599.000000\n",
       "2        30  597.937500\n",
       "3        58  587.405405\n",
       "4        60  584.492063"
      ]
     },
     "execution_count": 497,
     "metadata": {},
     "output_type": "execute_result"
    }
   ],
   "source": [
    "df_distance_2014.head()"
   ]
  },
  {
   "cell_type": "code",
   "execution_count": 498,
   "id": "lesbian-cursor",
   "metadata": {},
   "outputs": [
    {
     "data": {
      "text/plain": [
       "<AxesSubplot:xlabel='distance', ylabel='gold_mined'>"
      ]
     },
     "execution_count": 498,
     "metadata": {},
     "output_type": "execute_result"
    },
    {
     "data": {
      "image/png": "[encoded data removed]",
      "text/plain": [
       "<Figure size 720x360 with 1 Axes>"
      ]
     },
     "metadata": {},
     "output_type": "display_data"
    }
   ],
   "source": [
    "sns.lineplot(data=df_distance_2014, x='distance', y='gold_mined')"
   ]
  },
  {
   "cell_type": "code",
   "execution_count": 499,
   "id": "patent-gross",
   "metadata": {},
   "outputs": [
    {
     "data": {
      "text/html": [
       "<div>\n",
       "<style scoped>\n",
       "    .dataframe tbody tr th:only-of-type {\n",
       "        vertical-align: middle;\n",
       "    }\n",
       "\n",
       "    .dataframe tbody tr th {\n",
       "        vertical-align: top;\n",
       "    }\n",
       "\n",
       "    .dataframe thead th {\n",
       "        text-align: right;\n",
       "    }\n",
       "</style>\n",
       "<table border=\"1\" class=\"dataframe\">\n",
       "  <thead>\n",
       "    <tr style=\"text-align: right;\">\n",
       "      <th></th>\n",
       "      <th>distance</th>\n",
       "      <th>gold_mined</th>\n",
       "    </tr>\n",
       "  </thead>\n",
       "  <tbody>\n",
       "    <tr>\n",
       "      <th>0</th>\n",
       "      <td>27</td>\n",
       "      <td>640.602094</td>\n",
       "    </tr>\n",
       "    <tr>\n",
       "      <th>1</th>\n",
       "      <td>29</td>\n",
       "      <td>637.784211</td>\n",
       "    </tr>\n",
       "    <tr>\n",
       "      <th>2</th>\n",
       "      <td>30</td>\n",
       "      <td>638.083175</td>\n",
       "    </tr>\n",
       "    <tr>\n",
       "      <th>3</th>\n",
       "      <td>58</td>\n",
       "      <td>623.726937</td>\n",
       "    </tr>\n",
       "    <tr>\n",
       "      <th>4</th>\n",
       "      <td>60</td>\n",
       "      <td>622.505080</td>\n",
       "    </tr>\n",
       "  </tbody>\n",
       "</table>\n",
       "</div>"
      ],
      "text/plain": [
       "   distance  gold_mined\n",
       "0        27  640.602094\n",
       "1        29  637.784211\n",
       "2        30  638.083175\n",
       "3        58  623.726937\n",
       "4        60  622.505080"
      ]
     },
     "execution_count": 499,
     "metadata": {},
     "output_type": "execute_result"
    }
   ],
   "source": [
    "df_distance_2015 = df.query('hammer_date == \"2015-01-01\" and reported_date >\"2015-01-01\"')\\\n",
    "    .groupby('distance', as_index=False)\\\n",
    "    .agg({'gold_mined':'mean'})\n",
    "df_distance_2015.head()"
   ]
  },
  {
   "cell_type": "code",
   "execution_count": 500,
   "id": "elder-satin",
   "metadata": {},
   "outputs": [
    {
     "data": {
      "text/html": [
       "<div>\n",
       "<style scoped>\n",
       "    .dataframe tbody tr th:only-of-type {\n",
       "        vertical-align: middle;\n",
       "    }\n",
       "\n",
       "    .dataframe tbody tr th {\n",
       "        vertical-align: top;\n",
       "    }\n",
       "\n",
       "    .dataframe thead th {\n",
       "        text-align: right;\n",
       "    }\n",
       "</style>\n",
       "<table border=\"1\" class=\"dataframe\">\n",
       "  <thead>\n",
       "    <tr style=\"text-align: right;\">\n",
       "      <th></th>\n",
       "      <th>distance</th>\n",
       "      <th>gold_mined</th>\n",
       "    </tr>\n",
       "  </thead>\n",
       "  <tbody>\n",
       "    <tr>\n",
       "      <th>0</th>\n",
       "      <td>27</td>\n",
       "      <td>640.602094</td>\n",
       "    </tr>\n",
       "    <tr>\n",
       "      <th>1</th>\n",
       "      <td>29</td>\n",
       "      <td>637.784211</td>\n",
       "    </tr>\n",
       "    <tr>\n",
       "      <th>2</th>\n",
       "      <td>30</td>\n",
       "      <td>638.083175</td>\n",
       "    </tr>\n",
       "    <tr>\n",
       "      <th>3</th>\n",
       "      <td>58</td>\n",
       "      <td>623.726937</td>\n",
       "    </tr>\n",
       "    <tr>\n",
       "      <th>4</th>\n",
       "      <td>60</td>\n",
       "      <td>622.505080</td>\n",
       "    </tr>\n",
       "  </tbody>\n",
       "</table>\n",
       "</div>"
      ],
      "text/plain": [
       "   distance  gold_mined\n",
       "0        27  640.602094\n",
       "1        29  637.784211\n",
       "2        30  638.083175\n",
       "3        58  623.726937\n",
       "4        60  622.505080"
      ]
     },
     "execution_count": 500,
     "metadata": {},
     "output_type": "execute_result"
    }
   ],
   "source": [
    "df_distance_2015.head()"
   ]
  },
  {
   "cell_type": "code",
   "execution_count": 501,
   "id": "activated-invasion",
   "metadata": {},
   "outputs": [
    {
     "data": {
      "text/plain": [
       "<AxesSubplot:xlabel='distance', ylabel='gold_mined'>"
      ]
     },
     "execution_count": 501,
     "metadata": {},
     "output_type": "execute_result"
    },
    {
     "data": {
      "image/png": "[encoded data removed]",
      "text/plain": [
       "<Figure size 720x360 with 1 Axes>"
      ]
     },
     "metadata": {},
     "output_type": "display_data"
    }
   ],
   "source": [
    "sns.lineplot(data=df_distance_2015, x='distance', y='gold_mined')"
   ]
  },
  {
   "cell_type": "code",
   "execution_count": 502,
   "id": "bridal-metallic",
   "metadata": {},
   "outputs": [],
   "source": [
    "df_2014_agg = df.query('hammer_date == \"2014-01-01\" and reported_date < \"2014-08-31\"')\\\n",
    "    .groupby('dwarf_id', as_index=False)\\\n",
    "    .agg({'gold_mined':'sum', 'distance':'max'})\n",
    "\n",
    "df_2014_agg['mean_gold_in_day'] = df_2014_agg['gold_mined'] / df_2014_agg['distance']"
   ]
  },
  {
   "cell_type": "code",
   "execution_count": 503,
   "id": "increased-favorite",
   "metadata": {},
   "outputs": [],
   "source": [
    "df_2015_agg = df.query('hammer_date == \"2015-01-01\" and reported_date > \"2015-01-01\"')\\\n",
    "    .groupby('dwarf_id', as_index=False)\\\n",
    "    .agg({'gold_mined':'sum', 'distance':'max'})\n",
    "\n",
    "df_2015_agg['mean_gold_in_day'] = df_2015_agg['gold_mined'] / df_2015_agg['distance']"
   ]
  },
  {
   "cell_type": "code",
   "execution_count": 504,
   "id": "aggregate-writing",
   "metadata": {},
   "outputs": [
    {
     "data": {
      "text/plain": [
       "19.43211454421569"
      ]
     },
     "execution_count": 504,
     "metadata": {},
     "output_type": "execute_result"
    }
   ],
   "source": [
    "df_2014_agg.mean_gold_in_day.mean()"
   ]
  },
  {
   "cell_type": "code",
   "execution_count": 505,
   "id": "sharing-cream",
   "metadata": {},
   "outputs": [
    {
     "data": {
      "text/plain": [
       "20.482883950543048"
      ]
     },
     "execution_count": 505,
     "metadata": {},
     "output_type": "execute_result"
    }
   ],
   "source": [
    "df_2015_agg.mean_gold_in_day.mean()"
   ]
  },
  {
   "cell_type": "code",
   "execution_count": 506,
   "id": "naval-plant",
   "metadata": {},
   "outputs": [
    {
     "name": "stderr",
     "output_type": "stream",
     "text": [
      "/Library/Frameworks/Python.framework/Versions/3.9/lib/python3.9/site-packages/seaborn/distributions.py:2557: FutureWarning: `distplot` is a deprecated function and will be removed in a future version. Please adapt your code to use either `displot` (a figure-level function with similar flexibility) or `histplot` (an axes-level function for histograms).\n",
      "  warnings.warn(msg, FutureWarning)\n",
      "/Library/Frameworks/Python.framework/Versions/3.9/lib/python3.9/site-packages/seaborn/distributions.py:2557: FutureWarning: `distplot` is a deprecated function and will be removed in a future version. Please adapt your code to use either `displot` (a figure-level function with similar flexibility) or `histplot` (an axes-level function for histograms).\n",
      "  warnings.warn(msg, FutureWarning)\n"
     ]
    },
    {
     "data": {
      "text/plain": [
       "<AxesSubplot:xlabel='mean_gold_in_day', ylabel='Density'>"
      ]
     },
     "execution_count": 506,
     "metadata": {},
     "output_type": "execute_result"
    },
    {
     "data": {
      "image/png": "[encoded data removed]",
      "text/plain": [
       "<Figure size 720x360 with 1 Axes>"
      ]
     },
     "metadata": {},
     "output_type": "display_data"
    }
   ],
   "source": [
    "sns.distplot(df_2014_agg.mean_gold_in_day)\n",
    "sns.distplot(df_2015_agg.mean_gold_in_day)"
   ]
  },
  {
   "cell_type": "markdown",
   "id": "premier-witness",
   "metadata": {},
   "source": [
    "Сформулируем гипотезы:\n",
    "    \n",
    "H0 - между средними двух совокупностей разницы нет.\n",
    "\n",
    "H1 - между средними двух совокупностей есть разница."
   ]
  },
  {
   "cell_type": "code",
   "execution_count": 507,
   "id": "centered-program",
   "metadata": {},
   "outputs": [],
   "source": [
    "# Объявим функцию, которая позволит проверять гипотезы с помощью бутстрапа\n",
    "def get_bootstrap(\n",
    "    group_control, # числовые значения первой выборки\n",
    "    group_test, # числовые значения второй выборки\n",
    "    boot_it = 1000, # количество бутстрэп-подвыборок\n",
    "    statistic = np.mean, # интересующая нас статистика\n",
    "    bootstrap_conf_level = 0.95 # уровень значимости\n",
    "):\n",
    "    boot_len = max([len(group_control), len(group_test)])\n",
    "    boot_data = []\n",
    "    for i in tqdm(range(boot_it)): # извлекаем подвыборки\n",
    "        samples_1 = group_control.sample(\n",
    "            boot_len, \n",
    "            replace = True # параметр возвращения\n",
    "        ).values\n",
    "        \n",
    "        samples_2 = group_test.sample(\n",
    "            boot_len, \n",
    "            replace = True\n",
    "        ).values\n",
    "        \n",
    "        boot_data.append(statistic(samples_1-samples_2)) # mean() - применяем статистику\n",
    "        \n",
    "    pd_boot_data = pd.DataFrame(boot_data)\n",
    "        \n",
    "    left_quant = (1 - bootstrap_conf_level)/2\n",
    "    right_quant = 1 - (1 - bootstrap_conf_level) / 2\n",
    "    ci = pd_boot_data.quantile([left_quant, right_quant])\n",
    "        \n",
    "    p_1 = norm.cdf(\n",
    "        x = 0, \n",
    "        loc = np.mean(boot_data), \n",
    "        scale = np.std(boot_data)\n",
    "    )\n",
    "    p_2 = norm.cdf(\n",
    "        x = 0, \n",
    "        loc = -np.mean(boot_data), \n",
    "        scale = np.std(boot_data)\n",
    "    )\n",
    "    p_value = min(p_1, p_2) * 2\n",
    "        \n",
    "    # Визуализация\n",
    "    plt.hist(pd_boot_data[0], bins = 50)\n",
    "    \n",
    "    plt.style.use('ggplot')\n",
    "    plt.vlines(ci,ymin=0,ymax=50,linestyle='--')\n",
    "    plt.xlabel('boot_data')\n",
    "    plt.ylabel('frequency')\n",
    "    plt.title(\"Histogram of boot_data\")\n",
    "    plt.show()\n",
    "       \n",
    "    return { \n",
    "            \"ci\": ci, \n",
    "            \"p_value\": p_value}"
   ]
  },
  {
   "cell_type": "code",
   "execution_count": 508,
   "id": "distant-graphics",
   "metadata": {},
   "outputs": [
    {
     "data": {
      "application/vnd.jupyter.widget-view+json": {
       "model_id": "580c5f56efc54249b6866ee48e27d6a8",
       "version_major": 2,
       "version_minor": 0
      },
      "text/plain": [
       "  0%|          | 0/2000 [00:00<?, ?it/s]"
      ]
     },
     "metadata": {},
     "output_type": "display_data"
    },
    {
     "data": {
      "image/png": "[encoded data removed]",
      "text/plain": [
       "<Figure size 720x360 with 1 Axes>"
      ]
     },
     "metadata": {},
     "output_type": "display_data"
    },
    {
     "data": {
      "text/plain": [
       "{'ci':               0\n",
       " 0.025 -1.100306\n",
       " 0.975 -0.999794,\n",
       " 'p_value': 0.0}"
      ]
     },
     "execution_count": 508,
     "metadata": {},
     "output_type": "execute_result"
    }
   ],
   "source": [
    "get_bootstrap(df_2014_agg.mean_gold_in_day, df_2015_agg.mean_gold_in_day , boot_it = 2000)"
   ]
  },
  {
   "cell_type": "markdown",
   "id": "sought-chancellor",
   "metadata": {},
   "source": [
    "Отвергаем нулевую гипотезу о равестве средних и принимаем альтернативную гипотезу о том, что в группе Б (инструмент 2 поколения/гномы \"2015 года\") средний сбор золота в день выше."
   ]
  },
  {
   "cell_type": "markdown",
   "id": "loose-conservation",
   "metadata": {},
   "source": [
    "Выводы:\n",
    "\n",
    "1) Необходимо учесть, что золото добывалось в разное время, и так А/Б тест проводить крайне не рекомендуется!\n",
    "Может быть, гномы нашли новый рудникик, и результат зависел не от изменений технологий, а от других факторов. Или, например, в одном из годов была эпидемия, и гномы могли чувствовать себя хуже на фоне болезни.\n",
    "\n",
    "2) Корректный А/Б тест мы бы на одном руднике не смогли провести, поскольку есть риск сетевого эффекта, и могла измениться мотивация для работы одной из групп, и когортный анализ здесь меньшее зло.\n",
    "\n",
    "По итогу - оставляем второе поколение инструментов.Опасения директора не имели под собой основания для беспокойства. "
   ]
  }
 ],
 "metadata": {
  "kernelspec": {
   "display_name": "Python 3",
   "language": "python",
   "name": "python3"
  },
  "language_info": {
   "codemirror_mode": {
    "name": "ipython",
    "version": 3
   },
   "file_extension": ".py",
   "mimetype": "text/x-python",
   "name": "python",
   "nbconvert_exporter": "python",
   "pygments_lexer": "ipython3",
   "version": "3.9.2"
  }
 },
 "nbformat": 4,
 "nbformat_minor": 5
}
