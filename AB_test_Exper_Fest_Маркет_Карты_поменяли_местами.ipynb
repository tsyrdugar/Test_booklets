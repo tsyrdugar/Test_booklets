{
 "cells": [
  {
   "cell_type": "markdown",
   "id": "distinct-piano",
   "metadata": {},
   "source": [
    "### Условие\n",
    "Это задание от команды [EXPF](https://expf.ru/). Компания консультирует и обучает команды в области A/B-экспериментов, анализа данных, разработки и оптимизации метрик.\n",
    "\n",
    "Итак, вы продуктовый аналитик в крупной и известной компании. Ваша задача проверить гипотезу используя знания о статистике. Поехали!\n",
    "\n",
    "**Главная страница Яндекса.** Поменяли местами иконки \"Маркет\" и \"Карты\" над строкой поиска. Необходимо проверить, повлияло ли изменение и стали ли пользователи чаще кликать на иконку \"Маркета\" по возвращению на сайт.\n",
    "\n",
    "Формула кликабельности иконки маркета:\n",
    "\n",
    "$$\\text{CTR} = \\frac{\\sum_{c_{i} \\in C} \\text{Clicks }}{\\sum_{s_{i} \\in S} \\text{Sessions } }$$"
   ]
  },
  {
   "cell_type": "markdown",
   "id": "valued-tiffany",
   "metadata": {},
   "source": [
    "### Описание колонок\n",
    "\n",
    "- `user_id` – идентификатор пользователя\n",
    "- `session_id` – идентификатор сессии\n",
    "- `click_id` – идентификатор клика\n",
    "- `experimentVariant` – вариант эксперимента"
   ]
  },
  {
   "cell_type": "markdown",
   "id": "empty-johnston",
   "metadata": {},
   "source": [
    "### Задача\n",
    "\n",
    "1. Проверьте гипотезу о кликабельности иконки с помощью метрики CTR (click-through-rate)\n",
    "2. Напишите выводы, которые можно сделать на основе анализа результатов"
   ]
  },
  {
   "cell_type": "code",
   "execution_count": 81,
   "id": "athletic-absolute",
   "metadata": {},
   "outputs": [],
   "source": [
    "import pandas as pd\n",
    "import seaborn as sns\n",
    "import matplotlib.pyplot as plt\n",
    "from scipy import stats\n",
    "import numpy as np\n",
    "from tqdm.auto import tqdm\n",
    "\n",
    "plt.style.use('ggplot')"
   ]
  },
  {
   "cell_type": "code",
   "execution_count": 2,
   "id": "virtual-macedonia",
   "metadata": {},
   "outputs": [],
   "source": [
    "url = '/Users/tsyrdugar/Downloads/case_ctr.csv'"
   ]
  },
  {
   "cell_type": "code",
   "execution_count": 3,
   "id": "domestic-longitude",
   "metadata": {},
   "outputs": [],
   "source": [
    "df = pd.read_csv(url, sep=';', index_col=0)"
   ]
  },
  {
   "cell_type": "code",
   "execution_count": 4,
   "id": "excited-victory",
   "metadata": {},
   "outputs": [
    {
     "data": {
      "text/html": [
       "<div>\n",
       "<style scoped>\n",
       "    .dataframe tbody tr th:only-of-type {\n",
       "        vertical-align: middle;\n",
       "    }\n",
       "\n",
       "    .dataframe tbody tr th {\n",
       "        vertical-align: top;\n",
       "    }\n",
       "\n",
       "    .dataframe thead th {\n",
       "        text-align: right;\n",
       "    }\n",
       "</style>\n",
       "<table border=\"1\" class=\"dataframe\">\n",
       "  <thead>\n",
       "    <tr style=\"text-align: right;\">\n",
       "      <th></th>\n",
       "      <th>user_id</th>\n",
       "      <th>session_id</th>\n",
       "      <th>click_id</th>\n",
       "      <th>experimentVariant</th>\n",
       "    </tr>\n",
       "  </thead>\n",
       "  <tbody>\n",
       "    <tr>\n",
       "      <th>1</th>\n",
       "      <td>4299b8c9c50c3e4e8a067f448426463e</td>\n",
       "      <td>08f9c3b0e2ff8da7bad6cc200fa735a2</td>\n",
       "      <td>56bcee80ce68ddc58c178a63288965b2</td>\n",
       "      <td>1</td>\n",
       "    </tr>\n",
       "    <tr>\n",
       "      <th>2</th>\n",
       "      <td>863829e0fc8e0dcd88f44c6a63db836a</td>\n",
       "      <td>d0ebf6ddaa8702e6de4e46854a1136ff</td>\n",
       "      <td>b209c6b14e91606a99d637ff6eb74cc6</td>\n",
       "      <td>1</td>\n",
       "    </tr>\n",
       "    <tr>\n",
       "      <th>3</th>\n",
       "      <td>640af3312483bea44b8159a8caaf0b3d</td>\n",
       "      <td>838c4a718830b5f1ac7be5e70745ff47</td>\n",
       "      <td>3f3d510c709ae5d9bae0331fcf776f3a</td>\n",
       "      <td>1</td>\n",
       "    </tr>\n",
       "    <tr>\n",
       "      <th>4</th>\n",
       "      <td>43de481cae63944b81db6fd5567a12bb</td>\n",
       "      <td>8f36aead1ceafb3e67f9957a7765549e</td>\n",
       "      <td>da73306047217a73a6ee0ea7477f2ad7</td>\n",
       "      <td>0</td>\n",
       "    </tr>\n",
       "    <tr>\n",
       "      <th>5</th>\n",
       "      <td>b84dd1a6c3df2e08eb7bef496cdf6d39</td>\n",
       "      <td>09799cdf1394b0e4b86ace899b7f218e</td>\n",
       "      <td>6e4b93932be600a5536c291888996037</td>\n",
       "      <td>1</td>\n",
       "    </tr>\n",
       "  </tbody>\n",
       "</table>\n",
       "</div>"
      ],
      "text/plain": [
       "                            user_id                        session_id  \\\n",
       "1  4299b8c9c50c3e4e8a067f448426463e  08f9c3b0e2ff8da7bad6cc200fa735a2   \n",
       "2  863829e0fc8e0dcd88f44c6a63db836a  d0ebf6ddaa8702e6de4e46854a1136ff   \n",
       "3  640af3312483bea44b8159a8caaf0b3d  838c4a718830b5f1ac7be5e70745ff47   \n",
       "4  43de481cae63944b81db6fd5567a12bb  8f36aead1ceafb3e67f9957a7765549e   \n",
       "5  b84dd1a6c3df2e08eb7bef496cdf6d39  09799cdf1394b0e4b86ace899b7f218e   \n",
       "\n",
       "                           click_id  experimentVariant  \n",
       "1  56bcee80ce68ddc58c178a63288965b2                  1  \n",
       "2  b209c6b14e91606a99d637ff6eb74cc6                  1  \n",
       "3  3f3d510c709ae5d9bae0331fcf776f3a                  1  \n",
       "4  da73306047217a73a6ee0ea7477f2ad7                  0  \n",
       "5  6e4b93932be600a5536c291888996037                  1  "
      ]
     },
     "execution_count": 4,
     "metadata": {},
     "output_type": "execute_result"
    }
   ],
   "source": [
    "df.head()"
   ]
  },
  {
   "cell_type": "code",
   "execution_count": 6,
   "id": "actual-maple",
   "metadata": {},
   "outputs": [
    {
     "data": {
      "text/plain": [
       "(10000, 4)"
      ]
     },
     "execution_count": 6,
     "metadata": {},
     "output_type": "execute_result"
    }
   ],
   "source": [
    "df.shape"
   ]
  },
  {
   "cell_type": "code",
   "execution_count": 9,
   "id": "adolescent-victorian",
   "metadata": {},
   "outputs": [
    {
     "data": {
      "text/plain": [
       "467"
      ]
     },
     "execution_count": 9,
     "metadata": {},
     "output_type": "execute_result"
    }
   ],
   "source": [
    "df.duplicated().sum()"
   ]
  },
  {
   "cell_type": "code",
   "execution_count": 10,
   "id": "military-kazakhstan",
   "metadata": {},
   "outputs": [
    {
     "name": "stdout",
     "output_type": "stream",
     "text": [
      "<class 'pandas.core.frame.DataFrame'>\n",
      "Int64Index: 10000 entries, 1 to 10000\n",
      "Data columns (total 4 columns):\n",
      " #   Column             Non-Null Count  Dtype \n",
      "---  ------             --------------  ----- \n",
      " 0   user_id            10000 non-null  object\n",
      " 1   session_id         10000 non-null  object\n",
      " 2   click_id           7655 non-null   object\n",
      " 3   experimentVariant  10000 non-null  int64 \n",
      "dtypes: int64(1), object(3)\n",
      "memory usage: 390.6+ KB\n"
     ]
    }
   ],
   "source": [
    "df.info()"
   ]
  },
  {
   "cell_type": "code",
   "execution_count": 11,
   "id": "placed-contrary",
   "metadata": {},
   "outputs": [
    {
     "data": {
      "text/plain": [
       "user_id                 0\n",
       "session_id              0\n",
       "click_id             2345\n",
       "experimentVariant       0\n",
       "dtype: int64"
      ]
     },
     "execution_count": 11,
     "metadata": {},
     "output_type": "execute_result"
    }
   ],
   "source": [
    "df.isna().sum()"
   ]
  },
  {
   "cell_type": "code",
   "execution_count": 12,
   "id": "constant-surgery",
   "metadata": {},
   "outputs": [
    {
     "data": {
      "text/plain": [
       "user_id              object\n",
       "session_id           object\n",
       "click_id             object\n",
       "experimentVariant     int64\n",
       "dtype: object"
      ]
     },
     "execution_count": 12,
     "metadata": {},
     "output_type": "execute_result"
    }
   ],
   "source": [
    "df.dtypes"
   ]
  },
  {
   "cell_type": "code",
   "execution_count": 13,
   "id": "biblical-fashion",
   "metadata": {},
   "outputs": [
    {
     "data": {
      "text/plain": [
       "2246"
      ]
     },
     "execution_count": 13,
     "metadata": {},
     "output_type": "execute_result"
    }
   ],
   "source": [
    "# Количество уникальных юзеров\n",
    "df['user_id'].nunique()"
   ]
  },
  {
   "cell_type": "code",
   "execution_count": 86,
   "id": "tamil-virginia",
   "metadata": {},
   "outputs": [
    {
     "data": {
      "text/html": [
       "<div>\n",
       "<style scoped>\n",
       "    .dataframe tbody tr th:only-of-type {\n",
       "        vertical-align: middle;\n",
       "    }\n",
       "\n",
       "    .dataframe tbody tr th {\n",
       "        vertical-align: top;\n",
       "    }\n",
       "\n",
       "    .dataframe thead th {\n",
       "        text-align: right;\n",
       "    }\n",
       "</style>\n",
       "<table border=\"1\" class=\"dataframe\">\n",
       "  <thead>\n",
       "    <tr style=\"text-align: right;\">\n",
       "      <th></th>\n",
       "      <th>user_id</th>\n",
       "    </tr>\n",
       "    <tr>\n",
       "      <th>experimentVariant</th>\n",
       "      <th></th>\n",
       "    </tr>\n",
       "  </thead>\n",
       "  <tbody>\n",
       "    <tr>\n",
       "      <th>0</th>\n",
       "      <td>5112</td>\n",
       "    </tr>\n",
       "    <tr>\n",
       "      <th>1</th>\n",
       "      <td>4888</td>\n",
       "    </tr>\n",
       "  </tbody>\n",
       "</table>\n",
       "</div>"
      ],
      "text/plain": [
       "                   user_id\n",
       "experimentVariant         \n",
       "0                     5112\n",
       "1                     4888"
      ]
     },
     "execution_count": 86,
     "metadata": {},
     "output_type": "execute_result"
    }
   ],
   "source": [
    "df.groupby('experimentVariant') \\\n",
    "    .agg({'user_id':'count'})"
   ]
  },
  {
   "cell_type": "code",
   "execution_count": 41,
   "id": "architectural-whale",
   "metadata": {},
   "outputs": [],
   "source": [
    "# К-во кликов и сессий по юзерам в контрольной группе\n",
    "control = df[df['experimentVariant'] == 0] \\\n",
    "    .groupby('user_id', as_index=False) \\\n",
    "    .agg({'click_id':'count', 'session_id':'count'}) \\\n",
    "    .rename({'click_id':'clicks', 'session_id':'sessions'}, axis=1)"
   ]
  },
  {
   "cell_type": "code",
   "execution_count": 42,
   "id": "adequate-swaziland",
   "metadata": {},
   "outputs": [],
   "source": [
    "# К-во кликов и сессий по юзерам в тестовой группе\n",
    "test = df[df['experimentVariant'] == 1] \\\n",
    "    .groupby('user_id', as_index=False) \\\n",
    "    .agg({'click_id':'count', 'session_id':'count'}) \\\n",
    "    .rename({'click_id':'clicks', 'session_id':'sessions'}, axis=1)"
   ]
  },
  {
   "cell_type": "code",
   "execution_count": 102,
   "id": "fewer-webster",
   "metadata": {},
   "outputs": [
    {
     "data": {
      "text/plain": [
       "(1129, 4)"
      ]
     },
     "execution_count": 102,
     "metadata": {},
     "output_type": "execute_result"
    }
   ],
   "source": [
    "# Размер выборки в контроле\n",
    "control.shape"
   ]
  },
  {
   "cell_type": "code",
   "execution_count": 103,
   "id": "comfortable-exclusion",
   "metadata": {},
   "outputs": [
    {
     "data": {
      "text/plain": [
       "(1117, 4)"
      ]
     },
     "execution_count": 103,
     "metadata": {},
     "output_type": "execute_result"
    }
   ],
   "source": [
    "# Размер выборки в тесте\n",
    "test.shape"
   ]
  },
  {
   "cell_type": "code",
   "execution_count": 63,
   "id": "hearing-sacrifice",
   "metadata": {},
   "outputs": [],
   "source": [
    "# CTR в контроле\n",
    "control = control.assign(ctr = control['clicks']/control['sessions'])"
   ]
  },
  {
   "cell_type": "code",
   "execution_count": 64,
   "id": "authentic-sally",
   "metadata": {},
   "outputs": [],
   "source": [
    "# CTR в тесте\n",
    "test = test.assign(ctr = test['clicks']/test['sessions'])"
   ]
  },
  {
   "cell_type": "code",
   "execution_count": 95,
   "id": "induced-charleston",
   "metadata": {},
   "outputs": [
    {
     "name": "stderr",
     "output_type": "stream",
     "text": [
      "/Library/Frameworks/Python.framework/Versions/3.9/lib/python3.9/site-packages/seaborn/distributions.py:2557: FutureWarning: `distplot` is a deprecated function and will be removed in a future version. Please adapt your code to use either `displot` (a figure-level function with similar flexibility) or `histplot` (an axes-level function for histograms).\n",
      "  warnings.warn(msg, FutureWarning)\n"
     ]
    },
    {
     "data": {
      "text/plain": [
       "<AxesSubplot:xlabel='ctr'>"
      ]
     },
     "execution_count": 95,
     "metadata": {},
     "output_type": "execute_result"
    },
    {
     "data": {
      "image/png": "[encoded data removed]",
      "text/plain": [
       "<Figure size 432x288 with 1 Axes>"
      ]
     },
     "metadata": {},
     "output_type": "display_data"
    }
   ],
   "source": [
    "# Распределение CTR в контроле \n",
    "sns.distplot(control.ctr, kde=False)"
   ]
  },
  {
   "cell_type": "code",
   "execution_count": 96,
   "id": "narrative-basket",
   "metadata": {},
   "outputs": [
    {
     "data": {
      "text/plain": [
       "<AxesSubplot:xlabel='ctr'>"
      ]
     },
     "execution_count": 96,
     "metadata": {},
     "output_type": "execute_result"
    },
    {
     "data": {
      "image/png": "[encoded data removed]",
      "text/plain": [
       "<Figure size 432x288 with 1 Axes>"
      ]
     },
     "metadata": {},
     "output_type": "display_data"
    }
   ],
   "source": [
    "# Распределение CTR в тесте \n",
    "sns.distplot(test.ctr, kde=False)"
   ]
  },
  {
   "cell_type": "code",
   "execution_count": 136,
   "id": "sharp-ensemble",
   "metadata": {},
   "outputs": [
    {
     "name": "stderr",
     "output_type": "stream",
     "text": [
      "/Library/Frameworks/Python.framework/Versions/3.9/lib/python3.9/site-packages/seaborn/distributions.py:2557: FutureWarning: `distplot` is a deprecated function and will be removed in a future version. Please adapt your code to use either `displot` (a figure-level function with similar flexibility) or `histplot` (an axes-level function for histograms).\n",
      "  warnings.warn(msg, FutureWarning)\n"
     ]
    },
    {
     "data": {
      "image/png": "[encoded data removed]",
      "text/plain": [
       "<Figure size 432x288 with 1 Axes>"
      ]
     },
     "metadata": {},
     "output_type": "display_data"
    }
   ],
   "source": [
    "# Попытка логарифмировать ctr не привела к тому, что распределение напоминало бы нормальное\n",
    "sns.distplot(np.log(test[test['ctr'] > 0]['ctr']), kde=False);\n",
    "plt.xlabel('log(str)');"
   ]
  },
  {
   "cell_type": "code",
   "execution_count": 137,
   "id": "crucial-wallpaper",
   "metadata": {},
   "outputs": [
    {
     "name": "stderr",
     "output_type": "stream",
     "text": [
      "/Library/Frameworks/Python.framework/Versions/3.9/lib/python3.9/site-packages/seaborn/distributions.py:2557: FutureWarning: `distplot` is a deprecated function and will be removed in a future version. Please adapt your code to use either `displot` (a figure-level function with similar flexibility) or `histplot` (an axes-level function for histograms).\n",
      "  warnings.warn(msg, FutureWarning)\n"
     ]
    },
    {
     "data": {
      "text/plain": [
       "Text(0.5, 0, 'log(str)')"
      ]
     },
     "execution_count": 137,
     "metadata": {},
     "output_type": "execute_result"
    },
    {
     "data": {
      "image/png": "[encoded data removed]",
      "text/plain": [
       "<Figure size 432x288 with 1 Axes>"
      ]
     },
     "metadata": {},
     "output_type": "display_data"
    }
   ],
   "source": [
    "# Попытка логарифмировать ctr не привела к тому, что распределение напоминало бы нормальное\n",
    "sns.distplot(np.log(control[control['ctr'] > 0]['ctr']), kde=False)\n",
    "plt.xlabel('log(str)')"
   ]
  },
  {
   "cell_type": "markdown",
   "id": "polished-netscape",
   "metadata": {},
   "source": [
    "**Описательные статистики clicks, sessions и CTR.**"
   ]
  },
  {
   "cell_type": "markdown",
   "id": "formal-dakota",
   "metadata": {},
   "source": [
    "*Медиана в контроле*"
   ]
  },
  {
   "cell_type": "code",
   "execution_count": 99,
   "id": "behind-interpretation",
   "metadata": {},
   "outputs": [
    {
     "data": {
      "text/plain": [
       "4.0"
      ]
     },
     "execution_count": 99,
     "metadata": {},
     "output_type": "execute_result"
    }
   ],
   "source": [
    "control['sessions'].median()"
   ]
  },
  {
   "cell_type": "code",
   "execution_count": 100,
   "id": "brilliant-vacation",
   "metadata": {},
   "outputs": [
    {
     "data": {
      "text/plain": [
       "3.0"
      ]
     },
     "execution_count": 100,
     "metadata": {},
     "output_type": "execute_result"
    }
   ],
   "source": [
    "control['clicks'].median()"
   ]
  },
  {
   "cell_type": "code",
   "execution_count": 101,
   "id": "illegal-madison",
   "metadata": {},
   "outputs": [
    {
     "data": {
      "text/plain": [
       "0.8"
      ]
     },
     "execution_count": 101,
     "metadata": {},
     "output_type": "execute_result"
    }
   ],
   "source": [
    "control['ctr'].median()"
   ]
  },
  {
   "cell_type": "markdown",
   "id": "historical-reservoir",
   "metadata": {},
   "source": [
    "*Медиана в тесте*"
   ]
  },
  {
   "cell_type": "code",
   "execution_count": 104,
   "id": "functioning-plastic",
   "metadata": {},
   "outputs": [
    {
     "data": {
      "text/plain": [
       "4.0"
      ]
     },
     "execution_count": 104,
     "metadata": {},
     "output_type": "execute_result"
    }
   ],
   "source": [
    "test['sessions'].median()"
   ]
  },
  {
   "cell_type": "code",
   "execution_count": 105,
   "id": "common-registrar",
   "metadata": {},
   "outputs": [
    {
     "data": {
      "text/plain": [
       "3.0"
      ]
     },
     "execution_count": 105,
     "metadata": {},
     "output_type": "execute_result"
    }
   ],
   "source": [
    "test['clicks'].median()"
   ]
  },
  {
   "cell_type": "code",
   "execution_count": 106,
   "id": "immediate-senate",
   "metadata": {},
   "outputs": [
    {
     "data": {
      "text/plain": [
       "0.8"
      ]
     },
     "execution_count": 106,
     "metadata": {},
     "output_type": "execute_result"
    }
   ],
   "source": [
    "test['ctr'].median()"
   ]
  },
  {
   "cell_type": "markdown",
   "id": "mounted-summer",
   "metadata": {},
   "source": [
    "## Тестирование гипотез"
   ]
  },
  {
   "cell_type": "markdown",
   "id": "heavy-modification",
   "metadata": {},
   "source": [
    "***H0: Различий в тестовой и контрольной группе нет***\n",
    "\n",
    "***H1: Различия есть***"
   ]
  },
  {
   "cell_type": "markdown",
   "id": "ongoing-behavior",
   "metadata": {},
   "source": [
    "*Тест Шапиро-Уилки для проверки на нормальность*"
   ]
  },
  {
   "cell_type": "code",
   "execution_count": 111,
   "id": "checked-taste",
   "metadata": {},
   "outputs": [
    {
     "name": "stdout",
     "output_type": "stream",
     "text": [
      "при p-value, равным 4.128236007969184e-31, распределение НЕ нормальное\n"
     ]
    }
   ],
   "source": [
    "statistic, p_value = stats.shapiro(control['ctr'])\n",
    "alpha = 0.05\n",
    "if p_value > alpha:\n",
    "    print(f\"при p-value, равным {p_value}, распределение нормальное\")\n",
    "else:\n",
    "    print(f\"при p-value, равным {p_value}, распределение НЕ нормальное\")"
   ]
  },
  {
   "cell_type": "markdown",
   "id": "arctic-pendant",
   "metadata": {},
   "source": [
    "*Поскольку нашей основой метрикой А/B теста является CTR и распределение CTR является ненормальным, \n",
    "\n",
    "воспользуемся U-тестом Манна-Уитни*"
   ]
  },
  {
   "cell_type": "code",
   "execution_count": 113,
   "id": "wrapped-proof",
   "metadata": {},
   "outputs": [
    {
     "name": "stdout",
     "output_type": "stream",
     "text": [
      "при p-value, равным 0.07842795146979505, Отклонить H0 не можем\n"
     ]
    }
   ],
   "source": [
    "statistic, p_value = stats.mannwhitneyu(control['ctr'], test['ctr'])\n",
    "alpha = 0.05\n",
    "if p_value > alpha:\n",
    "    print(f\"при p-value, равным {p_value}, Отклонить H0 не можем\")\n",
    "else:\n",
    "    print(f\"при p-value, равным {p_value}, Можем отклонить H0\")"
   ]
  },
  {
   "cell_type": "markdown",
   "id": "prospective-driving",
   "metadata": {},
   "source": [
    "*T-тест Стьюдента для проверки средних*"
   ]
  },
  {
   "cell_type": "code",
   "execution_count": 114,
   "id": "shaped-replacement",
   "metadata": {},
   "outputs": [
    {
     "name": "stdout",
     "output_type": "stream",
     "text": [
      "при p-value, равным 0.16567637669761343, Отклонить H0 не можем\n"
     ]
    }
   ],
   "source": [
    "statistic, p_value = stats.ttest_ind(control['ctr'], test['ctr'])\n",
    "alpha = 0.05\n",
    "if p_value > alpha:\n",
    "    print(f\"при p-value, равным {p_value}, Отклонить H0 не можем\")\n",
    "else:\n",
    "    print(f\"при p-value, равным {p_value}, Можем отклонить H0\")"
   ]
  },
  {
   "cell_type": "markdown",
   "id": "swedish-benjamin",
   "metadata": {},
   "source": [
    "*Бутстрап для средних в двух группах*"
   ]
  },
  {
   "cell_type": "code",
   "execution_count": 82,
   "id": "acoustic-melbourne",
   "metadata": {},
   "outputs": [],
   "source": [
    "#function for MEAN\n",
    "def get_bootstap_mean(\n",
    "    data_column_1, \n",
    "    data_column_2,\n",
    "    boot_it = 1000,\n",
    "    statistic = np.mean, \n",
    "    bootstrap_conf_level = 0.95):\n",
    "    \n",
    "    boot_len = max([len(data_column_1), len(data_column_2)])\n",
    "    boot_data = []\n",
    "    \n",
    "    for i in tqdm(range(boot_it)):\n",
    "        sample_1 = data_column_1.sample(boot_len, replace = True).values\n",
    "        sample_2 = data_column_2.sample(boot_len, replace = True).values\n",
    "        \n",
    "        boot_data.append(statistic(sample_1 - sample_2))\n",
    "    \n",
    "    pd_boot_data = pd.DataFrame(boot_data)\n",
    "    \n",
    "    left_quantile = (1 - bootstrap_conf_level) / 2\n",
    "    right_quantile = 1 - (1 - bootstrap_conf_level) / 2\n",
    "    ci = pd_boot_data.quantile([left_quantile, right_quantile])\n",
    "    \n",
    "    p_1 = stats.norm.cdf(x = 0, loc = np.mean(boot_data), scale = np.std(boot_data))\n",
    "    p_2 = stats.norm.cdf(x = 0, loc = - np.mean(boot_data), scale = np.std(boot_data))\n",
    "    \n",
    "    p_value = min(p_1, p_2) * 2\n",
    "\n",
    "    \n",
    "    \n",
    "    return {'ci' : ci, \n",
    "          'p_value' : p_value}"
   ]
  },
  {
   "cell_type": "code",
   "execution_count": 125,
   "id": "hawaiian-elimination",
   "metadata": {},
   "outputs": [
    {
     "data": {
      "application/vnd.jupyter.widget-view+json": {
       "model_id": "325a51deea1c45a28c7d73a238b7b048",
       "version_major": 2,
       "version_minor": 0
      },
      "text/plain": [
       "  0%|          | 0/1000 [00:00<?, ?it/s]"
      ]
     },
     "metadata": {},
     "output_type": "display_data"
    },
    {
     "data": {
      "text/plain": [
       "{'ci':               0\n",
       " 0.025 -0.034109\n",
       " 0.975  0.005279,\n",
       " 'p_value': 0.1666581338861456}"
      ]
     },
     "execution_count": 125,
     "metadata": {},
     "output_type": "execute_result"
    }
   ],
   "source": [
    "get_bootstap_mean(test['ctr'], control['ctr'])"
   ]
  },
  {
   "cell_type": "markdown",
   "id": "expressed-indiana",
   "metadata": {},
   "source": [
    "**Вывод:** Все три теста показали, что статистически значимых различий в двух группах по метрике CTR нет.\n",
    "\n",
    "Означает ли это, что в реальности различий нет? Может быть, мы совершаем ошибку II рода? Различия есть, но обнаружить их мы не смогли?"
   ]
  },
  {
   "cell_type": "code",
   "execution_count": null,
   "id": "complimentary-yellow",
   "metadata": {},
   "outputs": [],
   "source": []
  },
  {
   "cell_type": "code",
   "execution_count": null,
   "id": "combined-resident",
   "metadata": {},
   "outputs": [],
   "source": []
  },
  {
   "cell_type": "code",
   "execution_count": null,
   "id": "visible-charleston",
   "metadata": {},
   "outputs": [],
   "source": []
  },
  {
   "cell_type": "code",
   "execution_count": null,
   "id": "alone-implement",
   "metadata": {},
   "outputs": [],
   "source": []
  }
 ],
 "metadata": {
  "kernelspec": {
   "display_name": "Python 3",
   "language": "python",
   "name": "python3"
  },
  "language_info": {
   "codemirror_mode": {
    "name": "ipython",
    "version": 3
   },
   "file_extension": ".py",
   "mimetype": "text/x-python",
   "name": "python",
   "nbconvert_exporter": "python",
   "pygments_lexer": "ipython3",
   "version": "3.9.2"
  }
 },
 "nbformat": 4,
 "nbformat_minor": 5
}
